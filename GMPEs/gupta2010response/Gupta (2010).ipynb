{
 "cells": [
  {
   "cell_type": "markdown",
   "metadata": {},
   "source": [
    "# Gupta (2010)\n",
    "\n",
    "In which the GMPE of Gupta (2010) is implemented. First coefficient tables are reprocessed for cut & paste in to the .py source code. The author kindly provided test vectors, so they are graphically compared to the implementation."
   ]
  },
  {
   "cell_type": "code",
   "execution_count": 1,
   "metadata": {
    "collapsed": true
   },
   "outputs": [],
   "source": [
    "%matplotlib inline\n",
    "%load_ext autoreload\n",
    "%autoreload 2"
   ]
  },
  {
   "cell_type": "markdown",
   "metadata": {},
   "source": [
    "## Processing of coefficients"
   ]
  },
  {
   "cell_type": "code",
   "execution_count": 2,
   "metadata": {
    "collapsed": true
   },
   "outputs": [],
   "source": [
    "import os\n",
    "import sys\n",
    "import glob\n",
    "import warnings\n",
    "import importlib\n",
    "import matplotlib.pyplot as plt\n",
    "from matplotlib.offsetbox import AnchoredText\n",
    "from IPython.display import display\n",
    "from scipy.constants import g\n",
    "import numpy as np\n",
    "\n",
    "import pandas as pd\n",
    "\n",
    "from openquake.hazardlib import imt"
   ]
  },
  {
   "cell_type": "code",
   "execution_count": 3,
   "metadata": {
    "collapsed": true
   },
   "outputs": [],
   "source": [
    "sys.path.append('../../utilities')\n",
    "import toolbox as tb\n",
    "import gmpe_tools as gt"
   ]
  },
  {
   "cell_type": "code",
   "execution_count": 4,
   "metadata": {},
   "outputs": [
    {
     "name": "stderr",
     "output_type": "stream",
     "text": [
      "/home/nick/anaconda3/envs/oq-dev/lib/python3.5/site-packages/pandas/util/_decorators.py:118: FutureWarning: The `sheetname` keyword is deprecated, use `sheet_name` instead\n",
      "  return func(*args, **kwargs)\n"
     ]
    }
   ],
   "source": [
    "tables_file = 'Tables/Tables.xlsx'\n",
    "tables_dir = os.path.split(tables_file)[0]\n",
    "table_numbers = [4]\n",
    "\n",
    "coeffs_dfs = [pd.read_excel(tables_file, sheetname='Table%d' % num, skiprows=1) \n",
    "               for num in table_numbers]\n",
    "coeffs_txts = [os.path.join(tables_dir, 'Table%d.txt' % num) \n",
    "               for num in table_numbers]\n",
    "\n",
    "for coeffs_df, coeffs_txt in zip(coeffs_dfs, coeffs_txts):\n",
    "    with open(coeffs_txt, 'w') as f:\n",
    "        f.write(coeffs_df.to_string(index=False))\n",
    "\n",
    "coeffs_df = coeffs_dfs[0]\n",
    "coeffs_df.set_index(keys='IMT', inplace=True)"
   ]
  },
  {
   "cell_type": "code",
   "execution_count": 5,
   "metadata": {},
   "outputs": [
    {
     "data": {
      "text/html": [
       "<div>\n",
       "<style scoped>\n",
       "    .dataframe tbody tr th:only-of-type {\n",
       "        vertical-align: middle;\n",
       "    }\n",
       "\n",
       "    .dataframe tbody tr th {\n",
       "        vertical-align: top;\n",
       "    }\n",
       "\n",
       "    .dataframe thead th {\n",
       "        text-align: right;\n",
       "    }\n",
       "</style>\n",
       "<table border=\"1\" class=\"dataframe\">\n",
       "  <thead>\n",
       "    <tr style=\"text-align: right;\">\n",
       "      <th></th>\n",
       "      <th>c1</th>\n",
       "      <th>c2</th>\n",
       "      <th>c3</th>\n",
       "      <th>c4</th>\n",
       "      <th>c5</th>\n",
       "      <th>c6</th>\n",
       "      <th>c7</th>\n",
       "      <th>c8</th>\n",
       "      <th>sigma</th>\n",
       "    </tr>\n",
       "    <tr>\n",
       "      <th>IMT</th>\n",
       "      <th></th>\n",
       "      <th></th>\n",
       "      <th></th>\n",
       "      <th></th>\n",
       "      <th></th>\n",
       "      <th></th>\n",
       "      <th></th>\n",
       "      <th></th>\n",
       "      <th></th>\n",
       "    </tr>\n",
       "  </thead>\n",
       "  <tbody>\n",
       "    <tr>\n",
       "      <th>0.02</th>\n",
       "      <td>0.4598</td>\n",
       "      <td>0.69090</td>\n",
       "      <td>0.01130</td>\n",
       "      <td>-0.00202</td>\n",
       "      <td>0.19</td>\n",
       "      <td>0.24</td>\n",
       "      <td>0.29</td>\n",
       "      <td>-0.3312</td>\n",
       "      <td>0.347</td>\n",
       "    </tr>\n",
       "    <tr>\n",
       "      <th>0.04</th>\n",
       "      <td>0.7382</td>\n",
       "      <td>0.63273</td>\n",
       "      <td>0.01275</td>\n",
       "      <td>-0.00234</td>\n",
       "      <td>0.15</td>\n",
       "      <td>0.20</td>\n",
       "      <td>0.20</td>\n",
       "      <td>-0.3090</td>\n",
       "      <td>0.343</td>\n",
       "    </tr>\n",
       "    <tr>\n",
       "      <th>0.10</th>\n",
       "      <td>1.0081</td>\n",
       "      <td>0.66675</td>\n",
       "      <td>0.01080</td>\n",
       "      <td>-0.00219</td>\n",
       "      <td>0.15</td>\n",
       "      <td>0.23</td>\n",
       "      <td>0.20</td>\n",
       "      <td>-0.3005</td>\n",
       "      <td>0.341</td>\n",
       "    </tr>\n",
       "    <tr>\n",
       "      <th>0.20</th>\n",
       "      <td>1.2227</td>\n",
       "      <td>0.69186</td>\n",
       "      <td>0.00572</td>\n",
       "      <td>-0.00192</td>\n",
       "      <td>0.15</td>\n",
       "      <td>0.27</td>\n",
       "      <td>0.25</td>\n",
       "      <td>-0.4001</td>\n",
       "      <td>0.340</td>\n",
       "    </tr>\n",
       "    <tr>\n",
       "      <th>0.40</th>\n",
       "      <td>0.8798</td>\n",
       "      <td>0.77270</td>\n",
       "      <td>0.00173</td>\n",
       "      <td>-0.00178</td>\n",
       "      <td>0.13</td>\n",
       "      <td>0.37</td>\n",
       "      <td>0.38</td>\n",
       "      <td>-0.4408</td>\n",
       "      <td>0.341</td>\n",
       "    </tr>\n",
       "    <tr>\n",
       "      <th>1.00</th>\n",
       "      <td>-0.3339</td>\n",
       "      <td>0.87890</td>\n",
       "      <td>0.00130</td>\n",
       "      <td>-0.00173</td>\n",
       "      <td>0.10</td>\n",
       "      <td>0.30</td>\n",
       "      <td>0.55</td>\n",
       "      <td>-0.3380</td>\n",
       "      <td>0.344</td>\n",
       "    </tr>\n",
       "    <tr>\n",
       "      <th>2.00</th>\n",
       "      <td>-2.0677</td>\n",
       "      <td>0.99640</td>\n",
       "      <td>0.00364</td>\n",
       "      <td>-0.00118</td>\n",
       "      <td>0.10</td>\n",
       "      <td>0.25</td>\n",
       "      <td>0.40</td>\n",
       "      <td>-0.2674</td>\n",
       "      <td>0.347</td>\n",
       "    </tr>\n",
       "    <tr>\n",
       "      <th>3.00</th>\n",
       "      <td>-3.4227</td>\n",
       "      <td>1.11690</td>\n",
       "      <td>0.00615</td>\n",
       "      <td>-0.00045</td>\n",
       "      <td>0.10</td>\n",
       "      <td>0.25</td>\n",
       "      <td>0.36</td>\n",
       "      <td>-0.3942</td>\n",
       "      <td>0.351</td>\n",
       "    </tr>\n",
       "  </tbody>\n",
       "</table>\n",
       "</div>"
      ],
      "text/plain": [
       "          c1       c2       c3       c4    c5    c6    c7      c8  sigma\n",
       "IMT                                                                     \n",
       "0.02  0.4598  0.69090  0.01130 -0.00202  0.19  0.24  0.29 -0.3312  0.347\n",
       "0.04  0.7382  0.63273  0.01275 -0.00234  0.15  0.20  0.20 -0.3090  0.343\n",
       "0.10  1.0081  0.66675  0.01080 -0.00219  0.15  0.23  0.20 -0.3005  0.341\n",
       "0.20  1.2227  0.69186  0.00572 -0.00192  0.15  0.27  0.25 -0.4001  0.340\n",
       "0.40  0.8798  0.77270  0.00173 -0.00178  0.13  0.37  0.38 -0.4408  0.341\n",
       "1.00 -0.3339  0.87890  0.00130 -0.00173  0.10  0.30  0.55 -0.3380  0.344\n",
       "2.00 -2.0677  0.99640  0.00364 -0.00118  0.10  0.25  0.40 -0.2674  0.347\n",
       "3.00 -3.4227  1.11690  0.00615 -0.00045  0.10  0.25  0.36 -0.3942  0.351"
      ]
     },
     "execution_count": 5,
     "metadata": {},
     "output_type": "execute_result"
    }
   ],
   "source": [
    "coeffs_df"
   ]
  },
  {
   "cell_type": "code",
   "execution_count": 6,
   "metadata": {},
   "outputs": [
    {
     "name": "stderr",
     "output_type": "stream",
     "text": [
      "/home/nick/anaconda3/envs/oq-dev/lib/python3.5/site-packages/pandas/plotting/_core.py:1714: UserWarning: Pandas doesn't allow columns to be created via a new attribute name - see https://pandas.pydata.org/pandas-docs/stable/indexing.html#attribute-access\n",
      "  series.name = label\n"
     ]
    },
    {
     "data": {
      "image/png": "[encoded data removed]",
      "text/plain": [
       "<matplotlib.figure.Figure at 0x7fcaf1d1e400>"
      ]
     },
     "metadata": {},
     "output_type": "display_data"
    }
   ],
   "source": [
    "sa_df = coeffs_df.copy()\n",
    "sa_df['T (s)'] = sa_df.index.values\n",
    "fig, axes = plt.subplots(2, 2, figsize=(8, 10), sharex=True)\n",
    "fig.subplots_adjust(hspace=0)\n",
    "sa_df.plot(y=['c1', 'c2',], ax=axes[0, 0], logx=True)\n",
    "sa_df.plot(x='T (s)', y=['c3', 'c4'], ax=axes[0, 1], logx=True)\n",
    "sa_df.plot(x='T (s)', y=['c5', 'c6', 'c7', 'sigma'], ax=axes[1, 0], logx=True)\n",
    "sa_df.plot(x='T (s)', y=['c8'], ax=axes[1, 1], logx=True)\n",
    "plt.savefig('Figure_5_and_rest_of_coefficients.pdf', dpi=300, bbox_inches='tight')"
   ]
  },
  {
   "cell_type": "markdown",
   "metadata": {},
   "source": [
    "## Testing of GMPE"
   ]
  },
  {
   "cell_type": "code",
   "execution_count": 7,
   "metadata": {
    "collapsed": true
   },
   "outputs": [],
   "source": [
    "import gmpe_tools as gt\n",
    "\n",
    "%autoreload 2\n",
    "from openquake.hazardlib.gsim.gupta_2010 import Gupta2010SSlab"
   ]
  },
  {
   "cell_type": "code",
   "execution_count": 8,
   "metadata": {},
   "outputs": [
    {
     "name": "stderr",
     "output_type": "stream",
     "text": [
      "/home/nick/src/python/GEM/oq-engine/openquake/hazardlib/gsim/base.py:92: NotVerifiedWarning: Gupta2010SSlab is not independently verified - the user is liable for their application\n",
      "  warnings.warn(msg, NotVerifiedWarning)\n"
     ]
    }
   ],
   "source": [
    "gmpe_group = 'GUPT10'\n",
    "gmpes = [Gupta2010SSlab()]\n",
    "gmpe_class_names = [gmpe.__class__.__name__ for gmpe in gmpes]\n",
    "gmpes_short = ['']\n",
    "gmpes_long = ['Gupta (2010)']"
   ]
  },
  {
   "cell_type": "code",
   "execution_count": 9,
   "metadata": {},
   "outputs": [
    {
     "name": "stdout",
     "output_type": "stream",
     "text": [
      "Gupta2010SSlab\n",
      "Supported tectonic region: Subduction IntraSlab\n",
      "Supported intensity measure types: SA, PGA\n",
      "Supported component: Median horizontal\n",
      "Supported standard deviations: Total\n",
      "Required site parameters: vs30\n",
      "Required rupture parameters: hypo_depth, mag\n",
      "Required distance parameters: rrup\n",
      "\n"
     ]
    }
   ],
   "source": [
    "for gmpe in gmpes:\n",
    "    gt.print_gmpe_summary(gmpe)"
   ]
  },
  {
   "cell_type": "code",
   "execution_count": 10,
   "metadata": {
    "collapsed": true
   },
   "outputs": [],
   "source": [
    "RENAME_COLS = {\n",
    "    'Mw': 'rup_mag', \n",
    "    'Rrup': 'dist_rrup', \n",
    "    'H': 'rup_hypo_depth', \n",
    "    'Result': 'result_type', \n",
    "    'Damping': 'damping', \n",
    "    0.02: 'PGA',\n",
    "}\n",
    "\n",
    "REPLACE_VALS = {\n",
    "    'Mean': 'MEAN'\n",
    "}\n",
    "    \n",
    "CLASS_VS30_TYP = {\n",
    "    'A': 2000,\n",
    "    'B': 1000.,\n",
    "    'C': 500.,\n",
    "    'D': 250.,\n",
    "    'E': 100.,\n",
    "}"
   ]
  },
  {
   "cell_type": "code",
   "execution_count": 11,
   "metadata": {},
   "outputs": [
    {
     "ename": "AttributeError",
     "evalue": "'DataFrame' object has no attribute 'sort'",
     "output_type": "error",
     "traceback": [
      "\u001b[0;31m---------------------------------------------------------------------------\u001b[0m",
      "\u001b[0;31mAttributeError\u001b[0m                            Traceback (most recent call last)",
      "\u001b[0;32m<ipython-input-11-92686cc8a15e>\u001b[0m in \u001b[0;36m<module>\u001b[0;34m()\u001b[0m\n\u001b[1;32m      5\u001b[0m \u001b[0mdf_gupta\u001b[0m\u001b[0;34m[\u001b[0m\u001b[0;34m'gmpe'\u001b[0m\u001b[0;34m]\u001b[0m \u001b[0;34m=\u001b[0m \u001b[0mgmpe_class_names\u001b[0m\u001b[0;34m[\u001b[0m\u001b[0;36m0\u001b[0m\u001b[0;34m]\u001b[0m\u001b[0;34m\u001b[0m\u001b[0m\n\u001b[1;32m      6\u001b[0m \u001b[0mdf_gupta\u001b[0m\u001b[0;34m.\u001b[0m\u001b[0mdrop\u001b[0m\u001b[0;34m(\u001b[0m\u001b[0;34m[\u001b[0m\u001b[0;36m0.01\u001b[0m\u001b[0;34m,\u001b[0m \u001b[0;34m'NEHRP'\u001b[0m\u001b[0;34m]\u001b[0m\u001b[0;34m,\u001b[0m \u001b[0maxis\u001b[0m\u001b[0;34m=\u001b[0m\u001b[0;36m1\u001b[0m\u001b[0;34m,\u001b[0m \u001b[0minplace\u001b[0m\u001b[0;34m=\u001b[0m\u001b[0;32mTrue\u001b[0m\u001b[0;34m)\u001b[0m\u001b[0;34m\u001b[0m\u001b[0m\n\u001b[0;32m----> 7\u001b[0;31m \u001b[0mdf_gupta\u001b[0m \u001b[0;34m=\u001b[0m \u001b[0mgt\u001b[0m\u001b[0;34m.\u001b[0m\u001b[0mdf_massage\u001b[0m\u001b[0;34m(\u001b[0m\u001b[0mdf_gupta\u001b[0m\u001b[0;34m)\u001b[0m\u001b[0;34m\u001b[0m\u001b[0m\n\u001b[0m\u001b[1;32m      8\u001b[0m \u001b[0;34m\u001b[0m\u001b[0m\n\u001b[1;32m      9\u001b[0m \u001b[0mmeans_files\u001b[0m \u001b[0;34m=\u001b[0m \u001b[0mgt\u001b[0m\u001b[0;34m.\u001b[0m\u001b[0mwrite_test_data\u001b[0m\u001b[0;34m(\u001b[0m\u001b[0mdf_gupta\u001b[0m\u001b[0;34m,\u001b[0m \u001b[0mgmpe_group\u001b[0m\u001b[0;34m,\u001b[0m \u001b[0mgmpes_short\u001b[0m\u001b[0;34m,\u001b[0m \u001b[0mgmpe_class_names\u001b[0m\u001b[0;34m)\u001b[0m\u001b[0;34m\u001b[0m\u001b[0m\n",
      "\u001b[0;32m~/Desktop/indian-subcontinent-psha/utilities/gmpe_tools.py\u001b[0m in \u001b[0;36mdf_massage\u001b[0;34m(df_ref)\u001b[0m\n\u001b[1;32m    231\u001b[0m \u001b[0;34m\u001b[0m\u001b[0m\n\u001b[1;32m    232\u001b[0m     \u001b[0;31m# sort results and reindex\u001b[0m\u001b[0;34m\u001b[0m\u001b[0;34m\u001b[0m\u001b[0m\n\u001b[0;32m--> 233\u001b[0;31m     df_ref.sort(sorted(cols_ref[gmpe_cols]) +\n\u001b[0m\u001b[1;32m    234\u001b[0m                 \u001b[0msorted\u001b[0m\u001b[0;34m(\u001b[0m\u001b[0mcols_ref\u001b[0m\u001b[0;34m[\u001b[0m\u001b[0mrup_cols\u001b[0m\u001b[0;34m]\u001b[0m\u001b[0;34m)\u001b[0m \u001b[0;34m+\u001b[0m\u001b[0;34m\u001b[0m\u001b[0m\n\u001b[1;32m    235\u001b[0m                 \u001b[0msorted\u001b[0m\u001b[0;34m(\u001b[0m\u001b[0mcols_ref\u001b[0m\u001b[0;34m[\u001b[0m\u001b[0mdist_cols\u001b[0m\u001b[0;34m]\u001b[0m\u001b[0;34m)\u001b[0m \u001b[0;34m+\u001b[0m\u001b[0;34m\u001b[0m\u001b[0m\n",
      "\u001b[0;32m~/anaconda3/envs/oq-dev/lib/python3.5/site-packages/pandas/core/generic.py\u001b[0m in \u001b[0;36m__getattr__\u001b[0;34m(self, name)\u001b[0m\n\u001b[1;32m   3612\u001b[0m             \u001b[0;32mif\u001b[0m \u001b[0mname\u001b[0m \u001b[0;32min\u001b[0m \u001b[0mself\u001b[0m\u001b[0;34m.\u001b[0m\u001b[0m_info_axis\u001b[0m\u001b[0;34m:\u001b[0m\u001b[0;34m\u001b[0m\u001b[0m\n\u001b[1;32m   3613\u001b[0m                 \u001b[0;32mreturn\u001b[0m \u001b[0mself\u001b[0m\u001b[0;34m[\u001b[0m\u001b[0mname\u001b[0m\u001b[0;34m]\u001b[0m\u001b[0;34m\u001b[0m\u001b[0m\n\u001b[0;32m-> 3614\u001b[0;31m             \u001b[0;32mreturn\u001b[0m \u001b[0mobject\u001b[0m\u001b[0;34m.\u001b[0m\u001b[0m__getattribute__\u001b[0m\u001b[0;34m(\u001b[0m\u001b[0mself\u001b[0m\u001b[0;34m,\u001b[0m \u001b[0mname\u001b[0m\u001b[0;34m)\u001b[0m\u001b[0;34m\u001b[0m\u001b[0m\n\u001b[0m\u001b[1;32m   3615\u001b[0m \u001b[0;34m\u001b[0m\u001b[0m\n\u001b[1;32m   3616\u001b[0m     \u001b[0;32mdef\u001b[0m \u001b[0m__setattr__\u001b[0m\u001b[0;34m(\u001b[0m\u001b[0mself\u001b[0m\u001b[0;34m,\u001b[0m \u001b[0mname\u001b[0m\u001b[0;34m,\u001b[0m \u001b[0mvalue\u001b[0m\u001b[0;34m)\u001b[0m\u001b[0;34m:\u001b[0m\u001b[0;34m\u001b[0m\u001b[0m\n",
      "\u001b[0;31mAttributeError\u001b[0m: 'DataFrame' object has no attribute 'sort'"
     ]
    }
   ],
   "source": [
    "df_gupta = pd.read_excel('GUPTA.xls')\n",
    "df_gupta.rename(columns=RENAME_COLS, inplace=True)\n",
    "df_gupta['site_vs30'] = df_gupta['NEHRP'].replace(CLASS_VS30_TYP)\n",
    "df_gupta.replace(REPLACE_VALS, inplace=True)\n",
    "df_gupta['gmpe'] = gmpe_class_names[0]\n",
    "df_gupta.drop([0.01, 'NEHRP'], axis=1, inplace=True)\n",
    "df_gupta = gt.df_massage(df_gupta)\n",
    "\n",
    "means_files = gt.write_test_data(df_gupta, gmpe_group, gmpes_short, gmpe_class_names)"
   ]
  },
  {
   "cell_type": "code",
   "execution_count": null,
   "metadata": {
    "collapsed": true
   },
   "outputs": [],
   "source": [
    "# run through unittests\n",
    "threshhold = 0.10\n",
    "\n",
    "means_file = means_files[0]\n",
    "gmpe = gmpes[0]\n",
    "gmpe_name = gmpe.__class__.__name__\n",
    "\n",
    "df_ref = gt.df_massage(pd.read_csv(means_file))\n",
    "\n",
    "mags = sorted(list(set(df_ref['rup_mag'])))\n",
    "ruptures = sorted(list(set(df_ref['rup_hypo_depth'])))\n",
    "distances = sorted(list(set(df_ref['dist_rrup'])))\n",
    "vs30s = np.sort(np.array(list(set(df_ref['site_vs30']))))\n",
    "sa_cols = np.array([tb.is_numeric(item) for item in df_ref.columns])\n",
    "imt_cols = np.array([gt.is_imt(item) for item in df_ref.columns])\n",
    "im_types = [gt.get_imt(item) for item in df_ref.columns[imt_cols]]\n",
    "damping = next(iter([im_type.damping for im_type in im_types\n",
    "                     if isinstance(im_type, imt.SA)]), 5)\n",
    "\n",
    "df_new, df_stddevs = gt.compute_gmpe(gmpe, mags, ruptures, distances, vs30s, im_types)\n",
    "df_new = df_new[df_ref.columns]\n",
    "df_stddevs = df_stddevs[df_ref.columns]\n",
    "\n",
    "if sum(sa_cols) > 2:  # x-axis will be spectral acceleration period\n",
    "    fig, axes = plt.subplots(len(distances), len(ruptures), sharex=True, sharey=True, \n",
    "                             figsize=(4*len(ruptures), 4*len(distances)))\n",
    "    for dist, ax_row in zip(distances, axes):\n",
    "        for rupt, ax in zip(ruptures, ax_row):\n",
    "            if dist < rupt/2:\n",
    "                ax.axis('off')\n",
    "                continue\n",
    "                \n",
    "            ax.add_artist(AnchoredText('R=%g km, h=%g km' % (dist, rupt), \n",
    "                                       loc=tb.LOC_CODE['lower left'], frameon=False))\n",
    "            for mag in mags:\n",
    "                for vs30 in vs30s:\n",
    "                    nehrp_class = [key for key in CLASS_VS30_TYP.keys() if CLASS_VS30_TYP[key] == vs30][0]\n",
    "                    trace_label = 'M%g, class %s' % (mag, nehrp_class)\n",
    "\n",
    "                    df_trace = df_ref[\n",
    "                        (df_ref['rup_mag'] == mag) & \n",
    "                        (df_ref['rup_hypo_depth'] == rupt) & \n",
    "                        (df_ref['dist_rrup'] == dist) & \n",
    "                        (df_ref['site_vs30'] == vs30)]\n",
    "                    if df_trace.size == 0:\n",
    "                        continue\n",
    "                    ref = df_trace[df_ref.columns[sa_cols]]\n",
    "\n",
    "                    df_trace = df_new[\n",
    "                        (df_new['rup_mag'] == mag) & \n",
    "                        (df_new['rup_hypo_depth'] == rupt) & \n",
    "                        (df_new['dist_rrup'] == dist) & \n",
    "                        (df_new['site_vs30'] == vs30)]\n",
    "                    new = df_trace[df_ref.columns[sa_cols]]\n",
    "\n",
    "                    h = ax.loglog(new.columns.values, new.values.reshape((-1,)), \n",
    "                                  label=trace_label, alpha=0.5, marker='+')\n",
    "\n",
    "                    ax.loglog(ref.columns.values, ref.values.reshape((-1,)), \n",
    "                              color=h[0].get_color(), alpha=0.5, marker='x', linestyle=':')\n",
    "\n",
    "                    # circle points in error\n",
    "                    error = (np.abs(new.values/ref.values - 1) > threshhold).reshape((-1,))\n",
    "                    ax.loglog(new.iloc[0, error].index.values, new.iloc[0, error].values, \n",
    "                              linestyle='none', marker='o', color='black', markerfacecolor='none')\n",
    "\n",
    "        ax_row[0].set_ylabel('SA($\\\\xi$=%g%%) [m/s$^2$]' % damping)\n",
    "        \n",
    "    for ax in axes[-1,:]:\n",
    "        ax.set_xlabel('Period [s]')\n",
    "        ax.autoscale(True, 'x', True)\n",
    "    axes[-1, 0].add_artist(AnchoredText(os.path.split(means_file)[1], \n",
    "                                      loc=tb.LOC_CODE['upper left'], frameon=False))\n",
    "    axes[axes.shape[0]/2, -1].legend(loc='center left', bbox_to_anchor=(1,0.5), frameon=False);\n",
    "\n",
    "else:  # x-axis will be distance (could be magnitude)\n",
    "    fig, ax = plt.subplots(1, 1)\n",
    "\n",
    "    ax.add_artist(AnchoredText(gmpe_name, \n",
    "                               loc=tb.LOC_CODE['upper left'], frameon=False))\n",
    "    ax.add_artist(AnchoredText(os.path.split(means_file)[1], \n",
    "                               loc=tb.LOC_CODE['upper right'], frameon=False))\n",
    "    for vs30 in vs30s:\n",
    "        for mag in mags:\n",
    "            for im_type in im_types:\n",
    "                trace_label = '%s, M=%g, %g m/s' % (str(im_type), mag, vs30)\n",
    "\n",
    "                df_trace_ref = df_ref[\n",
    "                    (df_ref['rup_mag'] == mag) & \n",
    "                    (df_ref['site_vs30'] == vs30)]\n",
    "                if df_trace_ref.size == 0:\n",
    "                    continue\n",
    "\n",
    "                h = ax.loglog(df_trace_ref['dist_rrup'], df_trace_ref[str(im_type)], \n",
    "                              label=trace_label, alpha=0.5)\n",
    "\n",
    "                df_trace_new = df_new[\n",
    "                    (df_new['rup_mag'] == mag) & \n",
    "                    (df_new['site_vs30'] == vs30)]\n",
    "\n",
    "                ax.loglog(df_trace_new['dist_rrup'], df_trace_new[str(im_type)], \n",
    "                          linestyle='none', marker='x', \n",
    "                          color=h[0].get_color(), alpha=0.5)\n",
    "\n",
    "                # circle points in error\n",
    "                error = (np.abs(df_trace_new[str(im_type)]/df_trace_ref[str(im_type)] - 1) > threshhold).reshape((-1,))\n",
    "                ax.loglog(df_trace_new.loc[error, 'dist_rrup'], df_trace_new.loc[error, str(im_type)], \n",
    "                          linestyle='none', marker='o', color='black', markerfacecolor='none')\n",
    "\n",
    "    ax.set_ylabel('Ground Motion')\n",
    "    ax.set_xlabel('Distance [km]')\n",
    "\n",
    "    ax.legend(loc='center left', bbox_to_anchor=(1,0.5), frameon=False);\n",
    "                \n",
    "plt.savefig('Unit_Test_Summary.pdf', dpi=300, bbox_inches='tight')\n",
    "plt.savefig('Unit_Test_Summary.png', dpi=300, bbox_inches='tight')"
   ]
  },
  {
   "cell_type": "code",
   "execution_count": null,
   "metadata": {
    "collapsed": true
   },
   "outputs": [],
   "source": [
    "df_new['gmpe'] = gmpe_class_names[0]\n",
    "df_stddevs['gmpe'] = gmpe_class_names[0]\n",
    "print gt.write_test_data(df_new, gmpe_group, gmpes_short, gmpe_class_names, 'NEW')\n",
    "print gt.write_test_data(df_stddevs, gmpe_group, gmpes_short, gmpe_class_names)"
   ]
  },
  {
   "cell_type": "code",
   "execution_count": null,
   "metadata": {
    "collapsed": true
   },
   "outputs": [],
   "source": []
  }
 ],
 "metadata": {
  "kernelspec": {
   "display_name": "oq",
   "language": "python",
   "name": "oq"
  },
  "language_info": {
   "codemirror_mode": {
    "name": "ipython",
    "version": 3
   },
   "file_extension": ".py",
   "mimetype": "text/x-python",
   "name": "python",
   "nbconvert_exporter": "python",
   "pygments_lexer": "ipython3",
   "version": "3.5.4"
  }
 },
 "nbformat": 4,
 "nbformat_minor": 1
}
