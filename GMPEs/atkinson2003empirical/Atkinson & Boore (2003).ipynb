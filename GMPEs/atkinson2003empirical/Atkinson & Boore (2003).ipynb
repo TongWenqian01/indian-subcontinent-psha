{
 "cells": [
  {
   "cell_type": "markdown",
   "metadata": {},
   "source": [
    "# Atkinson & Boore (2003)\n",
    "\n",
    "Troubleshooting"
   ]
  },
  {
   "cell_type": "code",
   "execution_count": null,
   "metadata": {
    "collapsed": false
   },
   "outputs": [],
   "source": [
    "%matplotlib inline\n",
    "%load_ext autoreload"
   ]
  },
  {
   "cell_type": "markdown",
   "metadata": {},
   "source": [
    "## Processing of coefficients"
   ]
  },
  {
   "cell_type": "code",
   "execution_count": null,
   "metadata": {
    "collapsed": false
   },
   "outputs": [],
   "source": [
    "import os\n",
    "import glob\n",
    "import warnings\n",
    "import importlib\n",
    "import pandas as pd\n",
    "import numpy as np\n",
    "import toolbox as tb\n",
    "import matplotlib.pyplot as plt\n",
    "from scipy.constants import g\n",
    "from matplotlib.offsetbox import AnchoredText\n",
    "from IPython.display import display\n",
    "from openquake.hazardlib import imt"
   ]
  },
  {
   "cell_type": "markdown",
   "metadata": {},
   "source": [
    "## Testing of GMPE"
   ]
  },
  {
   "cell_type": "code",
   "execution_count": null,
   "metadata": {
    "collapsed": false
   },
   "outputs": [],
   "source": [
    "%autoreload 2\n",
    "import gmpe_tools as gt\n",
    "\n",
    "from openquake.hazardlib import gsim\n",
    "\n",
    "%autoreload 2\n",
    "from openquake.hazardlib.gsim.atkinson_boore_2003 \\\n",
    "    import (\n",
    "        AtkinsonBoore2003SSlabCascadiaNSHMP2008,\n",
    "        AtkinsonBoore2003SSlabJapanNSHMP2008\n",
    "    )"
   ]
  },
  {
   "cell_type": "code",
   "execution_count": null,
   "metadata": {
    "collapsed": false
   },
   "outputs": [],
   "source": [
    "gmpe_group = 'AB02'\n",
    "gmpes = [\n",
    "    AtkinsonBoore2003SSlabCascadiaNSHMP2008(),\n",
    "    AtkinsonBoore2003SSlabJapanNSHMP2008(),\n",
    "]\n",
    "gmpe_class_names = [gmpe.__class__.__name__ for gmpe in gmpes]\n",
    "gmpes_short = [\n",
    "    'Cascadia',\n",
    "    'Japan',\n",
    "]\n",
    "gmpes_long = [\n",
    "    'Cascadia',\n",
    "    'Japan',\n",
    "]"
   ]
  },
  {
   "cell_type": "code",
   "execution_count": null,
   "metadata": {
    "collapsed": false
   },
   "outputs": [],
   "source": [
    "for gmpe in gmpes:\n",
    "    gt.print_gmpe_summary(gmpe)"
   ]
  },
  {
   "cell_type": "code",
   "execution_count": null,
   "metadata": {
    "collapsed": false
   },
   "outputs": [],
   "source": [
    "means_files = ['']\n",
    "stddev_files = gt.write_test_data(df_stddevs, gmpe_group, gmpes_short, gmpe_class_names, 'FIG4', float_format='%.5g')"
   ]
  },
  {
   "cell_type": "code",
   "execution_count": null,
   "metadata": {
    "collapsed": false
   },
   "outputs": [],
   "source": [
    "means_file"
   ]
  },
  {
   "cell_type": "code",
   "execution_count": null,
   "metadata": {
    "collapsed": false
   },
   "outputs": [],
   "source": [
    "df_ref = gt.df_massage(pd.read_csv(means_file))\n",
    "print set(df_ref['rup_hypo_depth'])\n",
    "df_ref.head()"
   ]
  },
  {
   "cell_type": "code",
   "execution_count": null,
   "metadata": {
    "collapsed": false
   },
   "outputs": [],
   "source": [
    "# run through unittests\n",
    "threshhold = 0.1\n",
    "\n",
    "gmpes = [\n",
    "    AtkinsonBoore2003SSlabJapanNSHMP2008(),\n",
    "    AtkinsonBoore2003SSlabCascadiaNSHMP2008(),\n",
    "]\n",
    "\n",
    "# note that I ended up going with a version which deleted amplitudes over 0.25 g; this version shows all amplitudes\n",
    "means_files = [\n",
    "    '/home/nick/Desktop/Individual Study/GMPEs/atkinson2003empirical/AB03SSlabJapanNSHMP_MEAN.csv',\n",
    "    '/home/nick/src/python/GEM/oq-hazardlib/openquake/hazardlib/tests/gsim/data/AB03/AB03SSlabCascadiaNSHMP_MEAN.csv',\n",
    "]\n",
    "display(means_files)\n",
    "\n",
    "fig, axes = plt.subplots(len(means_files), 1, figsize=(8, 6*len(means_files)))\n",
    "\n",
    "for ax, means_file, gmpe in zip(axes, means_files, gmpes):\n",
    "    gmpe_name = gmpe.__class__.__name__\n",
    "    ax.add_artist(AnchoredText(gmpe_name, \n",
    "                               loc=tb.LOC_CODE['upper left'], frameon=False))\n",
    "    ax.add_artist(AnchoredText(os.path.split(means_file)[1], \n",
    "                               loc=tb.LOC_CODE['upper right'], frameon=False))\n",
    "\n",
    "    df_ref = gt.df_massage(pd.read_csv(means_file))\n",
    "    #df_ref.drop(u'pga', axis=1, inplace=True)\n",
    "    df_ref.drop([0.1, 0.2, 1.0, 2.0], axis=1, inplace=True)\n",
    "    df_ref.rename(columns={'pga': 'PGA', 'pgv': 'PGV', 'pgd': 'PGD'}, inplace=True)\n",
    "\n",
    "    mags = np.sort(np.array(list(set(df_ref['rup_mag']))))\n",
    "    rakes = np.sort(np.array(list(set(df_ref['rup_hypo_depth']))))\n",
    "    distances = sorted(list(set(df_ref['dist_rrup'])))\n",
    "    vs30s = np.sort(np.array(list(set(df_ref['site_vs30']))))\n",
    "    sa_cols = np.array([tb.is_numeric(item) for item in df_ref.columns])\n",
    "    imt_cols = np.array([gt.is_imt(item) for item in df_ref.columns])\n",
    "    im_types = [gt.get_imt(item) for item in df_ref.columns[imt_cols]]\n",
    "    \n",
    "    df_new = gt.compute_gmpe(gmpe, mags, rakes, distances, vs30s, im_types)[0]\n",
    "    df_new = df_new[df_ref.columns]\n",
    "\n",
    "    if sum(sa_cols) > 2:  # x-axis will be spectral acceleration period\n",
    "        for vs30 in vs30s:\n",
    "            for dist in distances:\n",
    "                trace_label = '%g km, %g m/s' % (dist, vs30)\n",
    "\n",
    "                df_trace = df_ref[\n",
    "                    (df_ref['dist_rrup'] == dist) & \n",
    "                    (df_ref['site_vs30'] == vs30)]\n",
    "                if df_trace.size == 0:\n",
    "                    continue\n",
    "                ref = df_trace[df_ref.columns[sa_cols]]\n",
    "\n",
    "                df_trace = df_new[\n",
    "                    (df_new['dist_rrup'] == dist) & \n",
    "                    (df_new['site_vs30'] == vs30)]\n",
    "                new = df_trace[df_ref.columns[sa_cols]]\n",
    "\n",
    "                h = ax.loglog(new.columns.values, new.transpose().values, \n",
    "                              label=trace_label, alpha=0.5)\n",
    "\n",
    "                ax.loglog(ref.columns.values, ref.transpose().values, \n",
    "                          linestyle='none', marker='x', \n",
    "                          color=h[0].get_color(), alpha=0.5)\n",
    "                \n",
    "                # circle points in error\n",
    "                error = (np.abs(new.transpose().values/new.transpose().values - 1) > threshhold).reshape((-1,))\n",
    "                ax.loglog(np.repeat(new.columns.values, new.transpose().values.shape[1])[error],\n",
    "                          new.transpose().values[error], \n",
    "                          linestyle='none', marker='o', color='black', markerfacecolor='none')\n",
    "                \n",
    "        ax.set_ylabel(str(im_type))\n",
    "        ax.set_xlabel('Period [s]')\n",
    "        \n",
    "    else:  # x-axis will be distance (could be magnitude)\n",
    "        for vs30 in vs30s:\n",
    "            for mag in mags:\n",
    "                for im_type in im_types:\n",
    "                    trace_label = '%s, M=%g, %g m/s' % (str(im_type), mag, vs30)\n",
    "\n",
    "                    df_trace_ref = df_ref[\n",
    "                        (df_ref['rup_mag'] == mag) & \n",
    "                        (df_ref['site_vs30'] == vs30)]\n",
    "                    if df_trace_ref.size == 0:\n",
    "                        continue\n",
    "\n",
    "                    h = ax.loglog(df_trace_ref['dist_rrup'], df_trace_ref[str(im_type)], \n",
    "                                  label=trace_label, alpha=0.5)\n",
    "\n",
    "                    df_trace_new = df_new[\n",
    "                        (df_new['rup_mag'] == mag) & \n",
    "                        (df_new['site_vs30'] == vs30)]\n",
    "\n",
    "                    ax.loglog(df_trace_new['dist_rrup'], df_trace_new[str(im_type)], \n",
    "                              linestyle='none', marker='x', \n",
    "                              color=h[0].get_color(), alpha=0.5)\n",
    "                    \n",
    "                    # circle points in error\n",
    "                    error = (np.abs(df_trace_new[str(im_type)]/df_trace_ref[str(im_type)] - 1) > threshhold).reshape((-1,))\n",
    "                    ax.loglog(df_trace_new.loc[error, 'dist_rrup'], \n",
    "                              df_trace_new.loc[error, str(im_type)], \n",
    "                              linestyle='none', marker='o', color='black', markerfacecolor='none')\n",
    "            \n",
    "        ax.set_ylabel('Ground Motion')\n",
    "        ax.set_xlabel('Distance [km]')\n",
    "    \n",
    "    ax.autoscale(enable=True, axis=u'x', tight=True)\n",
    "    ax.legend(loc='center left', bbox_to_anchor=(1,0.5), frameon=False)\n",
    "\n",
    "ax.add_artist(AnchoredText('points exeeding %g%% marked with circles' % (100*threshhold), \n",
    "                           loc=tb.LOC_CODE['lower left'], frameon=False))\n",
    "\n",
    "plt.savefig('Unit_Test_Summary.pdf', dpi=300, bbox_inches='tight')\n",
    "plt.savefig('Unit_Test_Summary.png', dpi=300, bbox_inches='tight')"
   ]
  },
  {
   "cell_type": "code",
   "execution_count": null,
   "metadata": {
    "collapsed": false
   },
   "outputs": [],
   "source": [
    "df_ref.sort(columns='PGA', ascending=False).head()"
   ]
  },
  {
   "cell_type": "code",
   "execution_count": null,
   "metadata": {
    "collapsed": false
   },
   "outputs": [],
   "source": [
    "df_new.sort(columns='PGA', ascending=False).head()"
   ]
  },
  {
   "cell_type": "code",
   "execution_count": null,
   "metadata": {
    "collapsed": true
   },
   "outputs": [],
   "source": []
  }
 ],
 "metadata": {
  "kernelspec": {
   "display_name": "Python 2",
   "language": "python",
   "name": "python2"
  },
  "language_info": {
   "codemirror_mode": {
    "name": "ipython",
    "version": 2
   },
   "file_extension": ".py",
   "mimetype": "text/x-python",
   "name": "python",
   "nbconvert_exporter": "python",
   "pygments_lexer": "ipython2",
   "version": "2.7.11"
  }
 },
 "nbformat": 4,
 "nbformat_minor": 0
}
