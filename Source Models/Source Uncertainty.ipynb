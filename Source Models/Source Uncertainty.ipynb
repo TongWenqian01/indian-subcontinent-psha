{
 "cells": [
  {
   "cell_type": "markdown",
   "metadata": {},
   "source": [
    "# Source model uncertainty for Nath & Thingbaijam (2012)\n",
    "\n",
    "OpenQuake isn't up to the task of enumerating $3^{222} \\approx 0.83$ million googols of logic tree branches, so we will collapse all $m_{max}$ and $b$ variation for each areal zone into one discrete distribution."
   ]
  },
  {
   "cell_type": "code",
   "execution_count": null,
   "metadata": {
    "collapsed": false
   },
   "outputs": [],
   "source": [
    "%matplotlib inline\n",
    "%load_ext autoreload"
   ]
  },
  {
   "cell_type": "code",
   "execution_count": null,
   "metadata": {
    "collapsed": false
   },
   "outputs": [],
   "source": [
    "import os\n",
    "\n",
    "import numpy as np\n",
    "import pandas as pd\n",
    "import toolbox as tb\n",
    "import lxml.etree as et\n",
    "import matplotlib.pyplot as plt\n",
    "import matplotlib as mpl\n",
    "from matplotlib.colors import LogNorm\n",
    "from StringIO import StringIO\n",
    "from IPython.display import display\n",
    "\n",
    "%autoreload 2\n",
    "import source_model_tools as smt\n",
    "\n",
    "%autoreload 2\n",
    "import logic_tree_tools as ltt\n",
    "\n",
    "import hmtk.sources as src\n",
    "from openquake.hazardlib import tom, geo\n",
    "\n",
    "from hmtk.plotting.mapping import HMTKBaseMap\n",
    "from hmtk.parsers.source_model.nrml04_parser import nrmlSourceModelParser\n",
    "from openquake.hazardlib.mfd.truncated_gr import TruncatedGRMFD"
   ]
  },
  {
   "cell_type": "code",
   "execution_count": null,
   "metadata": {
    "collapsed": false
   },
   "outputs": [],
   "source": [
    "float(3**222)/10**106"
   ]
  },
  {
   "cell_type": "code",
   "execution_count": null,
   "metadata": {
    "collapsed": false
   },
   "outputs": [],
   "source": [
    "# key file names\n",
    "areal_source_model_tsv = 'areal_source_model_no_twin.tsv'\n",
    "min_mags = [4.5, 5.5]\n",
    "smoothed_source_models_tsv = [\n",
    "    'nath2012probabilistic_smoothed_source_model_mmin_%g.tsv' % min_mag\n",
    "    for min_mag in min_mags]\n",
    "source_tree_tsv = '../Logic Trees/areal_model_logic_tree.tsv'"
   ]
  },
  {
   "cell_type": "code",
   "execution_count": null,
   "metadata": {
    "collapsed": false
   },
   "outputs": [],
   "source": [
    "# read areal model data from TSV file\n",
    "source_zones_df = pd.read_csv(areal_source_model_tsv, sep='\\t')\n",
    "layer_ids = sorted(list(set(source_zones_df['layerid'])))\n",
    "\n",
    "drop_columns = [\n",
    "    'tectonic zone', 'concerns', 'zmax', 'zmin',\n",
    "    'polygon coordinates', 'zoneid', 'mechanism', 'name', 'aspect ratio', \n",
    "    'smoothed N 4.5', 'smoothed N 5.5', 'smoothed a 4.5', 'smoothed a 5.5', \n",
    "    'smoothed lambda 4.5', 'smoothed lambda 5.5', 'areal lambda 4.5', 'areal lambda 5.5',\n",
    "    'equiv a 4.5', 'equiv a 5.5',\n",
    "]\n",
    "display(pd.concat([source_zones_df.drop(drop_columns, axis=1).head(),\n",
    "                   source_zones_df.drop(drop_columns, axis=1).tail()]))"
   ]
  },
  {
   "cell_type": "code",
   "execution_count": null,
   "metadata": {
    "collapsed": false
   },
   "outputs": [],
   "source": [
    "source_tree_symbolic_df = ltt.read_tree_tsv(source_tree_tsv)        \n",
    "display(source_tree_symbolic_df)"
   ]
  },
  {
   "cell_type": "code",
   "execution_count": null,
   "metadata": {
    "collapsed": false
   },
   "outputs": [],
   "source": [
    "collapsed_df, reduced_df, all_rates, all_weights, labels = \\\n",
    "    ltt.collapse_sources(source_zones_df, source_tree_symbolic_df)"
   ]
  },
  {
   "cell_type": "code",
   "execution_count": null,
   "metadata": {
    "collapsed": false
   },
   "outputs": [],
   "source": [
    "fig, axes = plt.subplots(len(layer_ids), 1, figsize=(8, 4*len(layer_ids)), sharex=True)\n",
    "fig.subplots_adjust(hspace=0.05)\n",
    "for layer_id, ax in zip(layer_ids, axes):\n",
    "    fig.sca(ax)\n",
    "    tb.annotate('layer %d' % layer_id)\n",
    "    layer_df = collapsed_df[collapsed_df['layerid'] == layer_id]\n",
    "    for _, zone in layer_df.iterrows():\n",
    "        num_bins = zone['occurRates'].size\n",
    "        mags = zone['mmin'] + zone['magBin']*np.arange(num_bins + 1)\n",
    "        rates = zone['occurRates'][[0] + range(num_bins)]\n",
    "        ax.step(mags, rates, label=zone['id'])\n",
    "    ax.set_yscale('log')\n",
    "    ax.set_ylabel('Annual Occurence Rate')\n",
    "    ax.legend(bbox_to_anchor=(1, 0.5), loc='center left', \n",
    "              frameon=False, labelspacing=0, ncol=3)\n",
    "\n",
    "axes[-1].set_xlabel('Moment Magnitude, $M_w$')\n",
    "fig.savefig('MeanOccurrenceRatesAllZones.pdf', transparent=True, bbox_inches='tight', pad_inches=0.1)"
   ]
  },
  {
   "cell_type": "code",
   "execution_count": null,
   "metadata": {
    "collapsed": false
   },
   "outputs": [],
   "source": [
    "reduced_df"
   ]
  },
  {
   "cell_type": "code",
   "execution_count": null,
   "metadata": {
    "collapsed": false
   },
   "outputs": [],
   "source": [
    "zoneids = ['z1', 'z924', 'z93', 'z137', 'z913', 'z915', 'z132']\n",
    "zones_rates = [rates for rates, zoneid in zip(all_rates, collapsed_df['id']) \n",
    "              if zoneid in zoneids]\n",
    "zones_df = collapsed_df.loc[[zone['id'] in zoneids\n",
    "           for _, zone in collapsed_df.iterrows()]]\n",
    "\n",
    "fig, axes = plt.subplots(len(zoneids), 1, figsize=(8, 4*len(zoneids)), \n",
    "                         sharex=True)\n",
    "fig.subplots_adjust(hspace=0.05)\n",
    "for zone_rates, (_, zone), ax \\\n",
    "        in zip(zones_rates, zones_df.iterrows(), axes):\n",
    "    fig.sca(ax)\n",
    "    tb.annotate(r'%s: $b = %g \\pm %g$, $m_{max} = %g \\pm %g$' % \n",
    "                (zone['id'], zone['b'], zone['stdb'], zone['mmax'], zone['stdmmax']))\n",
    "    num_bins = zone_rates.shape[0]\n",
    "    mags = zone['mmin'] + zone['magBin']*np.arange(num_bins + 1)\n",
    "    rates = zone_rates[[0] + range(num_bins), :]\n",
    "    for rate, label in zip(rates.T, labels):\n",
    "        ax.step(mags, rate.tolist(), label=label)\n",
    "    ax.step(mags, zone['occurRates'][[0] + range(num_bins)], \n",
    "            linewidth=2, color='black', label='mean')\n",
    "    ax.set_yscale('log')\n",
    "    ax.set_ylabel('Annual Occurence Rate')\n",
    "\n",
    "axes[0].legend(bbox_to_anchor=(1, 0.5), loc='center left', \n",
    "          frameon=False, labelspacing=0)\n",
    "axes[-1].set_xlabel('Moment Magnitude, $M_w$')\n",
    "fig.savefig('MeanOccurrenceRatesSelectedZones.pdf', transparent=True, bbox_inches='tight', pad_inches=0.1)"
   ]
  },
  {
   "cell_type": "code",
   "execution_count": null,
   "metadata": {
    "collapsed": true
   },
   "outputs": [],
   "source": [
    "def display_and_save(name, df):\n",
    "    print name + ':'\n",
    "    display(df)\n",
    "    df.to_csv(name.replace(' ','_') + '.csv')"
   ]
  },
  {
   "cell_type": "code",
   "execution_count": null,
   "metadata": {
    "collapsed": false
   },
   "outputs": [],
   "source": [
    "display_and_save('Selected zones of interest', \n",
    "                 zones_df.drop(drop_columns + ['occurRates'], axis=1))"
   ]
  },
  {
   "cell_type": "code",
   "execution_count": null,
   "metadata": {
    "collapsed": false
   },
   "outputs": [],
   "source": [
    "display_and_save('Top 5 b-value uncertainty', \n",
    "    collapsed_df.sort(columns='stdb', ascending=False).drop(drop_columns + ['occurRates'], axis=1).head())"
   ]
  },
  {
   "cell_type": "code",
   "execution_count": null,
   "metadata": {
    "collapsed": false
   },
   "outputs": [],
   "source": [
    "display_and_save('Top 3 mmax uncertainty', \n",
    "    collapsed_df.sort(columns='stdmmax', ascending=False).drop(drop_columns + ['occurRates'], axis=1).head(3))"
   ]
  },
  {
   "cell_type": "code",
   "execution_count": null,
   "metadata": {
    "collapsed": false
   },
   "outputs": [],
   "source": [
    "display_and_save('Top 3 mmax', \n",
    "    collapsed_df.sort(columns='mmax', ascending=False).drop(drop_columns + ['occurRates'], axis=1).head(3))"
   ]
  },
  {
   "cell_type": "code",
   "execution_count": null,
   "metadata": {
    "collapsed": false
   },
   "outputs": [],
   "source": [
    "display_and_save('Bottom 3 mmax', \n",
    "    collapsed_df.sort(columns='mmax', ascending=True).drop(drop_columns + ['occurRates'], axis=1).head(3))"
   ]
  },
  {
   "cell_type": "code",
   "execution_count": null,
   "metadata": {
    "collapsed": false
   },
   "outputs": [],
   "source": [
    "display_and_save('Bottom 5 a-value', \n",
    "    collapsed_df.sort(columns='a', ascending=True).drop(drop_columns + ['occurRates'], axis=1).head())"
   ]
  },
  {
   "cell_type": "code",
   "execution_count": null,
   "metadata": {
    "collapsed": false
   },
   "outputs": [],
   "source": [
    "display_and_save('Top 3 a-value', \n",
    "    collapsed_df.sort(columns='a', ascending=False).drop(drop_columns + ['occurRates'], axis=1).head(3))"
   ]
  },
  {
   "cell_type": "code",
   "execution_count": null,
   "metadata": {
    "collapsed": false
   },
   "outputs": [],
   "source": [
    "display_and_save('Top 3 b-value', \n",
    "    collapsed_df.sort(columns='b', ascending=False).drop(drop_columns + ['occurRates'], axis=1).head(3))"
   ]
  },
  {
   "cell_type": "code",
   "execution_count": null,
   "metadata": {
    "collapsed": false
   },
   "outputs": [],
   "source": [
    "display_and_save('Bottom 3 b-value', \n",
    "    collapsed_df.sort(columns='b', ascending=True).drop(drop_columns + ['occurRates'], axis=1).head(3))"
   ]
  },
  {
   "cell_type": "code",
   "execution_count": null,
   "metadata": {
    "collapsed": false,
    "scrolled": true
   },
   "outputs": [],
   "source": [
    "twinned_df = smt.twin_source_by_magnitude(collapsed_df)"
   ]
  },
  {
   "cell_type": "code",
   "execution_count": null,
   "metadata": {
    "collapsed": false
   },
   "outputs": [],
   "source": [
    "display(collapsed_df[collapsed_df['zoneid'] == 1].drop(drop_columns + ['region'], axis=1))\n",
    "collapsed_df[collapsed_df['zoneid'] == 1]['occurRates'].values"
   ]
  },
  {
   "cell_type": "code",
   "execution_count": null,
   "metadata": {
    "collapsed": false
   },
   "outputs": [],
   "source": [
    "display(twinned_df[(twinned_df['zoneid'] == '1') | (twinned_df['zoneid'] == '1m')].drop(drop_columns + ['region'], axis=1))\n",
    "display(twinned_df[twinned_df['zoneid'] == '1']['occurRates'].values)\n",
    "display(twinned_df[twinned_df['zoneid'] == '1m']['occurRates'].values)"
   ]
  },
  {
   "cell_type": "code",
   "execution_count": null,
   "metadata": {
    "collapsed": false
   },
   "outputs": [],
   "source": [
    "# write result to NRML\n",
    "areal_source_list = smt.source_df_to_list(smt.sort_and_reindex(smt.add_name_id(twinned_df)))\n",
    "areal_source_model = src.source_model.mtkSourceModel(\n",
    "    identifier='areal', \n",
    "    name='areal collapsed', \n",
    "    sources=areal_source_list)\n",
    "areal_source_model.serialise_to_nrml('areal_collapsed.xml')"
   ]
  },
  {
   "cell_type": "code",
   "execution_count": null,
   "metadata": {
    "collapsed": false
   },
   "outputs": [],
   "source": [
    "for smoothed_source_model_tsv, min_mag in zip(smoothed_source_models_tsv, min_mags):\n",
    "    smoothed_source_df = pd.read_csv(smoothed_source_model_tsv, sep='\\t')\n",
    "    smoothed_collapsed_df = ltt.collapse_sources(smoothed_source_df, source_tree_symbolic_df)[0]\n",
    "    smoothed_source_list = smt.source_df_to_list(smt.add_name_id(smt.twin_source_by_magnitude(smoothed_collapsed_df)))\n",
    "    \n",
    "    areal_source_model = src.source_model.mtkSourceModel(\n",
    "        identifier=str(min_mag), \n",
    "        name='nath2012probabilistic smoothed collapsed', \n",
    "        sources=smoothed_source_list)\n",
    "    areal_source_model.serialise_to_nrml('nath2012probabilistic_smoothed_collapsed_mmin%g.xml' % min_mag)"
   ]
  },
  {
   "cell_type": "code",
   "execution_count": null,
   "metadata": {
    "collapsed": true
   },
   "outputs": [],
   "source": []
  }
 ],
 "metadata": {
  "kernelspec": {
   "display_name": "Python 2",
   "language": "python",
   "name": "python2"
  },
  "language_info": {
   "codemirror_mode": {
    "name": "ipython",
    "version": 2
   },
   "file_extension": ".py",
   "mimetype": "text/x-python",
   "name": "python",
   "nbconvert_exporter": "python",
   "pygments_lexer": "ipython2",
   "version": "2.7.11"
  }
 },
 "nbformat": 4,
 "nbformat_minor": 0
}
