{
 "cells": [
  {
   "cell_type": "markdown",
   "metadata": {
    "slideshow": {
     "slide_type": "slide"
    }
   },
   "source": [
    "# Smoothed source models for Nath & Thingbaijam (2012)\n",
    "\n",
    "Investigate and visualize models.\n",
    "\n",
    "Note: For imports to work, ../utilities directory must be added to PYTHONPATH"
   ]
  },
  {
   "cell_type": "markdown",
   "metadata": {},
   "source": [
    "_Copyright (C) 2014-2018 Nick Ackerley_\n",
    "\n",
    "_This program is free software: you can redistribute it and/or modify\n",
    "it under the terms of the GNU Affero General Public License as\n",
    "published by the Free Software Foundation, either version 3 of the\n",
    "License, or (at your option) any later version._\n",
    "\n",
    "_This program is distributed in the hope that it will be useful,\n",
    "but WITHOUT ANY WARRANTY; without even the implied warranty of\n",
    "MERCHANTABILITY or FITNESS FOR A PARTICULAR PURPOSE. See the\n",
    "GNU Affero General Public License for more details._\n",
    "\n",
    "_You should have received a copy of the GNU Affero General Public \n",
    "License along with this program. If not, see \n",
    "<https://www.gnu.org/licenses/>._"
   ]
  },
  {
   "cell_type": "code",
   "execution_count": 1,
   "metadata": {
    "slideshow": {
     "slide_type": "slide"
    }
   },
   "outputs": [],
   "source": [
    "import os\n",
    "# import sys\n",
    "from time import time\n",
    "from IPython.display import display\n",
    "\n",
    "import numpy as np\n",
    "import pandas as pd\n",
    "import geopandas as gpd\n",
    "from shapely.geometry import Point\n",
    "\n",
    "import matplotlib.pyplot as plt\n",
    "from matplotlib.colors import LogNorm, Normalize\n",
    "\n",
    "from source_model_tools import csv2areal, csv2points, extract_param\n",
    "from toolbox import annotate, logspace, linspace\n",
    "\n",
    "%matplotlib inline"
   ]
  },
  {
   "cell_type": "code",
   "execution_count": 2,
   "metadata": {
    "slideshow": {
     "slide_type": "slide"
    }
   },
   "outputs": [],
   "source": [
    "MIN_MAGS = [4.5, 5.5]\n",
    "LAYERS_DF = pd.read_csv('layers.csv', index_col='layerid')\n",
    "USE_RECOMPUTED = False"
   ]
  },
  {
   "cell_type": "code",
   "execution_count": 3,
   "metadata": {
    "slideshow": {
     "slide_type": "slide"
    }
   },
   "outputs": [],
   "source": [
    "model_path = '../Data/nath2012probabilistic'\n",
    "if USE_RECOMPUTED:\n",
    "    smoothed_model_path = '../Smoothed/Recomputed'\n",
    "else:\n",
    "    smoothed_model_path = model_path\n",
    "\n",
    "smoothed_data_template = os.path.join(smoothed_model_path,\n",
    "                                      'lay%dsmooth%.1f.txt')\n",
    "\n",
    "smoothed_source_data_file = 'smoothed_source_model'"
   ]
  },
  {
   "cell_type": "markdown",
   "metadata": {
    "slideshow": {
     "slide_type": "slide"
    }
   },
   "source": [
    "## Load model data"
   ]
  },
  {
   "cell_type": "code",
   "execution_count": 4,
   "metadata": {
    "slideshow": {
     "slide_type": "slide"
    }
   },
   "outputs": [
    {
     "name": "stdout",
     "output_type": "stream",
     "text": [
      "Reading:\n",
      "\t/home/nick/Desktop/indian-subcontinent-psha/Source Models/nath2012probabilistic_smoothed_source_model_mmin4.5_layer1.csv\n",
      "Reading:\n",
      "\t/home/nick/Desktop/indian-subcontinent-psha/Source Models/nath2012probabilistic_smoothed_source_model_mmin4.5_layer2.csv\n",
      "Reading:\n",
      "\t/home/nick/Desktop/indian-subcontinent-psha/Source Models/nath2012probabilistic_smoothed_source_model_mmin4.5_layer3.csv\n",
      "Reading:\n",
      "\t/home/nick/Desktop/indian-subcontinent-psha/Source Models/nath2012probabilistic_smoothed_source_model_mmin4.5_layer4.csv\n",
      "Reading:\n",
      "\t/home/nick/Desktop/indian-subcontinent-psha/Source Models/nath2012probabilistic_smoothed_source_model_mmin5.5_layer1.csv\n",
      "Reading:\n",
      "\t/home/nick/Desktop/indian-subcontinent-psha/Source Models/nath2012probabilistic_smoothed_source_model_mmin5.5_layer2.csv\n",
      "Reading:\n",
      "\t/home/nick/Desktop/indian-subcontinent-psha/Source Models/nath2012probabilistic_smoothed_source_model_mmin5.5_layer3.csv\n",
      "Reading:\n",
      "\t/home/nick/Desktop/indian-subcontinent-psha/Source Models/nath2012probabilistic_smoothed_source_model_mmin5.5_layer4.csv\n"
     ]
    }
   ],
   "source": [
    "model_basename = ' '.join((os.path.split(smoothed_model_path)[1],\n",
    "                           smoothed_source_data_file))\n",
    "smoothed_df = csv2points(model_basename)"
   ]
  },
  {
   "cell_type": "code",
   "execution_count": 5,
   "metadata": {
    "slideshow": {
     "slide_type": "slide"
    }
   },
   "outputs": [
    {
     "name": "stdout",
     "output_type": "stream",
     "text": [
      "Reading:\n",
      "\t/home/nick/Desktop/indian-subcontinent-psha/Source Models/areal_source_model.csv\n",
      "For zone 9031 taking mmax from zone 903\n",
      "For zone 9031 taking b from zone 903\n",
      "For zone 9081 taking mmax from zone 908\n",
      "For zone 9081 taking b from zone 908\n",
      "For zone 9131 taking mmax from zone 913\n",
      "For zone 9131 taking b from zone 913\n",
      "For zone 9151 taking mmax from zone 915\n",
      "For zone 9151 taking b from zone 915\n",
      "For zone 9171 taking mmax from zone 917\n",
      "For zone 9171 taking b from zone 917\n"
     ]
    },
    {
     "data": {
      "text/html": [
       "<div>\n",
       "<style scoped>\n",
       "    .dataframe tbody tr th:only-of-type {\n",
       "        vertical-align: middle;\n",
       "    }\n",
       "\n",
       "    .dataframe tbody tr th {\n",
       "        vertical-align: top;\n",
       "    }\n",
       "\n",
       "    .dataframe thead th {\n",
       "        text-align: right;\n",
       "    }\n",
       "</style>\n",
       "<table border=\"1\" class=\"dataframe\">\n",
       "  <thead>\n",
       "    <tr style=\"text-align: right;\">\n",
       "      <th></th>\n",
       "      <th>layerid</th>\n",
       "      <th>a</th>\n",
       "      <th>b</th>\n",
       "      <th>stdb</th>\n",
       "      <th>mmax</th>\n",
       "      <th>stdmmax</th>\n",
       "      <th>strike</th>\n",
       "      <th>dip</th>\n",
       "      <th>rake</th>\n",
       "      <th>geometry</th>\n",
       "      <th>...</th>\n",
       "      <th>mechanism</th>\n",
       "      <th>new style</th>\n",
       "      <th>strike2</th>\n",
       "      <th>dip2</th>\n",
       "      <th>rake2</th>\n",
       "      <th>mechanism2</th>\n",
       "      <th>mmin</th>\n",
       "      <th>centroid</th>\n",
       "      <th>source_name</th>\n",
       "      <th>id</th>\n",
       "    </tr>\n",
       "    <tr>\n",
       "      <th>zoneid</th>\n",
       "      <th></th>\n",
       "      <th></th>\n",
       "      <th></th>\n",
       "      <th></th>\n",
       "      <th></th>\n",
       "      <th></th>\n",
       "      <th></th>\n",
       "      <th></th>\n",
       "      <th></th>\n",
       "      <th></th>\n",
       "      <th></th>\n",
       "      <th></th>\n",
       "      <th></th>\n",
       "      <th></th>\n",
       "      <th></th>\n",
       "      <th></th>\n",
       "      <th></th>\n",
       "      <th></th>\n",
       "      <th></th>\n",
       "      <th></th>\n",
       "      <th></th>\n",
       "    </tr>\n",
       "  </thead>\n",
       "  <tbody>\n",
       "    <tr>\n",
       "      <th>1</th>\n",
       "      <td>1</td>\n",
       "      <td>5.20</td>\n",
       "      <td>1.05</td>\n",
       "      <td>0.07</td>\n",
       "      <td>8.0</td>\n",
       "      <td>0.4</td>\n",
       "      <td>202.0</td>\n",
       "      <td>73.0</td>\n",
       "      <td>30.0</td>\n",
       "      <td>POLYGON ((67.81 37.55, 68.3 38.82, 72.95 39.99...</td>\n",
       "      <td>...</td>\n",
       "      <td>dextral</td>\n",
       "      <td>strike-slip</td>\n",
       "      <td>102.4</td>\n",
       "      <td>61.4</td>\n",
       "      <td>160.6</td>\n",
       "      <td>dextral</td>\n",
       "      <td>4.5</td>\n",
       "      <td>POINT (70.44 38.79)</td>\n",
       "      <td>zone 1</td>\n",
       "      <td>z1</td>\n",
       "    </tr>\n",
       "    <tr>\n",
       "      <th>2</th>\n",
       "      <td>1</td>\n",
       "      <td>4.64</td>\n",
       "      <td>0.93</td>\n",
       "      <td>0.09</td>\n",
       "      <td>8.0</td>\n",
       "      <td>0.4</td>\n",
       "      <td>306.0</td>\n",
       "      <td>31.0</td>\n",
       "      <td>142.0</td>\n",
       "      <td>POLYGON ((72.95 39.99, 76.53 39.99, 76.0999999...</td>\n",
       "      <td>...</td>\n",
       "      <td>reverse</td>\n",
       "      <td>reverse</td>\n",
       "      <td>69.8</td>\n",
       "      <td>71.5</td>\n",
       "      <td>64.7</td>\n",
       "      <td>reverse</td>\n",
       "      <td>4.5</td>\n",
       "      <td>POINT (74.79 39.23)</td>\n",
       "      <td>zone 2</td>\n",
       "      <td>z2</td>\n",
       "    </tr>\n",
       "    <tr>\n",
       "      <th>3</th>\n",
       "      <td>1</td>\n",
       "      <td>3.75</td>\n",
       "      <td>0.77</td>\n",
       "      <td>0.05</td>\n",
       "      <td>8.0</td>\n",
       "      <td>0.4</td>\n",
       "      <td>59.0</td>\n",
       "      <td>89.0</td>\n",
       "      <td>33.0</td>\n",
       "      <td>POLYGON ((76.09999999999999 38.89, 76.53 39.99...</td>\n",
       "      <td>...</td>\n",
       "      <td>reverse</td>\n",
       "      <td>reverse</td>\n",
       "      <td>328.4</td>\n",
       "      <td>57.0</td>\n",
       "      <td>178.8</td>\n",
       "      <td>dextral</td>\n",
       "      <td>4.5</td>\n",
       "      <td>POINT (77.66 39.43)</td>\n",
       "      <td>zone 3</td>\n",
       "      <td>z3</td>\n",
       "    </tr>\n",
       "    <tr>\n",
       "      <th>4</th>\n",
       "      <td>1</td>\n",
       "      <td>4.34</td>\n",
       "      <td>0.98</td>\n",
       "      <td>0.08</td>\n",
       "      <td>7.4</td>\n",
       "      <td>0.4</td>\n",
       "      <td>309.0</td>\n",
       "      <td>56.0</td>\n",
       "      <td>177.0</td>\n",
       "      <td>POLYGON ((75.84999999999999 37.89, 76.09999999...</td>\n",
       "      <td>...</td>\n",
       "      <td>dextral</td>\n",
       "      <td>reverse</td>\n",
       "      <td>40.7</td>\n",
       "      <td>87.5</td>\n",
       "      <td>34.0</td>\n",
       "      <td>reverse</td>\n",
       "      <td>4.5</td>\n",
       "      <td>POINT (80.41 37.46)</td>\n",
       "      <td>zone 4</td>\n",
       "      <td>z4</td>\n",
       "    </tr>\n",
       "    <tr>\n",
       "      <th>5</th>\n",
       "      <td>1</td>\n",
       "      <td>4.29</td>\n",
       "      <td>0.91</td>\n",
       "      <td>0.08</td>\n",
       "      <td>7.8</td>\n",
       "      <td>0.4</td>\n",
       "      <td>274.0</td>\n",
       "      <td>55.0</td>\n",
       "      <td>148.0</td>\n",
       "      <td>POLYGON ((67.29000000000001 35.43, 67.81 37.55...</td>\n",
       "      <td>...</td>\n",
       "      <td>reverse</td>\n",
       "      <td>reverse</td>\n",
       "      <td>23.7</td>\n",
       "      <td>64.3</td>\n",
       "      <td>39.5</td>\n",
       "      <td>reverse</td>\n",
       "      <td>4.5</td>\n",
       "      <td>POINT (68.78 36.84)</td>\n",
       "      <td>zone 5</td>\n",
       "      <td>z5</td>\n",
       "    </tr>\n",
       "  </tbody>\n",
       "</table>\n",
       "<p>5 rows × 28 columns</p>\n",
       "</div>"
      ],
      "text/plain": [
       "        layerid     a     b  stdb  mmax  stdmmax  strike   dip   rake  \\\n",
       "zoneid                                                                  \n",
       "1             1  5.20  1.05  0.07   8.0      0.4   202.0  73.0   30.0   \n",
       "2             1  4.64  0.93  0.09   8.0      0.4   306.0  31.0  142.0   \n",
       "3             1  3.75  0.77  0.05   8.0      0.4    59.0  89.0   33.0   \n",
       "4             1  4.34  0.98  0.08   7.4      0.4   309.0  56.0  177.0   \n",
       "5             1  4.29  0.91  0.08   7.8      0.4   274.0  55.0  148.0   \n",
       "\n",
       "                                                 geometry ...  mechanism  \\\n",
       "zoneid                                                    ...              \n",
       "1       POLYGON ((67.81 37.55, 68.3 38.82, 72.95 39.99... ...    dextral   \n",
       "2       POLYGON ((72.95 39.99, 76.53 39.99, 76.0999999... ...    reverse   \n",
       "3       POLYGON ((76.09999999999999 38.89, 76.53 39.99... ...    reverse   \n",
       "4       POLYGON ((75.84999999999999 37.89, 76.09999999... ...    dextral   \n",
       "5       POLYGON ((67.29000000000001 35.43, 67.81 37.55... ...    reverse   \n",
       "\n",
       "          new style strike2  dip2  rake2 mechanism2  mmin  \\\n",
       "zoneid                                                      \n",
       "1       strike-slip   102.4  61.4  160.6    dextral   4.5   \n",
       "2           reverse    69.8  71.5   64.7    reverse   4.5   \n",
       "3           reverse   328.4  57.0  178.8    dextral   4.5   \n",
       "4           reverse    40.7  87.5   34.0    reverse   4.5   \n",
       "5           reverse    23.7  64.3   39.5    reverse   4.5   \n",
       "\n",
       "                   centroid source_name  id  \n",
       "zoneid                                       \n",
       "1       POINT (70.44 38.79)      zone 1  z1  \n",
       "2       POINT (74.79 39.23)      zone 2  z2  \n",
       "3       POINT (77.66 39.43)      zone 3  z3  \n",
       "4       POINT (80.41 37.46)      zone 4  z4  \n",
       "5       POINT (68.78 36.84)      zone 5  z5  \n",
       "\n",
       "[5 rows x 28 columns]"
      ]
     },
     "execution_count": 5,
     "metadata": {},
     "output_type": "execute_result"
    }
   ],
   "source": [
    "areal_csv = 'areal_source_model.csv'\n",
    "areal_df = csv2areal(areal_csv)\n",
    "\n",
    "# grab mmax and bvalue from zone above if mmax zero for this zone\n",
    "check_keys = ['mmax', 'b']\n",
    "for i, area_series in areal_df[\n",
    "        (areal_df[check_keys] == 0).any(axis=1)].iterrows():\n",
    "    alternate_zone = int(area_series.name/10)\n",
    "    for key in check_keys:\n",
    "        if area_series[key] == 0:\n",
    "            print('For zone %d taking %s from zone %d' %\n",
    "                  (area_series.name, key, alternate_zone))\n",
    "            areal_df.at[i, key] = areal_df.at[alternate_zone, key]\n",
    "\n",
    "# in some cases we are only interested in the active zones\n",
    "active_areal_df = areal_df[areal_df['a'] != 0]\n",
    "\n",
    "active_areal_df.head()"
   ]
  },
  {
   "cell_type": "code",
   "execution_count": 6,
   "metadata": {
    "slideshow": {
     "slide_type": "slide"
    }
   },
   "outputs": [
    {
     "name": "stdout",
     "output_type": "stream",
     "text": [
      "Reading completeness tables.\n"
     ]
    },
    {
     "data": {
      "text/html": [
       "<div>\n",
       "<style scoped>\n",
       "    .dataframe tbody tr th:only-of-type {\n",
       "        vertical-align: middle;\n",
       "    }\n",
       "\n",
       "    .dataframe tbody tr th {\n",
       "        vertical-align: top;\n",
       "    }\n",
       "\n",
       "    .dataframe thead th {\n",
       "        text-align: right;\n",
       "    }\n",
       "</style>\n",
       "<table border=\"1\" class=\"dataframe\">\n",
       "  <thead>\n",
       "    <tr style=\"text-align: right;\">\n",
       "      <th></th>\n",
       "      <th></th>\n",
       "      <th>4 start</th>\n",
       "      <th>4 end</th>\n",
       "      <th>4.5 start</th>\n",
       "      <th>4.5 end</th>\n",
       "      <th>5.5 start</th>\n",
       "      <th>5.5 end</th>\n",
       "    </tr>\n",
       "    <tr>\n",
       "      <th>zmin</th>\n",
       "      <th>zmax</th>\n",
       "      <th></th>\n",
       "      <th></th>\n",
       "      <th></th>\n",
       "      <th></th>\n",
       "      <th></th>\n",
       "      <th></th>\n",
       "    </tr>\n",
       "  </thead>\n",
       "  <tbody>\n",
       "    <tr>\n",
       "      <th>0</th>\n",
       "      <th>25</th>\n",
       "      <td>1994</td>\n",
       "      <td>2008</td>\n",
       "      <td>1964</td>\n",
       "      <td>2008</td>\n",
       "      <td>1903</td>\n",
       "      <td>2008</td>\n",
       "    </tr>\n",
       "    <tr>\n",
       "      <th>25</th>\n",
       "      <th>70</th>\n",
       "      <td>1990</td>\n",
       "      <td>2008</td>\n",
       "      <td>1964</td>\n",
       "      <td>2008</td>\n",
       "      <td>1902</td>\n",
       "      <td>2008</td>\n",
       "    </tr>\n",
       "    <tr>\n",
       "      <th>70</th>\n",
       "      <th>180</th>\n",
       "      <td>1996</td>\n",
       "      <td>2008</td>\n",
       "      <td>1964</td>\n",
       "      <td>2008</td>\n",
       "      <td>1914</td>\n",
       "      <td>2008</td>\n",
       "    </tr>\n",
       "    <tr>\n",
       "      <th>180</th>\n",
       "      <th>300</th>\n",
       "      <td>1984</td>\n",
       "      <td>2008</td>\n",
       "      <td>1970</td>\n",
       "      <td>2008</td>\n",
       "      <td>1912</td>\n",
       "      <td>2008</td>\n",
       "    </tr>\n",
       "  </tbody>\n",
       "</table>\n",
       "</div>"
      ],
      "text/plain": [
       "           4 start  4 end  4.5 start  4.5 end  5.5 start  5.5 end\n",
       "zmin zmax                                                        \n",
       "0    25       1994   2008       1964     2008       1903     2008\n",
       "25   70       1990   2008       1964     2008       1902     2008\n",
       "70   180      1996   2008       1964     2008       1914     2008\n",
       "180  300      1984   2008       1970     2008       1912     2008"
      ]
     },
     "metadata": {},
     "output_type": "display_data"
    }
   ],
   "source": [
    "print('Reading completeness tables.')\n",
    "completeness_df = pd.read_csv(\n",
    "    '../Data/thingbaijam2011seismogenic/Table1.csv',\n",
    "    header=[0, 1], index_col=[0, 1])\n",
    "completeness_df.columns = [' '.join(col).strip()\n",
    "                           for col in completeness_df.columns.values]\n",
    "display(completeness_df)"
   ]
  },
  {
   "cell_type": "markdown",
   "metadata": {
    "slideshow": {
     "slide_type": "slide"
    }
   },
   "source": [
    "## Plot histograms of $\\lambda$"
   ]
  },
  {
   "cell_type": "code",
   "execution_count": 7,
   "metadata": {
    "slideshow": {
     "slide_type": "slide"
    }
   },
   "outputs": [
    {
     "data": {
      "image/png": "[encoded data removed]",
      "text/plain": [
       "<matplotlib.figure.Figure at 0x7f30e87772e8>"
      ]
     },
     "metadata": {},
     "output_type": "display_data"
    }
   ],
   "source": [
    "prop = 'lambda'\n",
    "fig, axes = plt.subplots(nrows=len(MIN_MAGS), ncols=1,\n",
    "                         figsize=(6, 3*len(MIN_MAGS)), sharex=True)\n",
    "fig.subplots_adjust(hspace=0.1)\n",
    "for min_mag, ax in zip(MIN_MAGS, axes):\n",
    "    groups = smoothed_df[\n",
    "        smoothed_df['mmin model'] == min_mag].groupby('layerid')\n",
    "    data = [np.log10(group[prop]).values for _, group in groups]\n",
    "    labels = ['layer %d' % id for id, _ in groups]\n",
    "    ax.hist(data, label=labels, stacked=True, bins=np.arange(-7, 0, 0.5))\n",
    "    ax.set_ylabel(('%s%g' % (prop, min_mag)).replace('.', '_'))\n",
    "axes[0].legend(loc='upper left');"
   ]
  },
  {
   "cell_type": "markdown",
   "metadata": {
    "slideshow": {
     "slide_type": "slide"
    }
   },
   "source": [
    "## Query a zone"
   ]
  },
  {
   "cell_type": "code",
   "execution_count": 8,
   "metadata": {
    "slideshow": {
     "slide_type": "slide"
    }
   },
   "outputs": [
    {
     "data": {
      "text/plain": [
       "layerid                                                     2\n",
       "a                                                        4.67\n",
       "b                                                        1.05\n",
       "stdb                                                     0.12\n",
       "mmax                                                      7.2\n",
       "stdmmax                                                   0.4\n",
       "mmin                                                      4.5\n",
       "geometry    POLYGON ((93.47 26.91, 94.06999999999999 26.1,...\n",
       "Name: 118, dtype: object"
      ]
     },
     "metadata": {},
     "output_type": "display_data"
    },
    {
     "name": "stdout",
     "output_type": "stream",
     "text": [
      "Points in zone 118: 211\n"
     ]
    }
   ],
   "source": [
    "zone_id = 118\n",
    "fmd_cols = ['layerid', 'a', 'b', 'stdb', 'mmax', 'stdmmax',\n",
    "            'mmin', 'geometry']\n",
    "display(active_areal_df[fmd_cols].loc[zone_id])\n",
    "\n",
    "min_mag = 4.5\n",
    "n_points_zone = ((smoothed_df['mmin model'] == min_mag) &\n",
    "                 (smoothed_df['in zoneid'] == zone_id)).sum()\n",
    "print('Points in zone %d: %d' % (zone_id, n_points_zone))"
   ]
  },
  {
   "cell_type": "markdown",
   "metadata": {
    "slideshow": {
     "slide_type": "slide"
    }
   },
   "source": [
    "## Compare activity rates\n",
    "\n",
    "The truncated Gutenberg-Richter magnitude-frequency distribution in\n",
    "OpenQuake implements\n",
    "    $$\\lambda(m \\geq M) = 10^{a - b m} = e^{\\alpha - \\beta m}$$\n",
    "where, since $\\lambda$ is an annual rate, $10^a$ is too. If we ignore\n",
    "events below some threshold $m_{min}$ then the annual rate becomes\n",
    "    $$\\lambda(m \\geq m_{min}) = e^{\\alpha - \\beta m_{min}}\n",
    "    e^{-\\beta (m - m_{min})} = \\nu e^{-\\beta (m - m_{min})} $$\n",
    "Thus to compute the $a$ value required by OpenQuake from the activity\n",
    "rate $\\lambda$ for a given magnitude threshold, we must also take into\n",
    "account the $b$ value for the zone:\n",
    "    $$a = \\log_{10}(\\lambda) + b m_{min}$$\n",
    "If instead what is provided is event counts $\\nu$ over some catalog\n",
    "duration $T$, then one simply computes $\\lambda = \\nu/T$"
   ]
  },
  {
   "cell_type": "code",
   "execution_count": 9,
   "metadata": {
    "slideshow": {
     "slide_type": "slide"
    }
   },
   "outputs": [],
   "source": [
    "# for each area in the areal model: count the number of points and\n",
    "# sum the activity rates in the smoothed model. from the latter estimate\n",
    "# an equivalent a-value\n",
    "for min_mag, min_mag_df in smoothed_df.groupby('mmin model'):\n",
    "    zone_dfs = min_mag_df.groupby('in zoneid')\n",
    "    stats_df = zone_dfs.agg({'mmin': len, 'lambda': np.sum})\n",
    "\n",
    "    smoothed_n = 'smoothed N ' + str(min_mag)\n",
    "    smoothed_lambda = 'smoothed lambda ' + str(min_mag)\n",
    "\n",
    "    stats_df.rename(columns={'mmin': smoothed_n,\n",
    "                             'lambda': smoothed_lambda},\n",
    "                    inplace=True)\n",
    "    stats_df['zoneid'] = stats_df.index\n",
    "    areal_df = pd.merge(areal_df, stats_df, left_index=True, right_on='zoneid')\n",
    "    areal_df.drop(columns=['zoneid'], inplace=True)\n",
    "\n",
    "    areal_df['smoothed a ' + str(min_mag)] = (\n",
    "        np.log10(areal_df[smoothed_lambda]) +\n",
    "        areal_df['b']*min_mag).round(2)\n",
    "    areal_df['equiv a ' + str(min_mag)] = (\n",
    "        areal_df['a']/areal_df[smoothed_n]).round(2)\n",
    "    areal_df['areal lambda ' + str(min_mag)] = (\n",
    "        10**(areal_df['a'] - areal_df['b']*min_mag)).round(4)\n",
    "    areal_df[smoothed_lambda] = areal_df[smoothed_lambda].round(4)"
   ]
  },
  {
   "cell_type": "markdown",
   "metadata": {
    "slideshow": {
     "slide_type": "slide"
    }
   },
   "source": [
    "## Query a point"
   ]
  },
  {
   "cell_type": "code",
   "execution_count": 10,
   "metadata": {
    "slideshow": {
     "slide_type": "slide"
    }
   },
   "outputs": [
    {
     "ename": "NameError",
     "evalue": "name 'display_drop' is not defined",
     "output_type": "error",
     "traceback": [
      "\u001b[0;31m---------------------------------------------------------------------------\u001b[0m",
      "\u001b[0;31mNameError\u001b[0m                                 Traceback (most recent call last)",
      "\u001b[0;32m<ipython-input-10-967bc1569b23>\u001b[0m in \u001b[0;36m<module>\u001b[0;34m()\u001b[0m\n\u001b[1;32m      1\u001b[0m this_lon_lat = ((smoothed_df['longitude'] == 98.0) &\n\u001b[1;32m      2\u001b[0m                 (smoothed_df['latitude'] == 3.8))\n\u001b[0;32m----> 3\u001b[0;31m \u001b[0mdisplay\u001b[0m\u001b[0;34m(\u001b[0m\u001b[0msmoothed_df\u001b[0m\u001b[0;34m[\u001b[0m\u001b[0mthis_lon_lat\u001b[0m\u001b[0;34m]\u001b[0m\u001b[0;34m.\u001b[0m\u001b[0mdrop\u001b[0m\u001b[0;34m(\u001b[0m\u001b[0mdisplay_drop\u001b[0m\u001b[0;34m,\u001b[0m \u001b[0maxis\u001b[0m\u001b[0;34m=\u001b[0m\u001b[0;36m1\u001b[0m\u001b[0;34m)\u001b[0m\u001b[0;34m)\u001b[0m\u001b[0;34m\u001b[0m\u001b[0m\n\u001b[0m",
      "\u001b[0;31mNameError\u001b[0m: name 'display_drop' is not defined"
     ]
    }
   ],
   "source": [
    "this_lon_lat = ((smoothed_df['longitude'] == 98.0) &\n",
    "                (smoothed_df['latitude'] == 3.8))\n",
    "display(smoothed_df[this_lon_lat].drop(display_drop, axis=1))"
   ]
  },
  {
   "cell_type": "markdown",
   "metadata": {
    "slideshow": {
     "slide_type": "slide"
    }
   },
   "source": [
    "## Write summary"
   ]
  },
  {
   "cell_type": "code",
   "execution_count": null,
   "metadata": {
    "slideshow": {
     "slide_type": "slide"
    }
   },
   "outputs": [],
   "source": [
    "activity_file = os.path.join(\n",
    "    smoothed_model_path, 'activity_rates_by_zone_areal_vs_smoothed.csv')\n",
    "print('Writing activity summary to:\\n\\t%s' % activity_file)\n",
    "activity_df = areal_df[[\n",
    "    'layerid', 'areal lambda 4.5', 'areal lambda 5.5',\n",
    "    'smoothed lambda 4.5', 'smoothed lambda 5.5', 'smoothed N 4.5',\n",
    "    'smoothed N 5.5']]\n",
    "activity_df = activity_df.rename(\n",
    "    columns={'areal lambda 4.5': 'areal 4.5',\n",
    "             'smoothed lambda 4.5': 'smoothed 4.5',\n",
    "             'areal lambda 5.5': 'areal 5.5',\n",
    "             'smoothed lambda 5.5': 'smoothed 5.5',\n",
    "             'smoothed N 4.5': 'N 4.5',\n",
    "             'smoothed N 5.5': 'N 5.5'})\n",
    "\n",
    "activity_df = activity_df.reset_index()\n",
    "\n",
    "for layer_id in LAYERS_DF.index:\n",
    "    series = pd.Series(activity_df[\n",
    "        activity_df['layerid'] == layer_id].sum(axis=0))\n",
    "    series['layerid'] = layer_id\n",
    "    series['zoneid'] = 'All'\n",
    "    activity_df = activity_df.append(series, ignore_index=True)\n",
    "\n",
    "series = pd.Series(activity_df[activity_df['zoneid'] == 'All'].sum(axis=0))\n",
    "series['layerid'] = 'All'\n",
    "series['zoneid'] = 'All'\n",
    "activity_df = activity_df.append(series, ignore_index=True)\n",
    "activity_df['ratio 4.5'] = (activity_df['smoothed 4.5'] /\n",
    "                            activity_df['areal 4.5']).round(2)\n",
    "activity_df['ratio 5.5'] = (activity_df['smoothed 5.5'] /\n",
    "                            activity_df['areal 5.5']).round(2)\n",
    "\n",
    "activity_df.to_csv(activity_file)\n",
    "activity_df"
   ]
  },
  {
   "cell_type": "markdown",
   "metadata": {
    "slideshow": {
     "slide_type": "slide"
    }
   },
   "source": [
    "## Compare areal and smoothed model activity rates layer by layer"
   ]
  },
  {
   "cell_type": "code",
   "execution_count": null,
   "metadata": {
    "slideshow": {
     "slide_type": "slide"
    }
   },
   "outputs": [],
   "source": [
    "layer_activity_df = pd.DataFrame()\n",
    "for layer_id in LAYERS_DF.index:\n",
    "    in_areal_layer = areal_df['layerid'] == layer_id\n",
    "    in_smoothed_layer = smoothed_df['layerid'] == layer_id\n",
    "    in_a_zone = smoothed_df['distance'] == 0\n",
    "\n",
    "    layer_series = pd.Series(name=layer_id)\n",
    "    for min_mag in MIN_MAGS:\n",
    "\n",
    "        this_model = smoothed_df['mmin model'] == min_mag\n",
    "        layer_series['areal ' + str(min_mag)] = (\n",
    "            10**(areal_df[in_areal_layer]['a'] -\n",
    "                 areal_df[in_areal_layer]['b']*min_mag)).sum().round(1)\n",
    "        layer_series['smoothed ' + str(min_mag)] = (\n",
    "            smoothed_df[in_smoothed_layer & this_model & in_a_zone]['lambda']\n",
    "            .sum().round(1))\n",
    "\n",
    "    layer_activity_df = layer_activity_df.append(layer_series)\n",
    "\n",
    "layer_activity_df.index.name = 'layerid'\n",
    "\n",
    "layer_activity_df = layer_activity_df.append(pd.Series(\n",
    "    layer_activity_df.sum(axis=0), name='Total'))\n",
    "for min_mag in MIN_MAGS:\n",
    "    layer_activity_df['ratio ' + str(min_mag)] = (\n",
    "        layer_activity_df['smoothed ' + str(min_mag)] /\n",
    "        layer_activity_df['areal ' + str(min_mag)]).round(2)\n",
    "\n",
    "display(layer_activity_df)"
   ]
  },
  {
   "cell_type": "markdown",
   "metadata": {
    "slideshow": {
     "slide_type": "slide"
    }
   },
   "source": [
    "## Read catalogue"
   ]
  },
  {
   "cell_type": "code",
   "execution_count": null,
   "metadata": {
    "slideshow": {
     "slide_type": "slide"
    }
   },
   "outputs": [],
   "source": [
    "catalogue_df = pd.read_csv('../Catalogue/SACAT1900_2008v2.txt', sep='\\t')\n",
    "fig, ax = plt.subplots(figsize=(3, 3))\n",
    "ax = catalogue_df['SHOCK_TYPE'].value_counts().plot(kind='pie', ax=ax)"
   ]
  },
  {
   "cell_type": "markdown",
   "metadata": {
    "slideshow": {
     "slide_type": "slide"
    }
   },
   "source": [
    "## Augment catalogue with zone and layer info"
   ]
  },
  {
   "cell_type": "code",
   "execution_count": null,
   "metadata": {
    "slideshow": {
     "slide_type": "slide"
    }
   },
   "outputs": [],
   "source": [
    "catalogue_df['geometry'] = [Point(lon, lat)\n",
    "                            for lon, lat in zip(catalogue_df['LON'],\n",
    "                                                catalogue_df['LAT'])]\n",
    "layer_catalogue_gdfs = []\n",
    "for layer_id, layer in LAYERS_DF.iterrows():\n",
    "    layer_catalogue_gdf = gpd.GeoDataFrame(catalogue_df[\n",
    "        (catalogue_df['DEPTH'] >= layer['zmin']) &\n",
    "        (catalogue_df['DEPTH'] < layer['zmax'])], crs='WGS84')\n",
    "    layer_areal_gdf = gpd.GeoDataFrame(\n",
    "        areal_df[areal_df['layerid'] == layer_id]\n",
    "        [['geometry', 'layerid']], crs='WGS84')\n",
    "    layer_catalogue_gdfs.append(gpd.sjoin(layer_catalogue_gdf,\n",
    "                                          layer_areal_gdf, how='left'))\n",
    "catalogue_df = pd.concat(layer_catalogue_gdfs).drop('geometry')\n",
    "catalogue_df.rename(columns={'index_right': 'zoneid',\n",
    "                             'layerid_right': 'layerid'}, inplace=True)\n",
    "catalogue_df.drop('layerid', axis=1, inplace=True)\n",
    "\n",
    "display(pd.concat((catalogue_df.head(),\n",
    "                   catalogue_df.tail())))"
   ]
  },
  {
   "cell_type": "markdown",
   "metadata": {
    "slideshow": {
     "slide_type": "slide"
    }
   },
   "source": [
    "# Compute activity rates from catalogue"
   ]
  },
  {
   "cell_type": "code",
   "execution_count": null,
   "metadata": {
    "slideshow": {
     "slide_type": "slide"
    }
   },
   "outputs": [],
   "source": [
    "catalogue_activity_df = pd.DataFrame()\n",
    "for layer_id, layer in LAYERS_DF.join(completeness_df,\n",
    "                                      on=['zmin', 'zmax']).iterrows():\n",
    "    layer_results = pd.Series()\n",
    "    for min_mag in reversed(MIN_MAGS):\n",
    "        above_thresh = catalogue_df['MAG_MW'] >= min_mag\n",
    "        start = layer[str(min_mag) + ' start']\n",
    "        end = layer[str(min_mag) + ' end']\n",
    "        at_depth = ((catalogue_df['DEPTH'] >= layer['zmin']) &\n",
    "                    (catalogue_df['DEPTH'] < layer['zmax']))\n",
    "        in_years = ((catalogue_df['YEAR'] >= start) &\n",
    "                    (catalogue_df['YEAR'] <= end))\n",
    "        in_a_zone = catalogue_df['zoneid'] != -1\n",
    "        is_mainshock = catalogue_df['SHOCK_TYPE'] == 'Mainshock'\n",
    "        subcat_df = catalogue_df[\n",
    "            above_thresh & at_depth & in_years & in_a_zone & is_mainshock]\n",
    "        layer_results = layer_results.append(pd.Series({\n",
    "            'catalogue ' + str(min_mag):\n",
    "                round(float(len(subcat_df))/(end - start + 1), 1),\n",
    "            }, name=layer_id))\n",
    "    catalogue_activity_df = catalogue_activity_df.append(layer_results,\n",
    "                                                         ignore_index=True)\n",
    "catalogue_activity_df = catalogue_activity_df.append(pd.Series(\n",
    "    catalogue_activity_df.sum(axis=0), name='Total'))\n",
    "\n",
    "summary_tex = os.path.join(\n",
    "    smoothed_model_path,\n",
    "    'activity_rates_by_layer_areal_vs_smoothed_vs_catalogue.tex')\n",
    "activity_df = layer_activity_df.join(catalogue_activity_df)\n",
    "model_type = [item.split()[0] for item in activity_df.columns]\n",
    "model_type = ['catalogue' if item == 'cat' else item\n",
    "              for item in model_type]\n",
    "min_mag = [float(item.split()[1]) for item in activity_df.columns]\n",
    "activity_df.columns = [min_mag, model_type]\n",
    "multi_cols = pd.MultiIndex.from_tuples([\n",
    "    (4.5, 'areal'), (4.5, 'smoothed'), (4.5, 'catalogue'),\n",
    "    (5.5, 'areal'), (5.5, 'smoothed'), (5.5, 'catalogue'),\n",
    "    ], names=['source', 'minimum magnitude'])\n",
    "# activity_df[('layerid', 'minimum magnitude')] = activity_df.index\n",
    "# activity_df.index = range(len(activity_df))\n",
    "\n",
    "activity_df = activity_df[multi_cols]\n",
    "display(activity_df)\n",
    "\n",
    "print('Writing activity rates to:\\n\\t%s' % summary_tex)\n",
    "activity_df.to_latex(summary_tex, index_names=True,)"
   ]
  },
  {
   "cell_type": "markdown",
   "metadata": {
    "slideshow": {
     "slide_type": "slide"
    }
   },
   "source": [
    "## Plot histograms"
   ]
  },
  {
   "cell_type": "code",
   "execution_count": null,
   "metadata": {
    "scrolled": false,
    "slideshow": {
     "slide_type": "slide"
    }
   },
   "outputs": [],
   "source": [
    "PLOT_PARAMS = ['a', 'b', 'nu', 'lambda']\n",
    "LOG_PARAMS = ['nu', 'lambda']\n",
    "\n",
    "for param in PLOT_PARAMS:\n",
    "    all_data = smoothed_df[param].values\n",
    "    if param in LOG_PARAMS:\n",
    "        bins = logspace(np.nanmin(all_data), np.nanmax(all_data), 3)\n",
    "    else:\n",
    "        bins = linspace(np.nanmin(all_data), np.nanmax(all_data))\n",
    "\n",
    "    fig, axes = plt.subplots(len(LAYERS_DF), len(MIN_MAGS),\n",
    "                             figsize=(6.5, 8.5), squeeze=False,\n",
    "                             sharex=True, sharey=True)\n",
    "    fig.subplots_adjust(hspace=0, wspace=0)\n",
    "    for layer_id, row_axes in zip(LAYERS_DF.index, axes):\n",
    "        for min_mag, ax in zip(MIN_MAGS, row_axes):\n",
    "            annotate('layer %d mmin %g' % (layer_id, min_mag),\n",
    "                     loc='upper right', ax=ax, prop={'size': 8})\n",
    "\n",
    "            subset_indices = (\n",
    "                (smoothed_df['mmin model'] == min_mag) &\n",
    "                (smoothed_df['layerid'] == layer_id))\n",
    "\n",
    "            ax.hist(smoothed_df[subset_indices][param],\n",
    "                    bins=bins)\n",
    "            if param in LOG_PARAMS:\n",
    "                ax.set_xscale('log')\n",
    "\n",
    "    for ax in axes[:, -1]:\n",
    "        ax.set_xlabel(param)"
   ]
  },
  {
   "cell_type": "markdown",
   "metadata": {
    "slideshow": {
     "slide_type": "slide"
    }
   },
   "source": [
    "# Plot maps"
   ]
  },
  {
   "cell_type": "code",
   "execution_count": null,
   "metadata": {
    "scrolled": false,
    "slideshow": {
     "slide_type": "slide"
    }
   },
   "outputs": [],
   "source": [
    "for param in PLOT_PARAMS:\n",
    "\n",
    "    all_data, longitudes, latitudes = extract_param(smoothed_df, param)\n",
    "    if param in LOG_PARAMS:\n",
    "        ticks = logspace(np.nanmin(all_data), np.nanmax(all_data), 3)\n",
    "        norm = LogNorm(vmin=ticks[0], vmax=ticks[-1])\n",
    "    else:\n",
    "        ticks = linspace(np.nanmin(all_data), np.nanmax(all_data), 7)\n",
    "        norm = Normalize(vmin=ticks[0], vmax=ticks[-1])\n",
    "\n",
    "    extent = (longitudes[0], longitudes[-1], latitudes[0], latitudes[-1])\n",
    "\n",
    "    fig, axes = plt.subplots(len(LAYERS_DF), len(MIN_MAGS),\n",
    "                             figsize=(6.5, 8.5), squeeze=False,\n",
    "                             sharex=True, sharey=True)\n",
    "    fig.subplots_adjust(hspace=0, wspace=0)\n",
    "    for layer_id, row_axes in zip(LAYERS_DF.index, axes):\n",
    "        for min_mag, ax in zip(MIN_MAGS, row_axes):\n",
    "            annotate('layer %d mmin %g' % (layer_id, min_mag),\n",
    "                     loc='lower left', ax=ax)\n",
    "            subset_indices = (\n",
    "                (smoothed_df['mmin model'] == min_mag) &\n",
    "                (smoothed_df['layerid'] == layer_id))\n",
    "\n",
    "            data = extract_param(smoothed_df[subset_indices], param)[0]\n",
    "            image = ax.imshow(\n",
    "                data, cmap='jet', origin='lower', aspect='equal',\n",
    "                extent=extent, norm=norm)\n",
    "            ax.grid()\n",
    "\n",
    "    for ax in axes[:, 0]:\n",
    "        ax.set_ylabel(u'Latitude (°N)')\n",
    "    for ax in axes[-1, :]:\n",
    "        ax.set_xlabel(u'Longitude (°E)')\n",
    "\n",
    "    fig.colorbar(image, ax=axes.ravel().tolist(), label=param,\n",
    "                 shrink=1/len(LAYERS_DF), ticks=ticks)"
   ]
  }
 ],
 "metadata": {
  "kernelspec": {
   "display_name": "oq",
   "language": "python",
   "name": "oq"
  },
  "language_info": {
   "codemirror_mode": {
    "name": "ipython",
    "version": 3
   },
   "file_extension": ".py",
   "mimetype": "text/x-python",
   "name": "python",
   "nbconvert_exporter": "python",
   "pygments_lexer": "ipython3",
   "version": "3.5.4"
  }
 },
 "nbformat": 4,
 "nbformat_minor": 2
}
