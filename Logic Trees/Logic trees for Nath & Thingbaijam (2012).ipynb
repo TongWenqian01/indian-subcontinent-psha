{
 "cells": [
  {
   "cell_type": "markdown",
   "metadata": {},
   "source": [
    "# Logic trees for Nath & Thingbaijam (2012)\n",
    "\n",
    "Read logic tree tables extracted from publication, along with a table of supplementary information write them to TEX and XML. Note that the logic trees require information from the source models, so if changes are made there then this must be rerun too."
   ]
  },
  {
   "cell_type": "code",
   "execution_count": 1,
   "metadata": {
    "collapsed": false
   },
   "outputs": [],
   "source": [
    "%load_ext autoreload"
   ]
  },
  {
   "cell_type": "code",
   "execution_count": 2,
   "metadata": {
    "collapsed": false
   },
   "outputs": [],
   "source": [
    "import pandas as pd\n",
    "from IPython.display import display\n",
    "\n",
    "%autoreload 2\n",
    "import logic_tree_tools as ltt\n",
    "\n",
    "from openquake.commonlib import nrml"
   ]
  },
  {
   "cell_type": "code",
   "execution_count": 3,
   "metadata": {
    "collapsed": true
   },
   "outputs": [],
   "source": [
    "# flag determines whether branch IDs are included in PDF drawings of logic trees\n",
    "include_ids=False"
   ]
  },
  {
   "cell_type": "markdown",
   "metadata": {},
   "source": [
    "## GMPE Logic Tree"
   ]
  },
  {
   "cell_type": "code",
   "execution_count": 4,
   "metadata": {
    "collapsed": true
   },
   "outputs": [],
   "source": [
    "ltt.nrml_to_pdf('example_gmpe_logic_tree.xml', include_ids=include_ids)"
   ]
  },
  {
   "cell_type": "code",
   "execution_count": 5,
   "metadata": {
    "collapsed": false
   },
   "outputs": [
    {
     "data": {
      "text/html": [
       "<div>\n",
       "<table border=\"1\" class=\"dataframe\">\n",
       "  <thead>\n",
       "    <tr style=\"text-align: right;\">\n",
       "      <th></th>\n",
       "      <th>uncertaintyType</th>\n",
       "      <th>applyToTectonicRegionType</th>\n",
       "      <th>uncertaintyModel</th>\n",
       "    </tr>\n",
       "  </thead>\n",
       "  <tbody>\n",
       "    <tr>\n",
       "      <th>0</th>\n",
       "      <td>gmpeModel</td>\n",
       "      <td>active shallow crust normal</td>\n",
       "      <td>[AkkarBommer2010, BooreAtkinson2008, CampbellB...</td>\n",
       "    </tr>\n",
       "    <tr>\n",
       "      <th>1</th>\n",
       "      <td>gmpeModel</td>\n",
       "      <td>active shallow crust strike-slip reverse</td>\n",
       "      <td>[AkkarBommer2010, BooreAtkinson2008, CampbellB...</td>\n",
       "    </tr>\n",
       "    <tr>\n",
       "      <th>2</th>\n",
       "      <td>gmpeModel</td>\n",
       "      <td>intraplate margin lower</td>\n",
       "      <td>[AtkinsonBoore2006, ToroEtAl2002, SharmaEtAl20...</td>\n",
       "    </tr>\n",
       "    <tr>\n",
       "      <th>3</th>\n",
       "      <td>gmpeModel</td>\n",
       "      <td>intraplate margin upper</td>\n",
       "      <td>[AtkinsonBoore2006, ToroEtAl2002, SharmaEtAl20...</td>\n",
       "    </tr>\n",
       "    <tr>\n",
       "      <th>4</th>\n",
       "      <td>gmpeModel</td>\n",
       "      <td>stable shallow crust</td>\n",
       "      <td>[AtkinsonBoore2006, ToroEtAl2002, Campbell2003...</td>\n",
       "    </tr>\n",
       "    <tr>\n",
       "      <th>5</th>\n",
       "      <td>gmpeModel</td>\n",
       "      <td>subduction interface</td>\n",
       "      <td>[AtkinsonBoore2003SInter, ZhaoEtAl2006SInter, ...</td>\n",
       "    </tr>\n",
       "    <tr>\n",
       "      <th>6</th>\n",
       "      <td>gmpeModel</td>\n",
       "      <td>subduction interface megathrust</td>\n",
       "      <td>[AtkinsonBoore2003SInter, AtkinsonMacias2009, ...</td>\n",
       "    </tr>\n",
       "    <tr>\n",
       "      <th>7</th>\n",
       "      <td>gmpeModel</td>\n",
       "      <td>subduction intraslab Himalayas</td>\n",
       "      <td>[AtkinsonBoore2003SSlabJapan, YoungsEtAl1997SS...</td>\n",
       "    </tr>\n",
       "    <tr>\n",
       "      <th>8</th>\n",
       "      <td>gmpeModel</td>\n",
       "      <td>subduction intraslab</td>\n",
       "      <td>[AtkinsonBoore2003SSlabCascadia, YoungsEtAl199...</td>\n",
       "    </tr>\n",
       "  </tbody>\n",
       "</table>\n",
       "</div>"
      ],
      "text/plain": [
       "  uncertaintyType                 applyToTectonicRegionType  \\\n",
       "0       gmpeModel               active shallow crust normal   \n",
       "1       gmpeModel  active shallow crust strike-slip reverse   \n",
       "2       gmpeModel                   intraplate margin lower   \n",
       "3       gmpeModel                   intraplate margin upper   \n",
       "4       gmpeModel                      stable shallow crust   \n",
       "5       gmpeModel                      subduction interface   \n",
       "6       gmpeModel           subduction interface megathrust   \n",
       "7       gmpeModel            subduction intraslab Himalayas   \n",
       "8       gmpeModel                      subduction intraslab   \n",
       "\n",
       "                                    uncertaintyModel  \n",
       "0  [AkkarBommer2010, BooreAtkinson2008, CampbellB...  \n",
       "1  [AkkarBommer2010, BooreAtkinson2008, CampbellB...  \n",
       "2  [AtkinsonBoore2006, ToroEtAl2002, SharmaEtAl20...  \n",
       "3  [AtkinsonBoore2006, ToroEtAl2002, SharmaEtAl20...  \n",
       "4  [AtkinsonBoore2006, ToroEtAl2002, Campbell2003...  \n",
       "5  [AtkinsonBoore2003SInter, ZhaoEtAl2006SInter, ...  \n",
       "6  [AtkinsonBoore2003SInter, AtkinsonMacias2009, ...  \n",
       "7  [AtkinsonBoore2003SSlabJapan, YoungsEtAl1997SS...  \n",
       "8  [AtkinsonBoore2003SSlabCascadia, YoungsEtAl199...  "
      ]
     },
     "execution_count": 5,
     "metadata": {},
     "output_type": "execute_result"
    }
   ],
   "source": [
    "gsim_tree_tsv = 'gmpe_logic_tree.tsv'\n",
    "gsim_tree_df = ltt.read_tree_tsv(gsim_tree_tsv)\n",
    "gsim_tree_df.drop(['Tectonic Region Type', 'Qualifier', 'Short Names'], axis=1)"
   ]
  },
  {
   "cell_type": "code",
   "execution_count": 6,
   "metadata": {
    "collapsed": false
   },
   "outputs": [
    {
     "name": "stderr",
     "output_type": "stream",
     "text": [
      "<string>:2: DeprecationWarning: logic_tree_tools.write_gsim_tree_nrml has been deprecated. Use gsim_data_to_tree instead\n",
      "/home/nick/src/python/GEM/oq-hazardlib/openquake/hazardlib/gsim/base.py:90: NotVerifiedWarning: Gupta2010SSlab is not independently verified - the user is liable for their application\n",
      "  warnings.warn(msg, NotVerifiedWarning)\n"
     ]
    },
    {
     "name": "stdout",
     "output_type": "stream",
     "text": [
      "Level 1 model 4 \"KannoEtAl2006Shallow\" not valid GSIM. Omitting ...\n",
      "Level 2 model 4 \"KannoEtAl2006Shallow\" not valid GSIM. Omitting ...\n",
      "Level 3 model 4 \"NathEtAl2012Lower\" not valid GSIM. Omitting ...\n",
      "Level 4 model 4 \"NathEtAl2012Upper\" not valid GSIM. Omitting ...\n",
      "Level 5 model 4 \"RagukanthIyengar2007\" not valid GSIM. Omitting ...\n",
      "Level 6 model 3 \"KannoEtAl2006Deep\" not valid GSIM. Omitting ...\n",
      "Level 7 model 4 \"KannoEtAl2006Deep\" not valid GSIM. Omitting ...\n",
      "Level 8 model 1 \"AtkinsonBoore2003SSlabJapan\" not valid GSIM. Omitting ...\n",
      "Level 9 model 1 \"AtkinsonBoore2003SSlabCascadia\" not valid GSIM. Omitting ...\n"
     ]
    }
   ],
   "source": [
    "gsim_tree_deprecated_xml = gsim_tree_tsv.replace('.tsv','_deprecated.xml')\n",
    "ltt.write_gsim_tree_nrml(gsim_tree_df, gsim_tree_deprecated_xml, validate=True)\n",
    "gsim_tree_deprecated = nrml.read(gsim_tree_deprecated_xml)"
   ]
  },
  {
   "cell_type": "code",
   "execution_count": 7,
   "metadata": {
    "collapsed": false
   },
   "outputs": [
    {
     "name": "stdout",
     "output_type": "stream",
     "text": [
      "Omitting bs1 model 5 \"SharmaEtAl2009\" ...\n",
      "Omitting bs1 model 4 \"KannoEtAl2006Shallow\" ...\n",
      "Omitting bs2 model 4 \"KannoEtAl2006Shallow\" ...\n",
      "Omitting bs3 model 4 \"NathEtAl2012Lower\" ...\n",
      "Omitting bs3 model 3 \"SharmaEtAl2009\" ...\n",
      "Omitting bs4 model 4 \"NathEtAl2012Upper\" ...\n",
      "Omitting bs4 model 3 \"SharmaEtAl2009\" ...\n",
      "Omitting bs5 model 4 \"RagukanthIyengar2007\" ...\n",
      "Omitting bs6 model 3 \"KannoEtAl2006Deep\" ...\n",
      "Omitting bs7 model 4 \"KannoEtAl2006Deep\" ...\n",
      "Omitting bs8 model 1 \"AtkinsonBoore2003SSlabJapan\" ...\n",
      "Omitting bs9 model 4 \"Gupta2010SSlab\" ...\n",
      "Omitting bs9 model 1 \"AtkinsonBoore2003SSlabCascadia\" ...\n"
     ]
    }
   ],
   "source": [
    "new_models = ['SharmaEtAl2009', \n",
    "              'KannoEtAl2006Shallow', 'KannoEtAl2006Deep', \n",
    "              'NathEtAl2012Lower', 'NathEtAl2012Upper', \n",
    "              'RagukanthIyengar2007', \n",
    "              'Gupta2010SSlab',\n",
    "              'AtkinsonBoore2003SSlabJapan','AtkinsonBoore2003SSlabCascadia']\n",
    "gsim_tree_omit_new = ltt.df_to_tree(gsim_tree_df, omit=new_models, validate=True)\n",
    "gsim_tree_omit_new_xml = gsim_tree_tsv.replace('.tsv','_omit_new.xml')\n",
    "with open(gsim_tree_omit_new_xml, 'w+') as f:\n",
    "    nrml.write([gsim_tree_omit_new], f, fmt='%g')\n",
    "ltt.nrml_to_pdf(gsim_tree_omit_new_xml, include_ids=include_ids)"
   ]
  },
  {
   "cell_type": "code",
   "execution_count": 8,
   "metadata": {
    "collapsed": false
   },
   "outputs": [],
   "source": [
    "gsim_tree_read = nrml.read(gsim_tree_omit_new_xml)"
   ]
  },
  {
   "cell_type": "code",
   "execution_count": 9,
   "metadata": {
    "collapsed": false
   },
   "outputs": [
    {
     "name": "stdout",
     "output_type": "stream",
     "text": [
      "AkkarBommer2010\n",
      "AkkarBommer2010\n",
      "AkkarBommer2010\n"
     ]
    }
   ],
   "source": [
    "# not clear why you don't get the same thing reading and writing\n",
    "print gsim_tree_omit_new.logicTreeBranchingLevel.logicTreeBranchSet.logicTreeBranch.uncertaintyModel.text\n",
    "print gsim_tree_read.logicTree.logicTreeBranchingLevel.logicTreeBranchSet.logicTreeBranch.uncertaintyModel.text.strip()\n",
    "print gsim_tree_deprecated.logicTree.logicTreeBranchingLevel.logicTreeBranchSet.logicTreeBranch.uncertaintyModel.text.strip()"
   ]
  },
  {
   "cell_type": "code",
   "execution_count": 10,
   "metadata": {
    "collapsed": false
   },
   "outputs": [
    {
     "name": "stdout",
     "output_type": "stream",
     "text": [
      "<logicTreeBranchSet {'branchSetID': 'bs1', 'applyToTectonicRegionType': 'active shallow crust normal', 'uncertaintyType': 'gmpeModel'} None ...>\n",
      "logicTreeBranchSet = 3x logicTreeBranch\n",
      "branchSetID\n"
     ]
    }
   ],
   "source": [
    "node = gsim_tree_omit_new[0][0]\n",
    "print node\n",
    "print '%s = %dx %s' %(ltt.strip_fqtag(node.tag), len(node), \n",
    "                      ltt.strip_fqtag(node[0].tag))\n",
    "print ltt.get_dict_key_match(node.attrib,'id')"
   ]
  },
  {
   "cell_type": "code",
   "execution_count": 11,
   "metadata": {
    "collapsed": false
   },
   "outputs": [],
   "source": [
    "# let's also write an un-validated (\"full\") version of the tree\n",
    "gsim_tree = ltt.df_to_tree(gsim_tree_df, validate=False)\n",
    "gsim_tree_xml = gsim_tree_tsv.replace('.tsv','.xml')\n",
    "with open(gsim_tree_xml, 'w+') as f:\n",
    "    nrml.write([gsim_tree], f, fmt='%g')\n",
    "ltt.nrml_to_pdf(gsim_tree_xml, include_ids=include_ids)"
   ]
  },
  {
   "cell_type": "markdown",
   "metadata": {},
   "source": [
    "## Source Model Logic Tree"
   ]
  },
  {
   "cell_type": "code",
   "execution_count": 12,
   "metadata": {
    "collapsed": false
   },
   "outputs": [
    {
     "name": "stdout",
     "output_type": "stream",
     "text": [
      "Too many (11) nodes in logicTree, abbreviating TEX to first & last 5\n"
     ]
    }
   ],
   "source": [
    "ltt.nrml_to_pdf('example_source_model_logic_tree.xml', include_ids=include_ids)"
   ]
  },
  {
   "cell_type": "code",
   "execution_count": 17,
   "metadata": {
    "collapsed": false
   },
   "outputs": [
    {
     "name": "stdout",
     "output_type": "stream",
     "text": [
      "PROCESSING areal_model_logic_tree.tsv\n"
     ]
    },
    {
     "data": {
      "text/html": [
       "<div>\n",
       "<table border=\"1\" class=\"dataframe\">\n",
       "  <thead>\n",
       "    <tr style=\"text-align: right;\">\n",
       "      <th></th>\n",
       "      <th>uncertaintyType</th>\n",
       "      <th>applyToSources</th>\n",
       "      <th>uncertaintyModel</th>\n",
       "      <th>uncertaintyWeight</th>\n",
       "    </tr>\n",
       "  </thead>\n",
       "  <tbody>\n",
       "    <tr>\n",
       "      <th>0</th>\n",
       "      <td>sourceModel</td>\n",
       "      <td>all</td>\n",
       "      <td>[areal_source_model.xml]</td>\n",
       "      <td>[1]</td>\n",
       "    </tr>\n",
       "    <tr>\n",
       "      <th>1</th>\n",
       "      <td>maxMagGRAbsolute</td>\n",
       "      <td>areal_source_model.tsv</td>\n",
       "      <td>[mmax - stdmmax, mmax, mmax + stdmmax]</td>\n",
       "      <td>[0.32, 0.36, 0.32]</td>\n",
       "    </tr>\n",
       "    <tr>\n",
       "      <th>2</th>\n",
       "      <td>bGRRelative</td>\n",
       "      <td>areal_source_model.tsv</td>\n",
       "      <td>[-stdb, 0, +stdb]</td>\n",
       "      <td>[0.32, 0.36, 0.32]</td>\n",
       "    </tr>\n",
       "  </tbody>\n",
       "</table>\n",
       "</div>"
      ],
      "text/plain": [
       "    uncertaintyType          applyToSources  \\\n",
       "0       sourceModel                     all   \n",
       "1  maxMagGRAbsolute  areal_source_model.tsv   \n",
       "2       bGRRelative  areal_source_model.tsv   \n",
       "\n",
       "                         uncertaintyModel   uncertaintyWeight  \n",
       "0                [areal_source_model.xml]                 [1]  \n",
       "1  [mmax - stdmmax, mmax, mmax + stdmmax]  [0.32, 0.36, 0.32]  \n",
       "2                       [-stdb, 0, +stdb]  [0.32, 0.36, 0.32]  "
      ]
     },
     "metadata": {},
     "output_type": "display_data"
    },
    {
     "name": "stdout",
     "output_type": "stream",
     "text": [
      "Cannot find 0 in keys of areal_source_model.tsv, setting to zero\n"
     ]
    },
    {
     "data": {
      "text/html": [
       "<div>\n",
       "<table border=\"1\" class=\"dataframe\">\n",
       "  <thead>\n",
       "    <tr style=\"text-align: right;\">\n",
       "      <th></th>\n",
       "      <th>uncertaintyType</th>\n",
       "      <th>applyToSources</th>\n",
       "      <th>uncertaintyModel</th>\n",
       "      <th>uncertaintyWeight</th>\n",
       "    </tr>\n",
       "  </thead>\n",
       "  <tbody>\n",
       "    <tr>\n",
       "      <th>0</th>\n",
       "      <td>sourceModel</td>\n",
       "      <td>all</td>\n",
       "      <td>[areal_source_model.xml]</td>\n",
       "      <td>[1]</td>\n",
       "    </tr>\n",
       "    <tr>\n",
       "      <th>1</th>\n",
       "      <td>maxMagGRAbsolute</td>\n",
       "      <td>z1m</td>\n",
       "      <td>[7.6, 8.0, 8.4]</td>\n",
       "      <td>[0.32, 0.36, 0.32]</td>\n",
       "    </tr>\n",
       "    <tr>\n",
       "      <th>2</th>\n",
       "      <td>maxMagGRAbsolute</td>\n",
       "      <td>z2m</td>\n",
       "      <td>[7.6, 8.0, 8.4]</td>\n",
       "      <td>[0.32, 0.36, 0.32]</td>\n",
       "    </tr>\n",
       "    <tr>\n",
       "      <th>3</th>\n",
       "      <td>maxMagGRAbsolute</td>\n",
       "      <td>z3</td>\n",
       "      <td>[7.6, 8.0, 8.4]</td>\n",
       "      <td>[0.32, 0.36, 0.32]</td>\n",
       "    </tr>\n",
       "    <tr>\n",
       "      <th>4</th>\n",
       "      <td>maxMagGRAbsolute</td>\n",
       "      <td>z4</td>\n",
       "      <td>[7.0, 7.4, 7.8]</td>\n",
       "      <td>[0.32, 0.36, 0.32]</td>\n",
       "    </tr>\n",
       "    <tr>\n",
       "      <th>218</th>\n",
       "      <td>bGRRelative</td>\n",
       "      <td>z931m</td>\n",
       "      <td>[-0.12, 0.0, 0.12]</td>\n",
       "      <td>[0.32, 0.36, 0.32]</td>\n",
       "    </tr>\n",
       "    <tr>\n",
       "      <th>219</th>\n",
       "      <td>bGRRelative</td>\n",
       "      <td>z932</td>\n",
       "      <td>[-0.1, 0.0, 0.1]</td>\n",
       "      <td>[0.32, 0.36, 0.32]</td>\n",
       "    </tr>\n",
       "    <tr>\n",
       "      <th>220</th>\n",
       "      <td>bGRRelative</td>\n",
       "      <td>z933</td>\n",
       "      <td>[-0.13, 0.0, 0.13]</td>\n",
       "      <td>[0.32, 0.36, 0.32]</td>\n",
       "    </tr>\n",
       "    <tr>\n",
       "      <th>221</th>\n",
       "      <td>bGRRelative</td>\n",
       "      <td>z935</td>\n",
       "      <td>[-0.09, 0.0, 0.09]</td>\n",
       "      <td>[0.32, 0.36, 0.32]</td>\n",
       "    </tr>\n",
       "    <tr>\n",
       "      <th>222</th>\n",
       "      <td>bGRRelative</td>\n",
       "      <td>z936</td>\n",
       "      <td>[-0.11, 0.0, 0.11]</td>\n",
       "      <td>[0.32, 0.36, 0.32]</td>\n",
       "    </tr>\n",
       "  </tbody>\n",
       "</table>\n",
       "</div>"
      ],
      "text/plain": [
       "      uncertaintyType applyToSources          uncertaintyModel  \\\n",
       "0         sourceModel            all  [areal_source_model.xml]   \n",
       "1    maxMagGRAbsolute            z1m           [7.6, 8.0, 8.4]   \n",
       "2    maxMagGRAbsolute            z2m           [7.6, 8.0, 8.4]   \n",
       "3    maxMagGRAbsolute             z3           [7.6, 8.0, 8.4]   \n",
       "4    maxMagGRAbsolute             z4           [7.0, 7.4, 7.8]   \n",
       "218       bGRRelative          z931m        [-0.12, 0.0, 0.12]   \n",
       "219       bGRRelative           z932          [-0.1, 0.0, 0.1]   \n",
       "220       bGRRelative           z933        [-0.13, 0.0, 0.13]   \n",
       "221       bGRRelative           z935        [-0.09, 0.0, 0.09]   \n",
       "222       bGRRelative           z936        [-0.11, 0.0, 0.11]   \n",
       "\n",
       "      uncertaintyWeight  \n",
       "0                   [1]  \n",
       "1    [0.32, 0.36, 0.32]  \n",
       "2    [0.32, 0.36, 0.32]  \n",
       "3    [0.32, 0.36, 0.32]  \n",
       "4    [0.32, 0.36, 0.32]  \n",
       "218  [0.32, 0.36, 0.32]  \n",
       "219  [0.32, 0.36, 0.32]  \n",
       "220  [0.32, 0.36, 0.32]  \n",
       "221  [0.32, 0.36, 0.32]  \n",
       "222  [0.32, 0.36, 0.32]  "
      ]
     },
     "metadata": {},
     "output_type": "display_data"
    },
    {
     "name": "stdout",
     "output_type": "stream",
     "text": [
      "Too many (223) nodes in logicTree, abbreviating TEX to first & last 5\n",
      "\n",
      "PROCESSING source_model_logic_tree.tsv\n"
     ]
    },
    {
     "data": {
      "text/html": [
       "<div>\n",
       "<table border=\"1\" class=\"dataframe\">\n",
       "  <thead>\n",
       "    <tr style=\"text-align: right;\">\n",
       "      <th></th>\n",
       "      <th>uncertaintyType</th>\n",
       "      <th>applyToSources</th>\n",
       "      <th>uncertaintyModel</th>\n",
       "      <th>uncertaintyWeight</th>\n",
       "    </tr>\n",
       "  </thead>\n",
       "  <tbody>\n",
       "    <tr>\n",
       "      <th>0</th>\n",
       "      <td>sourceModel</td>\n",
       "      <td>all</td>\n",
       "      <td>[areal_source_model.xml, nath2012probabilistic...</td>\n",
       "      <td>[0.4, 0.27, 0.33]</td>\n",
       "    </tr>\n",
       "    <tr>\n",
       "      <th>1</th>\n",
       "      <td>maxMagGRAbsolute</td>\n",
       "      <td>areal_source_model.tsv</td>\n",
       "      <td>[mmax - stdmmax, mmax, mmax + stdmmax]</td>\n",
       "      <td>[0.32, 0.36, 0.32]</td>\n",
       "    </tr>\n",
       "    <tr>\n",
       "      <th>2</th>\n",
       "      <td>bGRRelative</td>\n",
       "      <td>areal_source_model.tsv</td>\n",
       "      <td>[-stdb, 0, +stdb]</td>\n",
       "      <td>[0.32, 0.36, 0.32]</td>\n",
       "    </tr>\n",
       "  </tbody>\n",
       "</table>\n",
       "</div>"
      ],
      "text/plain": [
       "    uncertaintyType          applyToSources  \\\n",
       "0       sourceModel                     all   \n",
       "1  maxMagGRAbsolute  areal_source_model.tsv   \n",
       "2       bGRRelative  areal_source_model.tsv   \n",
       "\n",
       "                                    uncertaintyModel   uncertaintyWeight  \n",
       "0  [areal_source_model.xml, nath2012probabilistic...   [0.4, 0.27, 0.33]  \n",
       "1             [mmax - stdmmax, mmax, mmax + stdmmax]  [0.32, 0.36, 0.32]  \n",
       "2                                  [-stdb, 0, +stdb]  [0.32, 0.36, 0.32]  "
      ]
     },
     "metadata": {},
     "output_type": "display_data"
    },
    {
     "name": "stdout",
     "output_type": "stream",
     "text": [
      "Cannot find 0 in keys of areal_source_model.tsv, setting to zero\n"
     ]
    },
    {
     "data": {
      "text/html": [
       "<div>\n",
       "<table border=\"1\" class=\"dataframe\">\n",
       "  <thead>\n",
       "    <tr style=\"text-align: right;\">\n",
       "      <th></th>\n",
       "      <th>uncertaintyType</th>\n",
       "      <th>applyToSources</th>\n",
       "      <th>uncertaintyModel</th>\n",
       "      <th>uncertaintyWeight</th>\n",
       "    </tr>\n",
       "  </thead>\n",
       "  <tbody>\n",
       "    <tr>\n",
       "      <th>0</th>\n",
       "      <td>sourceModel</td>\n",
       "      <td>all</td>\n",
       "      <td>[areal_source_model.xml, nath2012probabilistic...</td>\n",
       "      <td>[0.4, 0.27, 0.33]</td>\n",
       "    </tr>\n",
       "    <tr>\n",
       "      <th>1</th>\n",
       "      <td>maxMagGRAbsolute</td>\n",
       "      <td>z1m</td>\n",
       "      <td>[7.6, 8.0, 8.4]</td>\n",
       "      <td>[0.32, 0.36, 0.32]</td>\n",
       "    </tr>\n",
       "    <tr>\n",
       "      <th>2</th>\n",
       "      <td>maxMagGRAbsolute</td>\n",
       "      <td>z2m</td>\n",
       "      <td>[7.6, 8.0, 8.4]</td>\n",
       "      <td>[0.32, 0.36, 0.32]</td>\n",
       "    </tr>\n",
       "    <tr>\n",
       "      <th>3</th>\n",
       "      <td>maxMagGRAbsolute</td>\n",
       "      <td>z3</td>\n",
       "      <td>[7.6, 8.0, 8.4]</td>\n",
       "      <td>[0.32, 0.36, 0.32]</td>\n",
       "    </tr>\n",
       "    <tr>\n",
       "      <th>4</th>\n",
       "      <td>maxMagGRAbsolute</td>\n",
       "      <td>z4</td>\n",
       "      <td>[7.0, 7.4, 7.8]</td>\n",
       "      <td>[0.32, 0.36, 0.32]</td>\n",
       "    </tr>\n",
       "    <tr>\n",
       "      <th>218</th>\n",
       "      <td>bGRRelative</td>\n",
       "      <td>z931m</td>\n",
       "      <td>[-0.12, 0.0, 0.12]</td>\n",
       "      <td>[0.32, 0.36, 0.32]</td>\n",
       "    </tr>\n",
       "    <tr>\n",
       "      <th>219</th>\n",
       "      <td>bGRRelative</td>\n",
       "      <td>z932</td>\n",
       "      <td>[-0.1, 0.0, 0.1]</td>\n",
       "      <td>[0.32, 0.36, 0.32]</td>\n",
       "    </tr>\n",
       "    <tr>\n",
       "      <th>220</th>\n",
       "      <td>bGRRelative</td>\n",
       "      <td>z933</td>\n",
       "      <td>[-0.13, 0.0, 0.13]</td>\n",
       "      <td>[0.32, 0.36, 0.32]</td>\n",
       "    </tr>\n",
       "    <tr>\n",
       "      <th>221</th>\n",
       "      <td>bGRRelative</td>\n",
       "      <td>z935</td>\n",
       "      <td>[-0.09, 0.0, 0.09]</td>\n",
       "      <td>[0.32, 0.36, 0.32]</td>\n",
       "    </tr>\n",
       "    <tr>\n",
       "      <th>222</th>\n",
       "      <td>bGRRelative</td>\n",
       "      <td>z936</td>\n",
       "      <td>[-0.11, 0.0, 0.11]</td>\n",
       "      <td>[0.32, 0.36, 0.32]</td>\n",
       "    </tr>\n",
       "  </tbody>\n",
       "</table>\n",
       "</div>"
      ],
      "text/plain": [
       "      uncertaintyType applyToSources  \\\n",
       "0         sourceModel            all   \n",
       "1    maxMagGRAbsolute            z1m   \n",
       "2    maxMagGRAbsolute            z2m   \n",
       "3    maxMagGRAbsolute             z3   \n",
       "4    maxMagGRAbsolute             z4   \n",
       "218       bGRRelative          z931m   \n",
       "219       bGRRelative           z932   \n",
       "220       bGRRelative           z933   \n",
       "221       bGRRelative           z935   \n",
       "222       bGRRelative           z936   \n",
       "\n",
       "                                      uncertaintyModel   uncertaintyWeight  \n",
       "0    [areal_source_model.xml, nath2012probabilistic...   [0.4, 0.27, 0.33]  \n",
       "1                                      [7.6, 8.0, 8.4]  [0.32, 0.36, 0.32]  \n",
       "2                                      [7.6, 8.0, 8.4]  [0.32, 0.36, 0.32]  \n",
       "3                                      [7.6, 8.0, 8.4]  [0.32, 0.36, 0.32]  \n",
       "4                                      [7.0, 7.4, 7.8]  [0.32, 0.36, 0.32]  \n",
       "218                                 [-0.12, 0.0, 0.12]  [0.32, 0.36, 0.32]  \n",
       "219                                   [-0.1, 0.0, 0.1]  [0.32, 0.36, 0.32]  \n",
       "220                                 [-0.13, 0.0, 0.13]  [0.32, 0.36, 0.32]  \n",
       "221                                 [-0.09, 0.0, 0.09]  [0.32, 0.36, 0.32]  \n",
       "222                                 [-0.11, 0.0, 0.11]  [0.32, 0.36, 0.32]  "
      ]
     },
     "metadata": {},
     "output_type": "display_data"
    },
    {
     "name": "stdout",
     "output_type": "stream",
     "text": [
      "Too many (223) nodes in logicTree, abbreviating TEX to first & last 5\n",
      "\n",
      "PROCESSING recomputed_smoothed_model_logic_tree.tsv\n"
     ]
    },
    {
     "data": {
      "text/html": [
       "<div>\n",
       "<table border=\"1\" class=\"dataframe\">\n",
       "  <thead>\n",
       "    <tr style=\"text-align: right;\">\n",
       "      <th></th>\n",
       "      <th>uncertaintyType</th>\n",
       "      <th>applyToSources</th>\n",
       "      <th>uncertaintyModel</th>\n",
       "      <th>uncertaintyWeight</th>\n",
       "    </tr>\n",
       "  </thead>\n",
       "  <tbody>\n",
       "    <tr>\n",
       "      <th>0</th>\n",
       "      <td>sourceModel</td>\n",
       "      <td>all</td>\n",
       "      <td>[areal_source_model.xml, recomputed_smoothed_s...</td>\n",
       "      <td>[0.4, 0.27, 0.33]</td>\n",
       "    </tr>\n",
       "    <tr>\n",
       "      <th>1</th>\n",
       "      <td>maxMagGRAbsolute</td>\n",
       "      <td>areal_source_model.tsv</td>\n",
       "      <td>[mmax - stdmmax, mmax, mmax + stdmmax]</td>\n",
       "      <td>[0.32, 0.36, 0.32]</td>\n",
       "    </tr>\n",
       "    <tr>\n",
       "      <th>2</th>\n",
       "      <td>bGRRelative</td>\n",
       "      <td>areal_source_model.tsv</td>\n",
       "      <td>[-stdb, 0, +stdb]</td>\n",
       "      <td>[0.32, 0.36, 0.32]</td>\n",
       "    </tr>\n",
       "  </tbody>\n",
       "</table>\n",
       "</div>"
      ],
      "text/plain": [
       "    uncertaintyType          applyToSources  \\\n",
       "0       sourceModel                     all   \n",
       "1  maxMagGRAbsolute  areal_source_model.tsv   \n",
       "2       bGRRelative  areal_source_model.tsv   \n",
       "\n",
       "                                    uncertaintyModel   uncertaintyWeight  \n",
       "0  [areal_source_model.xml, recomputed_smoothed_s...   [0.4, 0.27, 0.33]  \n",
       "1             [mmax - stdmmax, mmax, mmax + stdmmax]  [0.32, 0.36, 0.32]  \n",
       "2                                  [-stdb, 0, +stdb]  [0.32, 0.36, 0.32]  "
      ]
     },
     "metadata": {},
     "output_type": "display_data"
    },
    {
     "name": "stdout",
     "output_type": "stream",
     "text": [
      "Cannot find 0 in keys of areal_source_model.tsv, setting to zero\n"
     ]
    },
    {
     "data": {
      "text/html": [
       "<div>\n",
       "<table border=\"1\" class=\"dataframe\">\n",
       "  <thead>\n",
       "    <tr style=\"text-align: right;\">\n",
       "      <th></th>\n",
       "      <th>uncertaintyType</th>\n",
       "      <th>applyToSources</th>\n",
       "      <th>uncertaintyModel</th>\n",
       "      <th>uncertaintyWeight</th>\n",
       "    </tr>\n",
       "  </thead>\n",
       "  <tbody>\n",
       "    <tr>\n",
       "      <th>0</th>\n",
       "      <td>sourceModel</td>\n",
       "      <td>all</td>\n",
       "      <td>[areal_source_model.xml, recomputed_smoothed_s...</td>\n",
       "      <td>[0.4, 0.27, 0.33]</td>\n",
       "    </tr>\n",
       "    <tr>\n",
       "      <th>1</th>\n",
       "      <td>maxMagGRAbsolute</td>\n",
       "      <td>z1m</td>\n",
       "      <td>[7.6, 8.0, 8.4]</td>\n",
       "      <td>[0.32, 0.36, 0.32]</td>\n",
       "    </tr>\n",
       "    <tr>\n",
       "      <th>2</th>\n",
       "      <td>maxMagGRAbsolute</td>\n",
       "      <td>z2m</td>\n",
       "      <td>[7.6, 8.0, 8.4]</td>\n",
       "      <td>[0.32, 0.36, 0.32]</td>\n",
       "    </tr>\n",
       "    <tr>\n",
       "      <th>3</th>\n",
       "      <td>maxMagGRAbsolute</td>\n",
       "      <td>z3</td>\n",
       "      <td>[7.6, 8.0, 8.4]</td>\n",
       "      <td>[0.32, 0.36, 0.32]</td>\n",
       "    </tr>\n",
       "    <tr>\n",
       "      <th>4</th>\n",
       "      <td>maxMagGRAbsolute</td>\n",
       "      <td>z4</td>\n",
       "      <td>[7.0, 7.4, 7.8]</td>\n",
       "      <td>[0.32, 0.36, 0.32]</td>\n",
       "    </tr>\n",
       "    <tr>\n",
       "      <th>218</th>\n",
       "      <td>bGRRelative</td>\n",
       "      <td>z931m</td>\n",
       "      <td>[-0.12, 0.0, 0.12]</td>\n",
       "      <td>[0.32, 0.36, 0.32]</td>\n",
       "    </tr>\n",
       "    <tr>\n",
       "      <th>219</th>\n",
       "      <td>bGRRelative</td>\n",
       "      <td>z932</td>\n",
       "      <td>[-0.1, 0.0, 0.1]</td>\n",
       "      <td>[0.32, 0.36, 0.32]</td>\n",
       "    </tr>\n",
       "    <tr>\n",
       "      <th>220</th>\n",
       "      <td>bGRRelative</td>\n",
       "      <td>z933</td>\n",
       "      <td>[-0.13, 0.0, 0.13]</td>\n",
       "      <td>[0.32, 0.36, 0.32]</td>\n",
       "    </tr>\n",
       "    <tr>\n",
       "      <th>221</th>\n",
       "      <td>bGRRelative</td>\n",
       "      <td>z935</td>\n",
       "      <td>[-0.09, 0.0, 0.09]</td>\n",
       "      <td>[0.32, 0.36, 0.32]</td>\n",
       "    </tr>\n",
       "    <tr>\n",
       "      <th>222</th>\n",
       "      <td>bGRRelative</td>\n",
       "      <td>z936</td>\n",
       "      <td>[-0.11, 0.0, 0.11]</td>\n",
       "      <td>[0.32, 0.36, 0.32]</td>\n",
       "    </tr>\n",
       "  </tbody>\n",
       "</table>\n",
       "</div>"
      ],
      "text/plain": [
       "      uncertaintyType applyToSources  \\\n",
       "0         sourceModel            all   \n",
       "1    maxMagGRAbsolute            z1m   \n",
       "2    maxMagGRAbsolute            z2m   \n",
       "3    maxMagGRAbsolute             z3   \n",
       "4    maxMagGRAbsolute             z4   \n",
       "218       bGRRelative          z931m   \n",
       "219       bGRRelative           z932   \n",
       "220       bGRRelative           z933   \n",
       "221       bGRRelative           z935   \n",
       "222       bGRRelative           z936   \n",
       "\n",
       "                                      uncertaintyModel   uncertaintyWeight  \n",
       "0    [areal_source_model.xml, recomputed_smoothed_s...   [0.4, 0.27, 0.33]  \n",
       "1                                      [7.6, 8.0, 8.4]  [0.32, 0.36, 0.32]  \n",
       "2                                      [7.6, 8.0, 8.4]  [0.32, 0.36, 0.32]  \n",
       "3                                      [7.6, 8.0, 8.4]  [0.32, 0.36, 0.32]  \n",
       "4                                      [7.0, 7.4, 7.8]  [0.32, 0.36, 0.32]  \n",
       "218                                 [-0.12, 0.0, 0.12]  [0.32, 0.36, 0.32]  \n",
       "219                                   [-0.1, 0.0, 0.1]  [0.32, 0.36, 0.32]  \n",
       "220                                 [-0.13, 0.0, 0.13]  [0.32, 0.36, 0.32]  \n",
       "221                                 [-0.09, 0.0, 0.09]  [0.32, 0.36, 0.32]  \n",
       "222                                 [-0.11, 0.0, 0.11]  [0.32, 0.36, 0.32]  "
      ]
     },
     "metadata": {},
     "output_type": "display_data"
    },
    {
     "name": "stdout",
     "output_type": "stream",
     "text": [
      "Too many (223) nodes in logicTree, abbreviating TEX to first & last 5\n",
      "\n",
      "PROCESSING smoothed_model_logic_tree.tsv\n"
     ]
    },
    {
     "data": {
      "text/html": [
       "<div>\n",
       "<table border=\"1\" class=\"dataframe\">\n",
       "  <thead>\n",
       "    <tr style=\"text-align: right;\">\n",
       "      <th></th>\n",
       "      <th>uncertaintyType</th>\n",
       "      <th>applyToSources</th>\n",
       "      <th>uncertaintyModel</th>\n",
       "      <th>uncertaintyWeight</th>\n",
       "    </tr>\n",
       "  </thead>\n",
       "  <tbody>\n",
       "    <tr>\n",
       "      <th>0</th>\n",
       "      <td>sourceModel</td>\n",
       "      <td>all</td>\n",
       "      <td>[nath2012probabilistic_smoothed_source_model_m...</td>\n",
       "      <td>[0.45, 0.55]</td>\n",
       "    </tr>\n",
       "  </tbody>\n",
       "</table>\n",
       "</div>"
      ],
      "text/plain": [
       "  uncertaintyType applyToSources  \\\n",
       "0     sourceModel            all   \n",
       "\n",
       "                                    uncertaintyModel uncertaintyWeight  \n",
       "0  [nath2012probabilistic_smoothed_source_model_m...      [0.45, 0.55]  "
      ]
     },
     "metadata": {},
     "output_type": "display_data"
    },
    {
     "name": "stdout",
     "output_type": "stream",
     "text": [
      "bs1 model 1 \"nath2012probabilistic_smoothed_source_model_mmin4.5\" not found. Omitting ...\n"
     ]
    },
    {
     "data": {
      "text/html": [
       "<div>\n",
       "<table border=\"1\" class=\"dataframe\">\n",
       "  <thead>\n",
       "    <tr style=\"text-align: right;\">\n",
       "      <th></th>\n",
       "      <th>uncertaintyType</th>\n",
       "      <th>applyToSources</th>\n",
       "      <th>uncertaintyModel</th>\n",
       "      <th>uncertaintyWeight</th>\n",
       "    </tr>\n",
       "  </thead>\n",
       "  <tbody>\n",
       "    <tr>\n",
       "      <th>0</th>\n",
       "      <td>sourceModel</td>\n",
       "      <td>all</td>\n",
       "      <td>[nath2012probabilistic_smoothed_source_model_m...</td>\n",
       "      <td>[0.45, 0.55]</td>\n",
       "    </tr>\n",
       "    <tr>\n",
       "      <th>0</th>\n",
       "      <td>sourceModel</td>\n",
       "      <td>all</td>\n",
       "      <td>[nath2012probabilistic_smoothed_source_model_m...</td>\n",
       "      <td>[0.45, 0.55]</td>\n",
       "    </tr>\n",
       "  </tbody>\n",
       "</table>\n",
       "</div>"
      ],
      "text/plain": [
       "  uncertaintyType applyToSources  \\\n",
       "0     sourceModel            all   \n",
       "0     sourceModel            all   \n",
       "\n",
       "                                    uncertaintyModel uncertaintyWeight  \n",
       "0  [nath2012probabilistic_smoothed_source_model_m...      [0.45, 0.55]  \n",
       "0  [nath2012probabilistic_smoothed_source_model_m...      [0.45, 0.55]  "
      ]
     },
     "metadata": {},
     "output_type": "display_data"
    },
    {
     "name": "stdout",
     "output_type": "stream",
     "text": [
      "\n"
     ]
    }
   ],
   "source": [
    "source_tree_tsv_list = ['areal_model_logic_tree.tsv', \n",
    "                        'source_model_logic_tree.tsv', \n",
    "                        'recomputed_smoothed_model_logic_tree.tsv', \n",
    "                        'smoothed_model_logic_tree.tsv']\n",
    "for source_tree_tsv in source_tree_tsv_list:\n",
    "    print \"PROCESSING\", source_tree_tsv\n",
    "    source_tree_symbolic_df = ltt.read_tree_tsv(source_tree_tsv)\n",
    "    display(source_tree_symbolic_df)\n",
    "    \n",
    "    source_tree_symbolic = ltt.df_to_tree(source_tree_symbolic_df, validate=True)\n",
    "    source_tree_symbolic_xml = source_tree_tsv.replace('.tsv','_symbolic.xml')\n",
    "    with open(source_tree_symbolic_xml, 'w+') as f:\n",
    "        nrml.write([source_tree_symbolic], f, fmt='%g')\n",
    "    ltt.nrml_to_pdf(source_tree_symbolic_xml, include_ids=include_ids)\n",
    "        \n",
    "    source_tree_df = ltt.df_expand_sources(source_tree_symbolic_df)\n",
    "    display(pd.concat((source_tree_df.head(), source_tree_df.tail())))\n",
    "    source_tree = ltt.df_to_tree(source_tree_df, validate=False)\n",
    "    source_tree_xml = source_tree_tsv.replace('.tsv','.xml')\n",
    "    with open(source_tree_xml, 'w+') as f:\n",
    "        nrml.write([source_tree], f, fmt='%g')\n",
    "    ltt.nrml_to_pdf(source_tree_xml, include_ids=include_ids)\n",
    "    print"
   ]
  },
  {
   "cell_type": "code",
   "execution_count": 18,
   "metadata": {
    "collapsed": false
   },
   "outputs": [
    {
     "name": "stdout",
     "output_type": "stream",
     "text": [
      "<logicTreeBranchSet {'branchSetID': 'bs1', 'uncertaintyType': 'sourceModel'} None ...>\n",
      "logicTreeBranchSet = 1x logicTreeBranch\n",
      "branchSetID\n",
      "<uncertaintyModel {} nath2012probabilistic_smoothed_source_model_mmin5.5.xml >\n"
     ]
    }
   ],
   "source": [
    "node = source_tree_symbolic[0][0]\n",
    "print node\n",
    "print '%s = %dx %s' %(ltt.strip_fqtag(node.tag), len(node), \n",
    "                      ltt.strip_fqtag(node[0].tag))\n",
    "print ltt.get_dict_key_match(node.attrib,'id')\n",
    "print node[0].uncertaintyModel"
   ]
  },
  {
   "cell_type": "code",
   "execution_count": 19,
   "metadata": {
    "collapsed": false
   },
   "outputs": [
    {
     "ename": "IndexError",
     "evalue": "list index out of range",
     "output_type": "error",
     "traceback": [
      "\u001b[1;31m---------------------------------------------------------------------------\u001b[0m",
      "\u001b[1;31mIndexError\u001b[0m                                Traceback (most recent call last)",
      "\u001b[1;32m<ipython-input-19-2843ace5fc4f>\u001b[0m in \u001b[0;36m<module>\u001b[1;34m()\u001b[0m\n\u001b[1;32m----> 1\u001b[1;33m \u001b[0mnode\u001b[0m \u001b[1;33m=\u001b[0m \u001b[0msource_tree\u001b[0m\u001b[1;33m[\u001b[0m\u001b[1;36m2\u001b[0m\u001b[1;33m]\u001b[0m\u001b[1;33m[\u001b[0m\u001b[1;36m0\u001b[0m\u001b[1;33m]\u001b[0m\u001b[1;33m\u001b[0m\u001b[0m\n\u001b[0m\u001b[0;32m      2\u001b[0m \u001b[1;32mprint\u001b[0m \u001b[0mnode\u001b[0m\u001b[1;33m\u001b[0m\u001b[0m\n\u001b[0;32m      3\u001b[0m print '%s = %dx %s' %(ltt.strip_fqtag(node.tag), len(node), \n\u001b[0;32m      4\u001b[0m                       ltt.strip_fqtag(node[0].tag))\n\u001b[0;32m      5\u001b[0m \u001b[1;32mprint\u001b[0m \u001b[0mltt\u001b[0m\u001b[1;33m.\u001b[0m\u001b[0mget_dict_key_match\u001b[0m\u001b[1;33m(\u001b[0m\u001b[0mnode\u001b[0m\u001b[1;33m.\u001b[0m\u001b[0mattrib\u001b[0m\u001b[1;33m,\u001b[0m\u001b[1;34m'id'\u001b[0m\u001b[1;33m)\u001b[0m\u001b[1;33m\u001b[0m\u001b[0m\n",
      "\u001b[1;32m/home/nick/src/python/GEM/oq-risklib/openquake/commonlib/node.pyc\u001b[0m in \u001b[0;36m__getitem__\u001b[1;34m(self, i)\u001b[0m\n\u001b[0;32m    312\u001b[0m             \u001b[1;32mreturn\u001b[0m \u001b[0mself\u001b[0m\u001b[1;33m.\u001b[0m\u001b[0mattrib\u001b[0m\u001b[1;33m[\u001b[0m\u001b[0mi\u001b[0m\u001b[1;33m]\u001b[0m\u001b[1;33m\u001b[0m\u001b[0m\n\u001b[0;32m    313\u001b[0m         \u001b[1;32melse\u001b[0m\u001b[1;33m:\u001b[0m  \u001b[1;31m# assume an integer or a slice\u001b[0m\u001b[1;33m\u001b[0m\u001b[0m\n\u001b[1;32m--> 314\u001b[1;33m             \u001b[1;32mreturn\u001b[0m \u001b[0mself\u001b[0m\u001b[1;33m.\u001b[0m\u001b[0mnodes\u001b[0m\u001b[1;33m[\u001b[0m\u001b[0mi\u001b[0m\u001b[1;33m]\u001b[0m\u001b[1;33m\u001b[0m\u001b[0m\n\u001b[0m\u001b[0;32m    315\u001b[0m \u001b[1;33m\u001b[0m\u001b[0m\n\u001b[0;32m    316\u001b[0m     \u001b[1;32mdef\u001b[0m \u001b[0m__setitem__\u001b[0m\u001b[1;33m(\u001b[0m\u001b[0mself\u001b[0m\u001b[1;33m,\u001b[0m \u001b[0mi\u001b[0m\u001b[1;33m,\u001b[0m \u001b[0mvalue\u001b[0m\u001b[1;33m)\u001b[0m\u001b[1;33m:\u001b[0m\u001b[1;33m\u001b[0m\u001b[0m\n",
      "\u001b[1;31mIndexError\u001b[0m: list index out of range"
     ]
    }
   ],
   "source": [
    "node = source_tree[2][0]\n",
    "print node\n",
    "print '%s = %dx %s' %(ltt.strip_fqtag(node.tag), len(node), \n",
    "                      ltt.strip_fqtag(node[0].tag))\n",
    "print ltt.get_dict_key_match(node.attrib,'id')\n",
    "model = node[0].uncertaintyModel\n",
    "print model"
   ]
  },
  {
   "cell_type": "code",
   "execution_count": null,
   "metadata": {
    "collapsed": true
   },
   "outputs": [],
   "source": []
  }
 ],
 "metadata": {
  "kernelspec": {
   "display_name": "Python 2",
   "language": "python",
   "name": "python2"
  },
  "language_info": {
   "codemirror_mode": {
    "name": "ipython",
    "version": 2
   },
   "file_extension": ".py",
   "mimetype": "text/x-python",
   "name": "python",
   "nbconvert_exporter": "python",
   "pygments_lexer": "ipython2",
   "version": "2.7.11"
  }
 },
 "nbformat": 4,
 "nbformat_minor": 0
}
