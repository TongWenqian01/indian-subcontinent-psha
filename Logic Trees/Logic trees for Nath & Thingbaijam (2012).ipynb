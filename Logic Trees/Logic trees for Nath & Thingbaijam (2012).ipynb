{
 "cells": [
  {
   "cell_type": "markdown",
   "metadata": {},
   "source": [
    "# Logic trees for Nath & Thingbaijam (2012)\n",
    "\n",
    "Read logic tree tables extracted from publication, along with a table of supplementary information write them to TEX and XML. Note that the logic trees require information from the source models, so if changes are made there then this must be rerun too."
   ]
  },
  {
   "cell_type": "code",
   "execution_count": 1,
   "metadata": {
    "collapsed": false
   },
   "outputs": [],
   "source": [
    "%load_ext autoreload"
   ]
  },
  {
   "cell_type": "code",
   "execution_count": 2,
   "metadata": {
    "collapsed": false
   },
   "outputs": [],
   "source": [
    "import pandas as pd\n",
    "from IPython.display import display\n",
    "\n",
    "%autoreload 2\n",
    "import logic_tree_tools as ltt\n",
    "\n",
    "from openquake.commonlib import nrml"
   ]
  },
  {
   "cell_type": "code",
   "execution_count": 3,
   "metadata": {
    "collapsed": true
   },
   "outputs": [],
   "source": [
    "# flag determines whether branch IDs are included in PDF drawings of logic trees\n",
    "include_ids=False"
   ]
  },
  {
   "cell_type": "markdown",
   "metadata": {},
   "source": [
    "## GMPE Logic Tree"
   ]
  },
  {
   "cell_type": "code",
   "execution_count": 4,
   "metadata": {
    "collapsed": true
   },
   "outputs": [],
   "source": [
    "ltt.nrml_to_pdf('example_gmpe_logic_tree.xml', include_ids=include_ids)"
   ]
  },
  {
   "cell_type": "code",
   "execution_count": 5,
   "metadata": {
    "collapsed": false
   },
   "outputs": [
    {
     "data": {
      "text/html": [
       "<div>\n",
       "<table border=\"1\" class=\"dataframe\">\n",
       "  <thead>\n",
       "    <tr style=\"text-align: right;\">\n",
       "      <th></th>\n",
       "      <th>uncertaintyType</th>\n",
       "      <th>applyToTectonicRegionType</th>\n",
       "      <th>uncertaintyModel</th>\n",
       "    </tr>\n",
       "  </thead>\n",
       "  <tbody>\n",
       "    <tr>\n",
       "      <th>0</th>\n",
       "      <td>gmpeModel</td>\n",
       "      <td>active shallow crust normal</td>\n",
       "      <td>[AkkarBommer2010, BooreAtkinson2008, CampbellB...</td>\n",
       "    </tr>\n",
       "    <tr>\n",
       "      <th>1</th>\n",
       "      <td>gmpeModel</td>\n",
       "      <td>active shallow crust strike-slip reverse</td>\n",
       "      <td>[AkkarBommer2010, BooreAtkinson2008, CampbellB...</td>\n",
       "    </tr>\n",
       "    <tr>\n",
       "      <th>2</th>\n",
       "      <td>gmpeModel</td>\n",
       "      <td>intraplate margin lower</td>\n",
       "      <td>[AtkinsonBoore2006, ToroEtAl2002, SharmaEtAl20...</td>\n",
       "    </tr>\n",
       "    <tr>\n",
       "      <th>3</th>\n",
       "      <td>gmpeModel</td>\n",
       "      <td>intraplate margin upper</td>\n",
       "      <td>[AtkinsonBoore2006, ToroEtAl2002, SharmaEtAl20...</td>\n",
       "    </tr>\n",
       "    <tr>\n",
       "      <th>4</th>\n",
       "      <td>gmpeModel</td>\n",
       "      <td>stable shallow crust</td>\n",
       "      <td>[AtkinsonBoore2006, ToroEtAl2002, Campbell2003...</td>\n",
       "    </tr>\n",
       "    <tr>\n",
       "      <th>5</th>\n",
       "      <td>gmpeModel</td>\n",
       "      <td>subduction interface</td>\n",
       "      <td>[AtkinsonBoore2003SInter, ZhaoEtAl2006SInter, ...</td>\n",
       "    </tr>\n",
       "    <tr>\n",
       "      <th>6</th>\n",
       "      <td>gmpeModel</td>\n",
       "      <td>subduction interface megathrust</td>\n",
       "      <td>[AtkinsonBoore2003SInter, AtkinsonMacias2009, ...</td>\n",
       "    </tr>\n",
       "    <tr>\n",
       "      <th>7</th>\n",
       "      <td>gmpeModel</td>\n",
       "      <td>subduction intraslab Himalayas</td>\n",
       "      <td>[AtkinsonBoore2003SSlabJapan, YoungsEtAl1997SS...</td>\n",
       "    </tr>\n",
       "    <tr>\n",
       "      <th>8</th>\n",
       "      <td>gmpeModel</td>\n",
       "      <td>subduction intraslab</td>\n",
       "      <td>[AtkinsonBoore2003SSlabCascadia, YoungsEtAl199...</td>\n",
       "    </tr>\n",
       "  </tbody>\n",
       "</table>\n",
       "</div>"
      ],
      "text/plain": [
       "  uncertaintyType                 applyToTectonicRegionType  \\\n",
       "0       gmpeModel               active shallow crust normal   \n",
       "1       gmpeModel  active shallow crust strike-slip reverse   \n",
       "2       gmpeModel                   intraplate margin lower   \n",
       "3       gmpeModel                   intraplate margin upper   \n",
       "4       gmpeModel                      stable shallow crust   \n",
       "5       gmpeModel                      subduction interface   \n",
       "6       gmpeModel           subduction interface megathrust   \n",
       "7       gmpeModel            subduction intraslab Himalayas   \n",
       "8       gmpeModel                      subduction intraslab   \n",
       "\n",
       "                                    uncertaintyModel  \n",
       "0  [AkkarBommer2010, BooreAtkinson2008, CampbellB...  \n",
       "1  [AkkarBommer2010, BooreAtkinson2008, CampbellB...  \n",
       "2  [AtkinsonBoore2006, ToroEtAl2002, SharmaEtAl20...  \n",
       "3  [AtkinsonBoore2006, ToroEtAl2002, SharmaEtAl20...  \n",
       "4  [AtkinsonBoore2006, ToroEtAl2002, Campbell2003...  \n",
       "5  [AtkinsonBoore2003SInter, ZhaoEtAl2006SInter, ...  \n",
       "6  [AtkinsonBoore2003SInter, AtkinsonMacias2009, ...  \n",
       "7  [AtkinsonBoore2003SSlabJapan, YoungsEtAl1997SS...  \n",
       "8  [AtkinsonBoore2003SSlabCascadia, YoungsEtAl199...  "
      ]
     },
     "execution_count": 5,
     "metadata": {},
     "output_type": "execute_result"
    }
   ],
   "source": [
    "gsim_tree_tsv = 'gmpe_logic_tree.tsv'\n",
    "gsim_tree_df = ltt.read_tree_tsv(gsim_tree_tsv)\n",
    "gsim_tree_df.drop(['Tectonic Region Type', 'Qualifier', 'Short Names'], axis=1)"
   ]
  },
  {
   "cell_type": "code",
   "execution_count": 6,
   "metadata": {
    "collapsed": false
   },
   "outputs": [
    {
     "name": "stderr",
     "output_type": "stream",
     "text": [
      "<string>:2: DeprecationWarning: logic_tree_tools.write_gsim_tree_nrml has been deprecated. Use gsim_data_to_tree instead\n",
      "/home/nick/src/python/GEM/oq-hazardlib/openquake/hazardlib/gsim/base.py:90: NotVerifiedWarning: RaghukanthIyengar2007 is not independently verified - the user is liable for their application\n",
      "  warnings.warn(msg, NotVerifiedWarning)\n",
      "/home/nick/src/python/GEM/oq-hazardlib/openquake/hazardlib/gsim/base.py:90: NotVerifiedWarning: Gupta2010SSlab is not independently verified - the user is liable for their application\n",
      "  warnings.warn(msg, NotVerifiedWarning)\n"
     ]
    }
   ],
   "source": [
    "gsim_tree_deprecated_xml = gsim_tree_tsv.replace('.tsv','_deprecated.xml')\n",
    "ltt.write_gsim_tree_nrml(gsim_tree_df, gsim_tree_deprecated_xml, validate=True)\n",
    "gsim_tree_deprecated = nrml.read(gsim_tree_deprecated_xml)"
   ]
  },
  {
   "cell_type": "code",
   "execution_count": 7,
   "metadata": {
    "collapsed": false
   },
   "outputs": [
    {
     "name": "stdout",
     "output_type": "stream",
     "text": [
      "Omitting bs1 model 5 \"SharmaEtAl2009\" ...\n",
      "Omitting bs1 model 4 \"Kanno2006Shallow\" ...\n",
      "Omitting bs2 model 4 \"Kanno2006Shallow\" ...\n",
      "Omitting bs3 model 4 \"NathEtAl2012Lower\" ...\n",
      "Omitting bs3 model 3 \"SharmaEtAl2009\" ...\n",
      "Omitting bs4 model 4 \"NathEtAl2012Upper\" ...\n",
      "Omitting bs4 model 3 \"SharmaEtAl2009\" ...\n",
      "Omitting bs5 model 4 \"RaghukanthIyengar2007\" ...\n",
      "Omitting bs6 model 3 \"Kanno2006Deep\" ...\n",
      "Omitting bs7 model 4 \"Kanno2006Deep\" ...\n",
      "Omitting bs8 model 1 \"AtkinsonBoore2003SSlabJapan\" ...\n",
      "Omitting bs9 model 4 \"Gupta2010SSlab\" ...\n",
      "Omitting bs9 model 1 \"AtkinsonBoore2003SSlabCascadia\" ...\n"
     ]
    }
   ],
   "source": [
    "new_models = ['SharmaEtAl2009', \n",
    "              'Kanno2006Shallow', 'Kanno2006Deep', \n",
    "              'NathEtAl2012Lower', 'NathEtAl2012Upper', \n",
    "              'RaghukanthIyengar2007', \n",
    "              'Gupta2010SSlab',\n",
    "              'AtkinsonBoore2003SSlabJapan','AtkinsonBoore2003SSlabCascadia']\n",
    "gsim_tree_omit_new = ltt.df_to_tree(gsim_tree_df, omit=new_models, validate=True)\n",
    "gsim_tree_omit_new_xml = gsim_tree_tsv.replace('.tsv','_omit_new.xml')\n",
    "with open(gsim_tree_omit_new_xml, 'w+') as f:\n",
    "    nrml.write([gsim_tree_omit_new], f, fmt='%g')\n",
    "ltt.nrml_to_pdf(gsim_tree_omit_new_xml, include_ids=include_ids)"
   ]
  },
  {
   "cell_type": "code",
   "execution_count": 8,
   "metadata": {
    "collapsed": false
   },
   "outputs": [],
   "source": [
    "gsim_tree_read = nrml.read(gsim_tree_omit_new_xml)"
   ]
  },
  {
   "cell_type": "code",
   "execution_count": 9,
   "metadata": {
    "collapsed": false
   },
   "outputs": [
    {
     "name": "stdout",
     "output_type": "stream",
     "text": [
      "AkkarBommer2010\n",
      "AkkarBommer2010\n",
      "AkkarBommer2010\n"
     ]
    }
   ],
   "source": [
    "# not clear why you don't get the same thing reading and writing\n",
    "print gsim_tree_omit_new.logicTreeBranchingLevel.logicTreeBranchSet.logicTreeBranch.uncertaintyModel.text\n",
    "print gsim_tree_read.logicTree.logicTreeBranchingLevel.logicTreeBranchSet.logicTreeBranch.uncertaintyModel.text.strip()\n",
    "print gsim_tree_deprecated.logicTree.logicTreeBranchingLevel.logicTreeBranchSet.logicTreeBranch.uncertaintyModel.text.strip()"
   ]
  },
  {
   "cell_type": "code",
   "execution_count": 10,
   "metadata": {
    "collapsed": false
   },
   "outputs": [
    {
     "name": "stdout",
     "output_type": "stream",
     "text": [
      "<logicTreeBranchSet {'branchSetID': 'bs1', 'applyToTectonicRegionType': 'active shallow crust normal', 'uncertaintyType': 'gmpeModel'} None ...>\n",
      "logicTreeBranchSet = 3x logicTreeBranch\n",
      "branchSetID\n"
     ]
    }
   ],
   "source": [
    "node = gsim_tree_omit_new[0][0]\n",
    "print node\n",
    "print '%s = %dx %s' %(ltt.strip_fqtag(node.tag), len(node), \n",
    "                      ltt.strip_fqtag(node[0].tag))\n",
    "print ltt.get_dict_key_match(node.attrib,'id')"
   ]
  },
  {
   "cell_type": "code",
   "execution_count": 11,
   "metadata": {
    "collapsed": false
   },
   "outputs": [],
   "source": [
    "# let's also write an un-validated (\"full\") version of the tree\n",
    "gsim_tree = ltt.df_to_tree(gsim_tree_df, validate=False)\n",
    "gsim_tree_xml = gsim_tree_tsv.replace('.tsv','.xml')\n",
    "with open(gsim_tree_xml, 'w+') as f:\n",
    "    nrml.write([gsim_tree], f, fmt='%g')\n",
    "ltt.nrml_to_pdf(gsim_tree_xml, include_ids=include_ids)"
   ]
  },
  {
   "cell_type": "markdown",
   "metadata": {},
   "source": [
    "## Source Model Logic Tree"
   ]
  },
  {
   "cell_type": "code",
   "execution_count": 12,
   "metadata": {
    "collapsed": false
   },
   "outputs": [
    {
     "name": "stdout",
     "output_type": "stream",
     "text": [
      "Too many (11) nodes in logicTree, abbreviating TEX to first & last 5\n"
     ]
    }
   ],
   "source": [
    "ltt.nrml_to_pdf('example_source_model_logic_tree.xml', include_ids=include_ids)"
   ]
  },
  {
   "cell_type": "code",
   "execution_count": 13,
   "metadata": {
    "collapsed": false
   },
   "outputs": [
    {
     "name": "stdout",
     "output_type": "stream",
     "text": [
      "PROCESSING no_fmd_uncertainty.tsv\n"
     ]
    },
    {
     "data": {
      "text/html": [
       "<div>\n",
       "<table border=\"1\" class=\"dataframe\">\n",
       "  <thead>\n",
       "    <tr style=\"text-align: right;\">\n",
       "      <th></th>\n",
       "      <th>uncertaintyType</th>\n",
       "      <th>applyToSources</th>\n",
       "      <th>uncertaintyModel</th>\n",
       "      <th>uncertaintyWeight</th>\n",
       "    </tr>\n",
       "  </thead>\n",
       "  <tbody>\n",
       "    <tr>\n",
       "      <th>0</th>\n",
       "      <td>sourceModel</td>\n",
       "      <td>all</td>\n",
       "      <td>[areal_source_model.xml, nath2012probabilistic...</td>\n",
       "      <td>[0.4, 0.27, 0.33]</td>\n",
       "    </tr>\n",
       "  </tbody>\n",
       "</table>\n",
       "</div>"
      ],
      "text/plain": [
       "  uncertaintyType applyToSources  \\\n",
       "0     sourceModel            all   \n",
       "\n",
       "                                    uncertaintyModel  uncertaintyWeight  \n",
       "0  [areal_source_model.xml, nath2012probabilistic...  [0.4, 0.27, 0.33]  "
      ]
     },
     "metadata": {},
     "output_type": "display_data"
    },
    {
     "data": {
      "text/html": [
       "<div>\n",
       "<table border=\"1\" class=\"dataframe\">\n",
       "  <thead>\n",
       "    <tr style=\"text-align: right;\">\n",
       "      <th></th>\n",
       "      <th>uncertaintyType</th>\n",
       "      <th>applyToSources</th>\n",
       "      <th>uncertaintyModel</th>\n",
       "      <th>uncertaintyWeight</th>\n",
       "    </tr>\n",
       "  </thead>\n",
       "  <tbody>\n",
       "    <tr>\n",
       "      <th>0</th>\n",
       "      <td>sourceModel</td>\n",
       "      <td>all</td>\n",
       "      <td>[areal_source_model.xml, nath2012probabilistic...</td>\n",
       "      <td>[0.4, 0.27, 0.33]</td>\n",
       "    </tr>\n",
       "    <tr>\n",
       "      <th>0</th>\n",
       "      <td>sourceModel</td>\n",
       "      <td>all</td>\n",
       "      <td>[areal_source_model.xml, nath2012probabilistic...</td>\n",
       "      <td>[0.4, 0.27, 0.33]</td>\n",
       "    </tr>\n",
       "  </tbody>\n",
       "</table>\n",
       "</div>"
      ],
      "text/plain": [
       "  uncertaintyType applyToSources  \\\n",
       "0     sourceModel            all   \n",
       "0     sourceModel            all   \n",
       "\n",
       "                                    uncertaintyModel  uncertaintyWeight  \n",
       "0  [areal_source_model.xml, nath2012probabilistic...  [0.4, 0.27, 0.33]  \n",
       "0  [areal_source_model.xml, nath2012probabilistic...  [0.4, 0.27, 0.33]  "
      ]
     },
     "metadata": {},
     "output_type": "display_data"
    },
    {
     "name": "stdout",
     "output_type": "stream",
     "text": [
      "\n"
     ]
    }
   ],
   "source": [
    "#source_tree_tsv_list = ['areal_model_logic_tree.tsv', \n",
    "#                        'source_model_logic_tree.tsv', \n",
    "#                        'recomputed_smoothed_model_logic_tree.tsv', \n",
    "#                        'smoothed_model_logic_tree.tsv']\n",
    "source_tree_tsv_list = ['no_fmd_uncertainty.tsv']\n",
    "for source_tree_tsv in source_tree_tsv_list:\n",
    "    print \"PROCESSING\", source_tree_tsv\n",
    "    source_tree_symbolic_df = ltt.read_tree_tsv(source_tree_tsv)\n",
    "    display(source_tree_symbolic_df)\n",
    "    \n",
    "    source_tree_symbolic = ltt.df_to_tree(source_tree_symbolic_df, validate=True)\n",
    "    source_tree_symbolic_xml = source_tree_tsv.replace('.tsv','_symbolic.xml')\n",
    "    with open(source_tree_symbolic_xml, 'w+') as f:\n",
    "        nrml.write([source_tree_symbolic], f, fmt='%g')\n",
    "    ltt.nrml_to_pdf(source_tree_symbolic_xml, include_ids=include_ids)\n",
    "        \n",
    "    source_tree_df = ltt.df_expand_sources(source_tree_symbolic_df)\n",
    "    display(pd.concat((source_tree_df.head(), source_tree_df.tail())))\n",
    "    source_tree = ltt.df_to_tree(source_tree_df, validate=False)\n",
    "    source_tree_xml = source_tree_tsv.replace('.tsv','.xml')\n",
    "    with open(source_tree_xml, 'w+') as f:\n",
    "        nrml.write([source_tree], f, fmt='%g')\n",
    "    ltt.nrml_to_pdf(source_tree_xml, include_ids=include_ids)\n",
    "    print"
   ]
  },
  {
   "cell_type": "code",
   "execution_count": 14,
   "metadata": {
    "collapsed": false
   },
   "outputs": [
    {
     "name": "stdout",
     "output_type": "stream",
     "text": [
      "<logicTreeBranchSet {'branchSetID': 'bs1', 'uncertaintyType': 'sourceModel'} None ...>\n",
      "logicTreeBranchSet = 3x logicTreeBranch\n",
      "branchSetID\n",
      "<uncertaintyModel {} areal_source_model.xml >\n"
     ]
    }
   ],
   "source": [
    "node = source_tree_symbolic[0][0]\n",
    "print node\n",
    "print '%s = %dx %s' %(ltt.strip_fqtag(node.tag), len(node), \n",
    "                      ltt.strip_fqtag(node[0].tag))\n",
    "print ltt.get_dict_key_match(node.attrib,'id')\n",
    "print node[0].uncertaintyModel"
   ]
  },
  {
   "cell_type": "code",
   "execution_count": 15,
   "metadata": {
    "collapsed": false
   },
   "outputs": [
    {
     "name": "stdout",
     "output_type": "stream",
     "text": [
      "<logicTreeBranchSet {'branchSetID': 'bs1', 'uncertaintyType': 'sourceModel'} None ...>\n",
      "logicTreeBranchSet = 3x logicTreeBranch\n",
      "branchSetID\n",
      "<uncertaintyModel {} areal_source_model.xml >\n"
     ]
    }
   ],
   "source": [
    "node = source_tree[0][0]\n",
    "print node\n",
    "print '%s = %dx %s' %(ltt.strip_fqtag(node.tag), len(node), \n",
    "                      ltt.strip_fqtag(node[0].tag))\n",
    "print ltt.get_dict_key_match(node.attrib,'id')\n",
    "model = node[0].uncertaintyModel\n",
    "print model"
   ]
  },
  {
   "cell_type": "code",
   "execution_count": null,
   "metadata": {
    "collapsed": true
   },
   "outputs": [],
   "source": []
  }
 ],
 "metadata": {
  "kernelspec": {
   "display_name": "Python 2",
   "language": "python",
   "name": "python2"
  },
  "language_info": {
   "codemirror_mode": {
    "name": "ipython",
    "version": 2
   },
   "file_extension": ".py",
   "mimetype": "text/x-python",
   "name": "python",
   "nbconvert_exporter": "python",
   "pygments_lexer": "ipython2",
   "version": "2.7.11"
  }
 },
 "nbformat": 4,
 "nbformat_minor": 0
}
