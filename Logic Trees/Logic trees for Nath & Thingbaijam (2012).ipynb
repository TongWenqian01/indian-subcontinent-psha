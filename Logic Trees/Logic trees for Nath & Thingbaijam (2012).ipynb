{
 "cells": [
  {
   "cell_type": "markdown",
   "metadata": {},
   "source": [
    "# Logic trees for Nath & Thingbaijam (2012)\n",
    "\n",
    "Read logic tree tables extracted from publication into https://docs.google.com/spreadsheets/d/1XqCE_hlBc0Hi4gbJab8UNvUVvxHq-s0J159sBGbXcko/edit#gid=348689639 and write them to TEX and XML."
   ]
  },
  {
   "cell_type": "code",
   "execution_count": null,
   "metadata": {
    "collapsed": false
   },
   "outputs": [],
   "source": [
    "%load_ext autoreload"
   ]
  },
  {
   "cell_type": "code",
   "execution_count": null,
   "metadata": {
    "collapsed": false
   },
   "outputs": [],
   "source": [
    "import pandas as pd\n",
    "\n",
    "%autoreload 2\n",
    "import logic_tree_tools as ltt\n",
    "\n",
    "from openquake.commonlib import nrml"
   ]
  },
  {
   "cell_type": "markdown",
   "metadata": {},
   "source": [
    "## GMPE Logic Tree"
   ]
  },
  {
   "cell_type": "code",
   "execution_count": null,
   "metadata": {
    "collapsed": false
   },
   "outputs": [],
   "source": [
    "gsim_tree_tsv = 'gmpe_logic_tree.tsv'\n",
    "gsim_tree_deprecated_xml = gsim_tree_tsv.replace('.tsv','_deprecated.xml')\n",
    "gsim_tree_xml = gsim_tree_tsv.replace('.tsv','.xml')"
   ]
  },
  {
   "cell_type": "code",
   "execution_count": null,
   "metadata": {
    "collapsed": false
   },
   "outputs": [],
   "source": [
    "gsim_tree_df = ltt.read_tree_tsv(gsim_tree_tsv)"
   ]
  },
  {
   "cell_type": "code",
   "execution_count": null,
   "metadata": {
    "collapsed": false
   },
   "outputs": [],
   "source": [
    "gsim_tree_df.drop(['Tectonic Region Type', 'Qualifier', 'Short Names'], axis=1)"
   ]
  },
  {
   "cell_type": "code",
   "execution_count": null,
   "metadata": {
    "collapsed": false
   },
   "outputs": [],
   "source": [
    "ltt.write_gsim_tree_nrml(gsim_tree_df, gsim_tree_deprecated_xml, validate=True)"
   ]
  },
  {
   "cell_type": "code",
   "execution_count": null,
   "metadata": {
    "collapsed": false
   },
   "outputs": [],
   "source": [
    "gsim_tree_deprecated = nrml.read(gsim_tree_deprecated_xml)"
   ]
  },
  {
   "cell_type": "code",
   "execution_count": null,
   "metadata": {
    "collapsed": false
   },
   "outputs": [],
   "source": [
    "gsim_tree = ltt.df_to_tree(gsim_tree_df, validate=True)\n",
    "with open(gsim_tree_xml, 'w+') as f:\n",
    "    nrml.write([gsim_tree], f, fmt='%g')"
   ]
  },
  {
   "cell_type": "code",
   "execution_count": null,
   "metadata": {
    "collapsed": false
   },
   "outputs": [],
   "source": [
    "gsim_tree_read = nrml.read(gsim_tree_xml)"
   ]
  },
  {
   "cell_type": "code",
   "execution_count": null,
   "metadata": {
    "collapsed": false
   },
   "outputs": [],
   "source": [
    "# not clear why you don't get the same thing reading and writing\n",
    "print gsim_tree.logicTreeBranchingLevel.logicTreeBranchSet.logicTreeBranch.uncertaintyModel.text\n",
    "print gsim_tree_read.logicTree.logicTreeBranchingLevel.logicTreeBranchSet.logicTreeBranch.uncertaintyModel.text.strip()\n",
    "print gsim_tree_deprecated.logicTree.logicTreeBranchingLevel.logicTreeBranchSet.logicTreeBranch.uncertaintyModel.text.strip()"
   ]
  },
  {
   "cell_type": "code",
   "execution_count": null,
   "metadata": {
    "collapsed": false
   },
   "outputs": [],
   "source": [
    "node = gsim_tree[0][0]\n",
    "print node\n",
    "print '%s = %dx %s' %(ltt.strip_fqtag(node.tag), len(node), \n",
    "                      ltt.strip_fqtag(node[0].tag))\n",
    "print ltt.get_dict_key_match(node.attrib,'id')"
   ]
  },
  {
   "cell_type": "code",
   "execution_count": null,
   "metadata": {
    "collapsed": false
   },
   "outputs": [],
   "source": [
    "ltt.nrml_to_pdf(gsim_tree_xml, include_ids=False)"
   ]
  },
  {
   "cell_type": "markdown",
   "metadata": {},
   "source": [
    "## Source Model Logic Tree"
   ]
  },
  {
   "cell_type": "code",
   "execution_count": null,
   "metadata": {
    "collapsed": false
   },
   "outputs": [],
   "source": [
    "ltt.nrml_to_pdf('example_source_model_logic_tree.xml', include_ids=False)\n",
    "ltt.nrml_to_pdf('example_gmpe_logic_tree.xml', include_ids=False)"
   ]
  },
  {
   "cell_type": "code",
   "execution_count": null,
   "metadata": {
    "collapsed": true
   },
   "outputs": [],
   "source": [
    "source_tree_tsv = 'source_model_logic_tree.tsv'\n",
    "source_tree_xml = source_tree_tsv.replace('.tsv','.xml')\n",
    "source_tree_simplified_xml = source_tree_tsv.replace('.tsv','_simplified.xml')"
   ]
  },
  {
   "cell_type": "code",
   "execution_count": null,
   "metadata": {
    "collapsed": false
   },
   "outputs": [],
   "source": [
    "source_tree_df = ltt.read_tree_tsv(source_tree_tsv)\n",
    "source_tree_df"
   ]
  },
  {
   "cell_type": "code",
   "execution_count": null,
   "metadata": {
    "collapsed": false
   },
   "outputs": [],
   "source": [
    "source_tree_simplified = ltt.df_to_tree(source_tree_df, validate=True)\n",
    "with open(source_tree_simplified_xml, 'w+') as f:\n",
    "    nrml.write([source_tree_simplified], f, fmt='%g')"
   ]
  },
  {
   "cell_type": "code",
   "execution_count": null,
   "metadata": {
    "collapsed": false
   },
   "outputs": [],
   "source": [
    "node = source_tree_simplified[0][0]\n",
    "print node\n",
    "print '%s = %dx %s' %(ltt.strip_fqtag(node.tag), len(node), \n",
    "                      ltt.strip_fqtag(node[0].tag))\n",
    "print ltt.get_dict_key_match(node.attrib,'id')\n",
    "print node[0].uncertaintyModel"
   ]
  },
  {
   "cell_type": "code",
   "execution_count": null,
   "metadata": {
    "collapsed": true
   },
   "outputs": [],
   "source": [
    "ltt.nrml_to_pdf(source_tree_simplified_xml, include_ids=False)"
   ]
  },
  {
   "cell_type": "code",
   "execution_count": null,
   "metadata": {
    "collapsed": false,
    "scrolled": true
   },
   "outputs": [],
   "source": [
    "source_tree_expanded_df = ltt.df_expand_sources(source_tree_df)\n",
    "pd.concat((source_tree_expanded_df.head(), source_tree_expanded_df.tail()))"
   ]
  },
  {
   "cell_type": "code",
   "execution_count": null,
   "metadata": {
    "collapsed": false
   },
   "outputs": [],
   "source": [
    "source_tree_expanded = ltt.df_to_tree(source_tree_expanded_df, validate=False)"
   ]
  },
  {
   "cell_type": "code",
   "execution_count": null,
   "metadata": {
    "collapsed": false
   },
   "outputs": [],
   "source": [
    "node = source_tree_expanded[2][0]\n",
    "print node\n",
    "print '%s = %dx %s' %(ltt.strip_fqtag(node.tag), len(node), \n",
    "                      ltt.strip_fqtag(node[0].tag))\n",
    "print ltt.get_dict_key_match(node.attrib,'id')\n",
    "model = node[0].uncertaintyModel\n",
    "print model"
   ]
  },
  {
   "cell_type": "code",
   "execution_count": null,
   "metadata": {
    "collapsed": false
   },
   "outputs": [],
   "source": [
    "with open(source_tree_xml, 'w+') as f:\n",
    "    nrml.write([source_tree_expanded], f, fmt='%g')\n",
    "ltt.nrml_to_pdf(source_tree_xml, include_ids=False)"
   ]
  },
  {
   "cell_type": "code",
   "execution_count": null,
   "metadata": {
    "collapsed": true
   },
   "outputs": [],
   "source": []
  }
 ],
 "metadata": {
  "kernelspec": {
   "display_name": "Python 2",
   "language": "python",
   "name": "python2"
  },
  "language_info": {
   "codemirror_mode": {
    "name": "ipython",
    "version": 2
   },
   "file_extension": ".py",
   "mimetype": "text/x-python",
   "name": "python",
   "nbconvert_exporter": "python",
   "pygments_lexer": "ipython2",
   "version": "2.7.11"
  }
 },
 "nbformat": 4,
 "nbformat_minor": 0
}
