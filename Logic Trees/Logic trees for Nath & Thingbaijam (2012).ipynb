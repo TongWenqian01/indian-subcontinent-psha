{
 "cells": [
  {
   "cell_type": "markdown",
   "metadata": {},
   "source": [
    "# Logic trees for Nath & Thingbaijam (2012)\n",
    "\n",
    "Read logic tree tables extracted from publication, along with a table of supplementary information write them to TEX and XML."
   ]
  },
  {
   "cell_type": "code",
   "execution_count": 1,
   "metadata": {
    "collapsed": false
   },
   "outputs": [],
   "source": [
    "%load_ext autoreload"
   ]
  },
  {
   "cell_type": "code",
   "execution_count": 2,
   "metadata": {
    "collapsed": false
   },
   "outputs": [],
   "source": [
    "import pandas as pd\n",
    "\n",
    "%autoreload 2\n",
    "import logic_tree_tools as ltt\n",
    "\n",
    "from openquake.commonlib import nrml"
   ]
  },
  {
   "cell_type": "markdown",
   "metadata": {},
   "source": [
    "## GMPE Logic Tree"
   ]
  },
  {
   "cell_type": "code",
   "execution_count": 3,
   "metadata": {
    "collapsed": false
   },
   "outputs": [],
   "source": [
    "gsim_tree_tsv = 'gmpe_logic_tree.tsv'\n",
    "gsim_tree_deprecated_xml = gsim_tree_tsv.replace('.tsv','_deprecated.xml')\n",
    "gsim_tree_xml = gsim_tree_tsv.replace('.tsv','.xml')"
   ]
  },
  {
   "cell_type": "code",
   "execution_count": 4,
   "metadata": {
    "collapsed": false
   },
   "outputs": [],
   "source": [
    "gsim_tree_df = ltt.read_tree_tsv(gsim_tree_tsv)"
   ]
  },
  {
   "cell_type": "code",
   "execution_count": 5,
   "metadata": {
    "collapsed": false
   },
   "outputs": [
    {
     "data": {
      "text/html": [
       "<div>\n",
       "<table border=\"1\" class=\"dataframe\">\n",
       "  <thead>\n",
       "    <tr style=\"text-align: right;\">\n",
       "      <th></th>\n",
       "      <th>uncertaintyType</th>\n",
       "      <th>applyToTectonicRegionType</th>\n",
       "      <th>uncertaintyModel</th>\n",
       "    </tr>\n",
       "  </thead>\n",
       "  <tbody>\n",
       "    <tr>\n",
       "      <th>0</th>\n",
       "      <td>gmpeModel</td>\n",
       "      <td>active shallow crust normal</td>\n",
       "      <td>[AkkarBommer2010, BooreAtkinson2008, CampbellB...</td>\n",
       "    </tr>\n",
       "    <tr>\n",
       "      <th>1</th>\n",
       "      <td>gmpeModel</td>\n",
       "      <td>active shallow crust strike-slip reverse</td>\n",
       "      <td>[AkkarBommer2010, BooreAtkinson2008, CampbellB...</td>\n",
       "    </tr>\n",
       "    <tr>\n",
       "      <th>2</th>\n",
       "      <td>gmpeModel</td>\n",
       "      <td>intraplate margin lower</td>\n",
       "      <td>[AtkinsonBoore2006, ToroEtAl2002, SharmaEtAl20...</td>\n",
       "    </tr>\n",
       "    <tr>\n",
       "      <th>3</th>\n",
       "      <td>gmpeModel</td>\n",
       "      <td>intraplate margin upper</td>\n",
       "      <td>[AtkinsonBoore2006, ToroEtAl2002, SharmaEtAl20...</td>\n",
       "    </tr>\n",
       "    <tr>\n",
       "      <th>4</th>\n",
       "      <td>gmpeModel</td>\n",
       "      <td>stable shallow crust</td>\n",
       "      <td>[AtkinsonBoore2006, ToroEtAl2002, Campbell2003...</td>\n",
       "    </tr>\n",
       "    <tr>\n",
       "      <th>5</th>\n",
       "      <td>gmpeModel</td>\n",
       "      <td>subduction interface</td>\n",
       "      <td>[AtkinsonBoore2003SInter, ZhaoEtAl2006SInter, ...</td>\n",
       "    </tr>\n",
       "    <tr>\n",
       "      <th>6</th>\n",
       "      <td>gmpeModel</td>\n",
       "      <td>subduction interface megathrust</td>\n",
       "      <td>[AtkinsonBoore2003SInter, AtkinsonMacias2009, ...</td>\n",
       "    </tr>\n",
       "    <tr>\n",
       "      <th>7</th>\n",
       "      <td>gmpeModel</td>\n",
       "      <td>subduction intraslab Himalayas</td>\n",
       "      <td>[AtkinsonBoore2003SSlabJapan, YoungsEtAl1997SS...</td>\n",
       "    </tr>\n",
       "    <tr>\n",
       "      <th>8</th>\n",
       "      <td>gmpeModel</td>\n",
       "      <td>subduction intraslab</td>\n",
       "      <td>[AtkinsonBoore2003SSlabCascadia, YoungsEtAl199...</td>\n",
       "    </tr>\n",
       "  </tbody>\n",
       "</table>\n",
       "</div>"
      ],
      "text/plain": [
       "  uncertaintyType                 applyToTectonicRegionType  \\\n",
       "0       gmpeModel               active shallow crust normal   \n",
       "1       gmpeModel  active shallow crust strike-slip reverse   \n",
       "2       gmpeModel                   intraplate margin lower   \n",
       "3       gmpeModel                   intraplate margin upper   \n",
       "4       gmpeModel                      stable shallow crust   \n",
       "5       gmpeModel                      subduction interface   \n",
       "6       gmpeModel           subduction interface megathrust   \n",
       "7       gmpeModel            subduction intraslab Himalayas   \n",
       "8       gmpeModel                      subduction intraslab   \n",
       "\n",
       "                                    uncertaintyModel  \n",
       "0  [AkkarBommer2010, BooreAtkinson2008, CampbellB...  \n",
       "1  [AkkarBommer2010, BooreAtkinson2008, CampbellB...  \n",
       "2  [AtkinsonBoore2006, ToroEtAl2002, SharmaEtAl20...  \n",
       "3  [AtkinsonBoore2006, ToroEtAl2002, SharmaEtAl20...  \n",
       "4  [AtkinsonBoore2006, ToroEtAl2002, Campbell2003...  \n",
       "5  [AtkinsonBoore2003SInter, ZhaoEtAl2006SInter, ...  \n",
       "6  [AtkinsonBoore2003SInter, AtkinsonMacias2009, ...  \n",
       "7  [AtkinsonBoore2003SSlabJapan, YoungsEtAl1997SS...  \n",
       "8  [AtkinsonBoore2003SSlabCascadia, YoungsEtAl199...  "
      ]
     },
     "execution_count": 5,
     "metadata": {},
     "output_type": "execute_result"
    }
   ],
   "source": [
    "gsim_tree_df.drop(['Tectonic Region Type', 'Qualifier', 'Short Names'], axis=1)"
   ]
  },
  {
   "cell_type": "code",
   "execution_count": 6,
   "metadata": {
    "collapsed": false
   },
   "outputs": [
    {
     "name": "stdout",
     "output_type": "stream",
     "text": [
      "Level 1 model 5 \"SharmaEtAl2009\" not valid GSIM. Omitting ...\n",
      "Level 1 model 4 \"KannoEtAl2006Shallow\" not valid GSIM. Omitting ...\n",
      "Level 2 model 4 \"KannoEtAl2006Shallow\" not valid GSIM. Omitting ...\n",
      "Level 3 model 4 \"NathEtAl2012Lower\" not valid GSIM. Omitting ...\n",
      "Level 3 model 3 \"SharmaEtAl2009\" not valid GSIM. Omitting ...\n",
      "Level 4 model 4 \"NathEtAl2012Upper\" not valid GSIM. Omitting ...\n",
      "Level 4 model 3 \"SharmaEtAl2009\" not valid GSIM. Omitting ...\n",
      "Level 5 model 4 \"RagukanthIyengar2007\" not valid GSIM. Omitting ...\n",
      "Level 6 model 3 \"KannoEtAl2006Deep\" not valid GSIM. Omitting ...\n",
      "Level 7 model 4 \"KannoEtAl2006Deep\" not valid GSIM. Omitting ...\n",
      "Level 8 model 1 \"AtkinsonBoore2003SSlabJapan\" not valid GSIM. Omitting ...\n",
      "Level 9 model 4 \"Gupta2010SSlab\" not valid GSIM. Omitting ...\n",
      "Level 9 model 1 \"AtkinsonBoore2003SSlabCascadia\" not valid GSIM. Omitting ...\n"
     ]
    },
    {
     "name": "stderr",
     "output_type": "stream",
     "text": [
      "<string>:2: DeprecationWarning: logic_tree_tools.write_gsim_tree_nrml has been deprecated. Use gsim_data_to_tree instead\n"
     ]
    }
   ],
   "source": [
    "ltt.write_gsim_tree_nrml(gsim_tree_df, gsim_tree_deprecated_xml, validate=True)"
   ]
  },
  {
   "cell_type": "code",
   "execution_count": 7,
   "metadata": {
    "collapsed": false
   },
   "outputs": [],
   "source": [
    "gsim_tree_deprecated = nrml.read(gsim_tree_deprecated_xml)"
   ]
  },
  {
   "cell_type": "code",
   "execution_count": 8,
   "metadata": {
    "collapsed": false
   },
   "outputs": [
    {
     "name": "stdout",
     "output_type": "stream",
     "text": [
      "bs1 model 5 \"SharmaEtAl2009\" not valid GSIM. Omitting ...\n",
      "bs1 model 4 \"KannoEtAl2006Shallow\" not valid GSIM. Omitting ...\n",
      "bs2 model 4 \"KannoEtAl2006Shallow\" not valid GSIM. Omitting ...\n",
      "bs3 model 4 \"NathEtAl2012Lower\" not valid GSIM. Omitting ...\n",
      "bs3 model 3 \"SharmaEtAl2009\" not valid GSIM. Omitting ...\n",
      "bs4 model 4 \"NathEtAl2012Upper\" not valid GSIM. Omitting ...\n",
      "bs4 model 3 \"SharmaEtAl2009\" not valid GSIM. Omitting ...\n",
      "bs5 model 4 \"RagukanthIyengar2007\" not valid GSIM. Omitting ...\n",
      "bs6 model 3 \"KannoEtAl2006Deep\" not valid GSIM. Omitting ...\n",
      "bs7 model 4 \"KannoEtAl2006Deep\" not valid GSIM. Omitting ...\n",
      "bs8 model 1 \"AtkinsonBoore2003SSlabJapan\" not valid GSIM. Omitting ...\n",
      "bs9 model 4 \"Gupta2010SSlab\" not valid GSIM. Omitting ...\n",
      "bs9 model 1 \"AtkinsonBoore2003SSlabCascadia\" not valid GSIM. Omitting ...\n"
     ]
    }
   ],
   "source": [
    "gsim_tree = ltt.df_to_tree(gsim_tree_df, validate=True)\n",
    "with open(gsim_tree_xml, 'w+') as f:\n",
    "    nrml.write([gsim_tree], f, fmt='%g')"
   ]
  },
  {
   "cell_type": "code",
   "execution_count": 9,
   "metadata": {
    "collapsed": false
   },
   "outputs": [],
   "source": [
    "gsim_tree_read = nrml.read(gsim_tree_xml)"
   ]
  },
  {
   "cell_type": "code",
   "execution_count": 10,
   "metadata": {
    "collapsed": false
   },
   "outputs": [
    {
     "name": "stdout",
     "output_type": "stream",
     "text": [
      "AkkarBommer2010\n",
      "AkkarBommer2010\n",
      "AkkarBommer2010\n"
     ]
    }
   ],
   "source": [
    "# not clear why you don't get the same thing reading and writing\n",
    "print gsim_tree.logicTreeBranchingLevel.logicTreeBranchSet.logicTreeBranch.uncertaintyModel.text\n",
    "print gsim_tree_read.logicTree.logicTreeBranchingLevel.logicTreeBranchSet.logicTreeBranch.uncertaintyModel.text.strip()\n",
    "print gsim_tree_deprecated.logicTree.logicTreeBranchingLevel.logicTreeBranchSet.logicTreeBranch.uncertaintyModel.text.strip()"
   ]
  },
  {
   "cell_type": "code",
   "execution_count": 11,
   "metadata": {
    "collapsed": false
   },
   "outputs": [
    {
     "name": "stdout",
     "output_type": "stream",
     "text": [
      "<logicTreeBranchSet {'branchSetID': 'bs1', 'applyToTectonicRegionType': 'active shallow crust normal', 'uncertaintyType': 'gmpeModel'} None ...>\n",
      "logicTreeBranchSet = 3x logicTreeBranch\n",
      "branchSetID\n"
     ]
    }
   ],
   "source": [
    "node = gsim_tree[0][0]\n",
    "print node\n",
    "print '%s = %dx %s' %(ltt.strip_fqtag(node.tag), len(node), \n",
    "                      ltt.strip_fqtag(node[0].tag))\n",
    "print ltt.get_dict_key_match(node.attrib,'id')"
   ]
  },
  {
   "cell_type": "code",
   "execution_count": 12,
   "metadata": {
    "collapsed": false
   },
   "outputs": [],
   "source": [
    "ltt.nrml_to_pdf(gsim_tree_xml, include_ids=False)"
   ]
  },
  {
   "cell_type": "code",
   "execution_count": 13,
   "metadata": {
    "collapsed": true
   },
   "outputs": [],
   "source": [
    "# let's also write an un-validated (\"full\") version of the tree\n",
    "gsim_tree_all = ltt.df_to_tree(gsim_tree_df, validate=False)\n",
    "gsim_tree_all_xml = gsim_tree_xml.replace('.xml','_all.xml')\n",
    "with open(gsim_tree_all_xml, 'w+') as f:\n",
    "    nrml.write([gsim_tree_all], f, fmt='%g')\n",
    "ltt.nrml_to_pdf(gsim_tree_all_xml, include_ids=False)"
   ]
  },
  {
   "cell_type": "markdown",
   "metadata": {},
   "source": [
    "## Source Model Logic Tree"
   ]
  },
  {
   "cell_type": "code",
   "execution_count": 14,
   "metadata": {
    "collapsed": false
   },
   "outputs": [
    {
     "name": "stdout",
     "output_type": "stream",
     "text": [
      "Too many (11) nodes in logicTree, abbreviating to first & last 5\n"
     ]
    }
   ],
   "source": [
    "ltt.nrml_to_pdf('example_source_model_logic_tree.xml', include_ids=False)\n",
    "ltt.nrml_to_pdf('example_gmpe_logic_tree.xml', include_ids=False)"
   ]
  },
  {
   "cell_type": "code",
   "execution_count": 15,
   "metadata": {
    "collapsed": true
   },
   "outputs": [],
   "source": [
    "source_tree_tsv = 'source_model_logic_tree.tsv'\n",
    "source_tree_xml = source_tree_tsv.replace('.tsv','.xml')\n",
    "source_tree_simplified_xml = source_tree_tsv.replace('.tsv','_simplified.xml')"
   ]
  },
  {
   "cell_type": "code",
   "execution_count": 16,
   "metadata": {
    "collapsed": false
   },
   "outputs": [
    {
     "data": {
      "text/html": [
       "<div>\n",
       "<table border=\"1\" class=\"dataframe\">\n",
       "  <thead>\n",
       "    <tr style=\"text-align: right;\">\n",
       "      <th></th>\n",
       "      <th>uncertaintyType</th>\n",
       "      <th>applyToSources</th>\n",
       "      <th>uncertaintyModel</th>\n",
       "      <th>uncertaintyWeight</th>\n",
       "    </tr>\n",
       "  </thead>\n",
       "  <tbody>\n",
       "    <tr>\n",
       "      <th>0</th>\n",
       "      <td>sourceModel</td>\n",
       "      <td>all</td>\n",
       "      <td>[areal_source_model.xml, smoothed_source_model...</td>\n",
       "      <td>[0.4, 0.27, 0.33]</td>\n",
       "    </tr>\n",
       "    <tr>\n",
       "      <th>1</th>\n",
       "      <td>maxMagGRRelative</td>\n",
       "      <td>areal_source_model.tsv</td>\n",
       "      <td>[-stdmmax, 0, +stdmmax]</td>\n",
       "      <td>[0.32, 0.36, 0.32]</td>\n",
       "    </tr>\n",
       "    <tr>\n",
       "      <th>2</th>\n",
       "      <td>bGRRelative</td>\n",
       "      <td>areal_source_model.tsv</td>\n",
       "      <td>[-stdb, 0, +stdb]</td>\n",
       "      <td>[0.32, 0.36, 0.32]</td>\n",
       "    </tr>\n",
       "  </tbody>\n",
       "</table>\n",
       "</div>"
      ],
      "text/plain": [
       "    uncertaintyType          applyToSources  \\\n",
       "0       sourceModel                     all   \n",
       "1  maxMagGRRelative  areal_source_model.tsv   \n",
       "2       bGRRelative  areal_source_model.tsv   \n",
       "\n",
       "                                    uncertaintyModel   uncertaintyWeight  \n",
       "0  [areal_source_model.xml, smoothed_source_model...   [0.4, 0.27, 0.33]  \n",
       "1                            [-stdmmax, 0, +stdmmax]  [0.32, 0.36, 0.32]  \n",
       "2                                  [-stdb, 0, +stdb]  [0.32, 0.36, 0.32]  "
      ]
     },
     "execution_count": 16,
     "metadata": {},
     "output_type": "execute_result"
    }
   ],
   "source": [
    "source_tree_df = ltt.read_tree_tsv(source_tree_tsv)\n",
    "source_tree_df"
   ]
  },
  {
   "cell_type": "code",
   "execution_count": 17,
   "metadata": {
    "collapsed": false
   },
   "outputs": [],
   "source": [
    "source_tree_simplified = ltt.df_to_tree(source_tree_df, validate=True)\n",
    "with open(source_tree_simplified_xml, 'w+') as f:\n",
    "    nrml.write([source_tree_simplified], f, fmt='%g')"
   ]
  },
  {
   "cell_type": "code",
   "execution_count": 18,
   "metadata": {
    "collapsed": false
   },
   "outputs": [
    {
     "name": "stdout",
     "output_type": "stream",
     "text": [
      "<logicTreeBranchSet {'branchSetID': 'bs1', 'uncertaintyType': 'sourceModel'} None ...>\n",
      "logicTreeBranchSet = 3x logicTreeBranch\n",
      "branchSetID\n",
      "<uncertaintyModel {} areal_source_model.xml >\n"
     ]
    }
   ],
   "source": [
    "node = source_tree_simplified[0][0]\n",
    "print node\n",
    "print '%s = %dx %s' %(ltt.strip_fqtag(node.tag), len(node), \n",
    "                      ltt.strip_fqtag(node[0].tag))\n",
    "print ltt.get_dict_key_match(node.attrib,'id')\n",
    "print node[0].uncertaintyModel"
   ]
  },
  {
   "cell_type": "code",
   "execution_count": 19,
   "metadata": {
    "collapsed": true
   },
   "outputs": [],
   "source": [
    "ltt.nrml_to_pdf(source_tree_simplified_xml, include_ids=False)"
   ]
  },
  {
   "cell_type": "code",
   "execution_count": 20,
   "metadata": {
    "collapsed": false,
    "scrolled": true
   },
   "outputs": [
    {
     "name": "stdout",
     "output_type": "stream",
     "text": [
      "Cannot find 0 in keys of areal_source_model.tsv, setting to zero\n",
      "Cannot find 0 in keys of areal_source_model.tsv, setting to zero\n"
     ]
    },
    {
     "data": {
      "text/html": [
       "<div>\n",
       "<table border=\"1\" class=\"dataframe\">\n",
       "  <thead>\n",
       "    <tr style=\"text-align: right;\">\n",
       "      <th></th>\n",
       "      <th>uncertaintyType</th>\n",
       "      <th>applyToSources</th>\n",
       "      <th>uncertaintyModel</th>\n",
       "      <th>uncertaintyWeight</th>\n",
       "    </tr>\n",
       "  </thead>\n",
       "  <tbody>\n",
       "    <tr>\n",
       "      <th>0</th>\n",
       "      <td>sourceModel</td>\n",
       "      <td>all</td>\n",
       "      <td>[areal_source_model.xml, smoothed_source_model...</td>\n",
       "      <td>[0.4, 0.27, 0.33]</td>\n",
       "    </tr>\n",
       "    <tr>\n",
       "      <th>1</th>\n",
       "      <td>maxMagGRRelative</td>\n",
       "      <td>1</td>\n",
       "      <td>[-0.4, 0.0, 0.4]</td>\n",
       "      <td>[0.32, 0.36, 0.32]</td>\n",
       "    </tr>\n",
       "    <tr>\n",
       "      <th>2</th>\n",
       "      <td>bGRRelative</td>\n",
       "      <td>1</td>\n",
       "      <td>[-0.07, 0.0, 0.07]</td>\n",
       "      <td>[0.32, 0.36, 0.32]</td>\n",
       "    </tr>\n",
       "    <tr>\n",
       "      <th>3</th>\n",
       "      <td>maxMagGRRelative</td>\n",
       "      <td>1.1</td>\n",
       "      <td>[-0.4, 0.0, 0.4]</td>\n",
       "      <td>[0.32, 0.36, 0.32]</td>\n",
       "    </tr>\n",
       "    <tr>\n",
       "      <th>4</th>\n",
       "      <td>bGRRelative</td>\n",
       "      <td>1.1</td>\n",
       "      <td>[-0.07, 0.0, 0.07]</td>\n",
       "      <td>[0.32, 0.36, 0.32]</td>\n",
       "    </tr>\n",
       "    <tr>\n",
       "      <th>256</th>\n",
       "      <td>bGRRelative</td>\n",
       "      <td>933</td>\n",
       "      <td>[-0.13, 0.0, 0.13]</td>\n",
       "      <td>[0.32, 0.36, 0.32]</td>\n",
       "    </tr>\n",
       "    <tr>\n",
       "      <th>257</th>\n",
       "      <td>maxMagGRRelative</td>\n",
       "      <td>935</td>\n",
       "      <td>[-0.3, 0.0, 0.3]</td>\n",
       "      <td>[0.32, 0.36, 0.32]</td>\n",
       "    </tr>\n",
       "    <tr>\n",
       "      <th>258</th>\n",
       "      <td>bGRRelative</td>\n",
       "      <td>935</td>\n",
       "      <td>[-0.09, 0.0, 0.09]</td>\n",
       "      <td>[0.32, 0.36, 0.32]</td>\n",
       "    </tr>\n",
       "    <tr>\n",
       "      <th>259</th>\n",
       "      <td>maxMagGRRelative</td>\n",
       "      <td>936</td>\n",
       "      <td>[-0.2, 0.0, 0.2]</td>\n",
       "      <td>[0.32, 0.36, 0.32]</td>\n",
       "    </tr>\n",
       "    <tr>\n",
       "      <th>260</th>\n",
       "      <td>bGRRelative</td>\n",
       "      <td>936</td>\n",
       "      <td>[-0.11, 0.0, 0.11]</td>\n",
       "      <td>[0.32, 0.36, 0.32]</td>\n",
       "    </tr>\n",
       "  </tbody>\n",
       "</table>\n",
       "</div>"
      ],
      "text/plain": [
       "      uncertaintyType applyToSources  \\\n",
       "0         sourceModel            all   \n",
       "1    maxMagGRRelative              1   \n",
       "2         bGRRelative              1   \n",
       "3    maxMagGRRelative            1.1   \n",
       "4         bGRRelative            1.1   \n",
       "256       bGRRelative            933   \n",
       "257  maxMagGRRelative            935   \n",
       "258       bGRRelative            935   \n",
       "259  maxMagGRRelative            936   \n",
       "260       bGRRelative            936   \n",
       "\n",
       "                                      uncertaintyModel   uncertaintyWeight  \n",
       "0    [areal_source_model.xml, smoothed_source_model...   [0.4, 0.27, 0.33]  \n",
       "1                                     [-0.4, 0.0, 0.4]  [0.32, 0.36, 0.32]  \n",
       "2                                   [-0.07, 0.0, 0.07]  [0.32, 0.36, 0.32]  \n",
       "3                                     [-0.4, 0.0, 0.4]  [0.32, 0.36, 0.32]  \n",
       "4                                   [-0.07, 0.0, 0.07]  [0.32, 0.36, 0.32]  \n",
       "256                                 [-0.13, 0.0, 0.13]  [0.32, 0.36, 0.32]  \n",
       "257                                   [-0.3, 0.0, 0.3]  [0.32, 0.36, 0.32]  \n",
       "258                                 [-0.09, 0.0, 0.09]  [0.32, 0.36, 0.32]  \n",
       "259                                   [-0.2, 0.0, 0.2]  [0.32, 0.36, 0.32]  \n",
       "260                                 [-0.11, 0.0, 0.11]  [0.32, 0.36, 0.32]  "
      ]
     },
     "execution_count": 20,
     "metadata": {},
     "output_type": "execute_result"
    }
   ],
   "source": [
    "source_tree_expanded_df = ltt.df_expand_sources(source_tree_df)\n",
    "pd.concat((source_tree_expanded_df.head(), source_tree_expanded_df.tail()))"
   ]
  },
  {
   "cell_type": "code",
   "execution_count": 21,
   "metadata": {
    "collapsed": false
   },
   "outputs": [],
   "source": [
    "source_tree_expanded = ltt.df_to_tree(source_tree_expanded_df, validate=False)"
   ]
  },
  {
   "cell_type": "code",
   "execution_count": 22,
   "metadata": {
    "collapsed": false
   },
   "outputs": [
    {
     "name": "stdout",
     "output_type": "stream",
     "text": [
      "<logicTreeBranchSet {'branchSetID': 'bs3', 'applyToSources': 1.0, 'uncertaintyType': 'bGRRelative'} None ...>\n",
      "logicTreeBranchSet = 3x logicTreeBranch\n",
      "branchSetID\n",
      "<uncertaintyModel {} -0.07 >\n"
     ]
    }
   ],
   "source": [
    "node = source_tree_expanded[2][0]\n",
    "print node\n",
    "print '%s = %dx %s' %(ltt.strip_fqtag(node.tag), len(node), \n",
    "                      ltt.strip_fqtag(node[0].tag))\n",
    "print ltt.get_dict_key_match(node.attrib,'id')\n",
    "model = node[0].uncertaintyModel\n",
    "print model"
   ]
  },
  {
   "cell_type": "code",
   "execution_count": 23,
   "metadata": {
    "collapsed": false
   },
   "outputs": [
    {
     "name": "stdout",
     "output_type": "stream",
     "text": [
      "Too many (261) nodes in logicTree, abbreviating to first & last 5\n"
     ]
    }
   ],
   "source": [
    "with open(source_tree_xml, 'w+') as f:\n",
    "    nrml.write([source_tree_expanded], f, fmt='%g')\n",
    "ltt.nrml_to_pdf(source_tree_xml, include_ids=False)"
   ]
  },
  {
   "cell_type": "code",
   "execution_count": null,
   "metadata": {
    "collapsed": true
   },
   "outputs": [],
   "source": []
  }
 ],
 "metadata": {
  "kernelspec": {
   "display_name": "Python 2",
   "language": "python",
   "name": "python2"
  },
  "language_info": {
   "codemirror_mode": {
    "name": "ipython",
    "version": 2
   },
   "file_extension": ".py",
   "mimetype": "text/x-python",
   "name": "python",
   "nbconvert_exporter": "python",
   "pygments_lexer": "ipython2",
   "version": "2.7.11"
  }
 },
 "nbformat": 4,
 "nbformat_minor": 0
}
