{
 "cells": [
  {
   "cell_type": "markdown",
   "metadata": {},
   "source": [
    "# Logic trees for Nath & Thingbaijam (2012)\n",
    "\n",
    "Read logic tree tables extracted from publication, along with a table of supplementary information write them to TEX and XML. Note that the logic trees require information from the source models, so if changes are made there then this must be rerun too."
   ]
  },
  {
   "cell_type": "code",
   "execution_count": 32,
   "metadata": {
    "collapsed": false
   },
   "outputs": [],
   "source": [
    "%load_ext autoreload"
   ]
  },
  {
   "cell_type": "code",
   "execution_count": 33,
   "metadata": {
    "collapsed": false
   },
   "outputs": [],
   "source": [
    "import pandas as pd\n",
    "from IPython.display import display\n",
    "\n",
    "%autoreload 2\n",
    "import logic_tree_tools as ltt\n",
    "\n",
    "from openquake.commonlib import nrml"
   ]
  },
  {
   "cell_type": "code",
   "execution_count": 34,
   "metadata": {
    "collapsed": true
   },
   "outputs": [],
   "source": [
    "# flag determines whether branch IDs are included in PDF drawings of logic trees\n",
    "include_ids=False"
   ]
  },
  {
   "cell_type": "markdown",
   "metadata": {},
   "source": [
    "## GMPE Logic Tree"
   ]
  },
  {
   "cell_type": "code",
   "execution_count": 35,
   "metadata": {
    "collapsed": true
   },
   "outputs": [],
   "source": [
    "ltt.nrml_to_pdf('example_gmpe_logic_tree.xml', include_ids=include_ids)"
   ]
  },
  {
   "cell_type": "code",
   "execution_count": 36,
   "metadata": {
    "collapsed": false
   },
   "outputs": [
    {
     "data": {
      "text/html": [
       "<div>\n",
       "<table border=\"1\" class=\"dataframe\">\n",
       "  <thead>\n",
       "    <tr style=\"text-align: right;\">\n",
       "      <th></th>\n",
       "      <th>uncertaintyType</th>\n",
       "      <th>applyToTectonicRegionType</th>\n",
       "      <th>uncertaintyModel</th>\n",
       "    </tr>\n",
       "  </thead>\n",
       "  <tbody>\n",
       "    <tr>\n",
       "      <th>0</th>\n",
       "      <td>gmpeModel</td>\n",
       "      <td>active shallow crust normal</td>\n",
       "      <td>[AkkarBommer2010, BooreAtkinson2008, CampbellB...</td>\n",
       "    </tr>\n",
       "    <tr>\n",
       "      <th>1</th>\n",
       "      <td>gmpeModel</td>\n",
       "      <td>active shallow crust strike-slip reverse</td>\n",
       "      <td>[AkkarBommer2010, BooreAtkinson2008, CampbellB...</td>\n",
       "    </tr>\n",
       "    <tr>\n",
       "      <th>2</th>\n",
       "      <td>gmpeModel</td>\n",
       "      <td>intraplate margin lower</td>\n",
       "      <td>[AtkinsonBoore2006, ToroEtAl2002, SharmaEtAl20...</td>\n",
       "    </tr>\n",
       "    <tr>\n",
       "      <th>3</th>\n",
       "      <td>gmpeModel</td>\n",
       "      <td>intraplate margin upper</td>\n",
       "      <td>[AtkinsonBoore2006, ToroEtAl2002, SharmaEtAl20...</td>\n",
       "    </tr>\n",
       "    <tr>\n",
       "      <th>4</th>\n",
       "      <td>gmpeModel</td>\n",
       "      <td>stable shallow crust</td>\n",
       "      <td>[AtkinsonBoore2006, ToroEtAl2002, Campbell2003...</td>\n",
       "    </tr>\n",
       "    <tr>\n",
       "      <th>5</th>\n",
       "      <td>gmpeModel</td>\n",
       "      <td>subduction interface</td>\n",
       "      <td>[AtkinsonBoore2003SInter, ZhaoEtAl2006SInter, ...</td>\n",
       "    </tr>\n",
       "    <tr>\n",
       "      <th>6</th>\n",
       "      <td>gmpeModel</td>\n",
       "      <td>subduction interface megathrust</td>\n",
       "      <td>[AtkinsonBoore2003SInter, AtkinsonMacias2009, ...</td>\n",
       "    </tr>\n",
       "    <tr>\n",
       "      <th>7</th>\n",
       "      <td>gmpeModel</td>\n",
       "      <td>subduction intraslab Himalayas</td>\n",
       "      <td>[AtkinsonBoore2003SSlabJapan, YoungsEtAl1997SS...</td>\n",
       "    </tr>\n",
       "    <tr>\n",
       "      <th>8</th>\n",
       "      <td>gmpeModel</td>\n",
       "      <td>subduction intraslab</td>\n",
       "      <td>[AtkinsonBoore2003SSlabCascadia, YoungsEtAl199...</td>\n",
       "    </tr>\n",
       "  </tbody>\n",
       "</table>\n",
       "</div>"
      ],
      "text/plain": [
       "  uncertaintyType                 applyToTectonicRegionType  \\\n",
       "0       gmpeModel               active shallow crust normal   \n",
       "1       gmpeModel  active shallow crust strike-slip reverse   \n",
       "2       gmpeModel                   intraplate margin lower   \n",
       "3       gmpeModel                   intraplate margin upper   \n",
       "4       gmpeModel                      stable shallow crust   \n",
       "5       gmpeModel                      subduction interface   \n",
       "6       gmpeModel           subduction interface megathrust   \n",
       "7       gmpeModel            subduction intraslab Himalayas   \n",
       "8       gmpeModel                      subduction intraslab   \n",
       "\n",
       "                                    uncertaintyModel  \n",
       "0  [AkkarBommer2010, BooreAtkinson2008, CampbellB...  \n",
       "1  [AkkarBommer2010, BooreAtkinson2008, CampbellB...  \n",
       "2  [AtkinsonBoore2006, ToroEtAl2002, SharmaEtAl20...  \n",
       "3  [AtkinsonBoore2006, ToroEtAl2002, SharmaEtAl20...  \n",
       "4  [AtkinsonBoore2006, ToroEtAl2002, Campbell2003...  \n",
       "5  [AtkinsonBoore2003SInter, ZhaoEtAl2006SInter, ...  \n",
       "6  [AtkinsonBoore2003SInter, AtkinsonMacias2009, ...  \n",
       "7  [AtkinsonBoore2003SSlabJapan, YoungsEtAl1997SS...  \n",
       "8  [AtkinsonBoore2003SSlabCascadia, YoungsEtAl199...  "
      ]
     },
     "execution_count": 36,
     "metadata": {},
     "output_type": "execute_result"
    }
   ],
   "source": [
    "gsim_tree_tsv = 'gmpe_logic_tree.tsv'\n",
    "gsim_tree_df = ltt.read_tree_tsv(gsim_tree_tsv)\n",
    "gsim_tree_df.drop(['Tectonic Region Type', 'Qualifier', 'Short Names'], axis=1)"
   ]
  },
  {
   "cell_type": "code",
   "execution_count": 37,
   "metadata": {
    "collapsed": false
   },
   "outputs": [
    {
     "name": "stderr",
     "output_type": "stream",
     "text": [
      "<string>:2: DeprecationWarning: logic_tree_tools.write_gsim_tree_nrml has been deprecated. Use gsim_data_to_tree instead\n",
      "/home/nick/src/python/GEM/oq-hazardlib/openquake/hazardlib/gsim/base.py:90: NotVerifiedWarning: RaghukanthIyengar2007 is not independently verified - the user is liable for their application\n",
      "  warnings.warn(msg, NotVerifiedWarning)\n",
      "/home/nick/src/python/GEM/oq-hazardlib/openquake/hazardlib/gsim/base.py:90: NotVerifiedWarning: Gupta2010SSlab is not independently verified - the user is liable for their application\n",
      "  warnings.warn(msg, NotVerifiedWarning)\n"
     ]
    }
   ],
   "source": [
    "gsim_tree_deprecated_xml = gsim_tree_tsv.replace('.tsv','_deprecated.xml')\n",
    "ltt.write_gsim_tree_nrml(gsim_tree_df, gsim_tree_deprecated_xml, validate=True)\n",
    "gsim_tree_deprecated = nrml.read(gsim_tree_deprecated_xml)"
   ]
  },
  {
   "cell_type": "code",
   "execution_count": 38,
   "metadata": {
    "collapsed": false
   },
   "outputs": [
    {
     "name": "stdout",
     "output_type": "stream",
     "text": [
      "Omitting bs1 model 5 \"SharmaEtAl2009\" ...\n",
      "Omitting bs1 model 4 \"Kanno2006Shallow\" ...\n",
      "Omitting bs2 model 4 \"Kanno2006Shallow\" ...\n",
      "Omitting bs3 model 4 \"NathEtAl2012Lower\" ...\n",
      "Omitting bs3 model 3 \"SharmaEtAl2009\" ...\n",
      "Omitting bs4 model 4 \"NathEtAl2012Upper\" ...\n",
      "Omitting bs4 model 3 \"SharmaEtAl2009\" ...\n",
      "Omitting bs5 model 4 \"RaghukanthIyengar2007\" ...\n",
      "Omitting bs6 model 3 \"Kanno2006Deep\" ...\n",
      "Omitting bs7 model 4 \"Kanno2006Deep\" ...\n",
      "Omitting bs8 model 1 \"AtkinsonBoore2003SSlabJapan\" ...\n",
      "Omitting bs9 model 4 \"Gupta2010SSlab\" ...\n",
      "Omitting bs9 model 1 \"AtkinsonBoore2003SSlabCascadia\" ...\n"
     ]
    }
   ],
   "source": [
    "new_models = ['SharmaEtAl2009', \n",
    "              'Kanno2006Shallow', 'Kanno2006Deep', \n",
    "              'NathEtAl2012Lower', 'NathEtAl2012Upper', \n",
    "              'RaghukanthIyengar2007', \n",
    "              'Gupta2010SSlab',\n",
    "              'AtkinsonBoore2003SSlabJapan','AtkinsonBoore2003SSlabCascadia']\n",
    "gsim_tree_omit_new = ltt.df_to_tree(gsim_tree_df, omit=new_models, validate=True)\n",
    "gsim_tree_omit_new_xml = gsim_tree_tsv.replace('.tsv','_omit_new.xml')\n",
    "with open(gsim_tree_omit_new_xml, 'w+') as f:\n",
    "    nrml.write([gsim_tree_omit_new], f, fmt='%g')\n",
    "ltt.nrml_to_pdf(gsim_tree_omit_new_xml, include_ids=include_ids)"
   ]
  },
  {
   "cell_type": "code",
   "execution_count": 39,
   "metadata": {
    "collapsed": false
   },
   "outputs": [],
   "source": [
    "gsim_tree_read = nrml.read(gsim_tree_omit_new_xml)"
   ]
  },
  {
   "cell_type": "code",
   "execution_count": 40,
   "metadata": {
    "collapsed": false
   },
   "outputs": [
    {
     "name": "stdout",
     "output_type": "stream",
     "text": [
      "AkkarBommer2010\n",
      "AkkarBommer2010\n",
      "AkkarBommer2010\n"
     ]
    }
   ],
   "source": [
    "# not clear why you don't get the same thing reading and writing\n",
    "print gsim_tree_omit_new.logicTreeBranchingLevel.logicTreeBranchSet.logicTreeBranch.uncertaintyModel.text\n",
    "print gsim_tree_read.logicTree.logicTreeBranchingLevel.logicTreeBranchSet.logicTreeBranch.uncertaintyModel.text.strip()\n",
    "print gsim_tree_deprecated.logicTree.logicTreeBranchingLevel.logicTreeBranchSet.logicTreeBranch.uncertaintyModel.text.strip()"
   ]
  },
  {
   "cell_type": "code",
   "execution_count": 41,
   "metadata": {
    "collapsed": false
   },
   "outputs": [
    {
     "name": "stdout",
     "output_type": "stream",
     "text": [
      "<logicTreeBranchSet {'branchSetID': 'bs1', 'applyToTectonicRegionType': 'active shallow crust normal', 'uncertaintyType': 'gmpeModel'} None ...>\n",
      "logicTreeBranchSet = 3x logicTreeBranch\n",
      "branchSetID\n"
     ]
    }
   ],
   "source": [
    "node = gsim_tree_omit_new[0][0]\n",
    "print node\n",
    "print '%s = %dx %s' %(ltt.strip_fqtag(node.tag), len(node), \n",
    "                      ltt.strip_fqtag(node[0].tag))\n",
    "print ltt.get_dict_key_match(node.attrib,'id')"
   ]
  },
  {
   "cell_type": "code",
   "execution_count": 42,
   "metadata": {
    "collapsed": false
   },
   "outputs": [],
   "source": [
    "# let's also write an un-validated (\"full\") version of the tree\n",
    "gsim_tree = ltt.df_to_tree(gsim_tree_df, validate=False)\n",
    "gsim_tree_xml = gsim_tree_tsv.replace('.tsv','.xml')\n",
    "with open(gsim_tree_xml, 'w+') as f:\n",
    "    nrml.write([gsim_tree], f, fmt='%g')\n",
    "ltt.nrml_to_pdf(gsim_tree_xml, include_ids=include_ids)"
   ]
  },
  {
   "cell_type": "markdown",
   "metadata": {},
   "source": [
    "## Source Model Logic Tree"
   ]
  },
  {
   "cell_type": "code",
   "execution_count": 43,
   "metadata": {
    "collapsed": false
   },
   "outputs": [
    {
     "name": "stdout",
     "output_type": "stream",
     "text": [
      "Too many (11) nodes in logicTree, abbreviating TEX to first & last 5\n"
     ]
    }
   ],
   "source": [
    "ltt.nrml_to_pdf('example_source_model_logic_tree.xml', include_ids=include_ids)"
   ]
  },
  {
   "cell_type": "code",
   "execution_count": 45,
   "metadata": {
    "collapsed": false
   },
   "outputs": [
    {
     "name": "stdout",
     "output_type": "stream",
     "text": [
      "PROCESSING areal_model_logic_tree.tsv\n"
     ]
    },
    {
     "data": {
      "text/html": [
       "<div>\n",
       "<table border=\"1\" class=\"dataframe\">\n",
       "  <thead>\n",
       "    <tr style=\"text-align: right;\">\n",
       "      <th></th>\n",
       "      <th>uncertaintyType</th>\n",
       "      <th>applyToSources</th>\n",
       "      <th>uncertaintyModel</th>\n",
       "      <th>uncertaintyWeight</th>\n",
       "    </tr>\n",
       "  </thead>\n",
       "  <tbody>\n",
       "    <tr>\n",
       "      <th>0</th>\n",
       "      <td>sourceModel</td>\n",
       "      <td>all</td>\n",
       "      <td>[areal_source_model.xml]</td>\n",
       "      <td>[1]</td>\n",
       "    </tr>\n",
       "    <tr>\n",
       "      <th>1</th>\n",
       "      <td>maxMagGRAbsolute</td>\n",
       "      <td>areal_source_model.tsv</td>\n",
       "      <td>[mmax - stdmmax, mmax, mmax + stdmmax]</td>\n",
       "      <td>[0.32, 0.36, 0.32]</td>\n",
       "    </tr>\n",
       "    <tr>\n",
       "      <th>2</th>\n",
       "      <td>bGRRelative</td>\n",
       "      <td>areal_source_model.tsv</td>\n",
       "      <td>[-stdb, 0, +stdb]</td>\n",
       "      <td>[0.32, 0.36, 0.32]</td>\n",
       "    </tr>\n",
       "  </tbody>\n",
       "</table>\n",
       "</div>"
      ],
      "text/plain": [
       "    uncertaintyType          applyToSources  \\\n",
       "0       sourceModel                     all   \n",
       "1  maxMagGRAbsolute  areal_source_model.tsv   \n",
       "2       bGRRelative  areal_source_model.tsv   \n",
       "\n",
       "                         uncertaintyModel   uncertaintyWeight  \n",
       "0                [areal_source_model.xml]                 [1]  \n",
       "1  [mmax - stdmmax, mmax, mmax + stdmmax]  [0.32, 0.36, 0.32]  \n",
       "2                       [-stdb, 0, +stdb]  [0.32, 0.36, 0.32]  "
      ]
     },
     "metadata": {},
     "output_type": "display_data"
    },
    {
     "data": {
      "text/html": [
       "<div>\n",
       "<table border=\"1\" class=\"dataframe\">\n",
       "  <thead>\n",
       "    <tr style=\"text-align: right;\">\n",
       "      <th></th>\n",
       "      <th>applyToSources</th>\n",
       "      <th>uncertaintyModel</th>\n",
       "      <th>uncertaintyType</th>\n",
       "      <th>uncertaintyWeight</th>\n",
       "    </tr>\n",
       "  </thead>\n",
       "  <tbody>\n",
       "    <tr>\n",
       "      <th>0</th>\n",
       "      <td>all</td>\n",
       "      <td>[areal_source_model.xml]</td>\n",
       "      <td>sourceModel</td>\n",
       "      <td>[1]</td>\n",
       "    </tr>\n",
       "    <tr>\n",
       "      <th>1</th>\n",
       "      <td>z1m</td>\n",
       "      <td>[7.6, 8.0, 8.4]</td>\n",
       "      <td>maxMagGRAbsolute</td>\n",
       "      <td>[0.32, 0.36, 0.32]</td>\n",
       "    </tr>\n",
       "    <tr>\n",
       "      <th>2</th>\n",
       "      <td>z2m</td>\n",
       "      <td>[7.6, 8.0, 8.4]</td>\n",
       "      <td>maxMagGRAbsolute</td>\n",
       "      <td>[0.32, 0.36, 0.32]</td>\n",
       "    </tr>\n",
       "    <tr>\n",
       "      <th>3</th>\n",
       "      <td>z3</td>\n",
       "      <td>[7.6, 8.0, 8.4]</td>\n",
       "      <td>maxMagGRAbsolute</td>\n",
       "      <td>[0.32, 0.36, 0.32]</td>\n",
       "    </tr>\n",
       "    <tr>\n",
       "      <th>4</th>\n",
       "      <td>z4</td>\n",
       "      <td>[7.0, 7.4, 7.8]</td>\n",
       "      <td>maxMagGRAbsolute</td>\n",
       "      <td>[0.32, 0.36, 0.32]</td>\n",
       "    </tr>\n",
       "    <tr>\n",
       "      <th>218</th>\n",
       "      <td>z931m</td>\n",
       "      <td>[-0.12, 0.0, 0.12]</td>\n",
       "      <td>bGRRelative</td>\n",
       "      <td>[0.32, 0.36, 0.32]</td>\n",
       "    </tr>\n",
       "    <tr>\n",
       "      <th>219</th>\n",
       "      <td>z932</td>\n",
       "      <td>[-0.1, 0.0, 0.1]</td>\n",
       "      <td>bGRRelative</td>\n",
       "      <td>[0.32, 0.36, 0.32]</td>\n",
       "    </tr>\n",
       "    <tr>\n",
       "      <th>220</th>\n",
       "      <td>z933</td>\n",
       "      <td>[-0.13, 0.0, 0.13]</td>\n",
       "      <td>bGRRelative</td>\n",
       "      <td>[0.32, 0.36, 0.32]</td>\n",
       "    </tr>\n",
       "    <tr>\n",
       "      <th>221</th>\n",
       "      <td>z935</td>\n",
       "      <td>[-0.09, 0.0, 0.09]</td>\n",
       "      <td>bGRRelative</td>\n",
       "      <td>[0.32, 0.36, 0.32]</td>\n",
       "    </tr>\n",
       "    <tr>\n",
       "      <th>222</th>\n",
       "      <td>z936</td>\n",
       "      <td>[-0.11, 0.0, 0.11]</td>\n",
       "      <td>bGRRelative</td>\n",
       "      <td>[0.32, 0.36, 0.32]</td>\n",
       "    </tr>\n",
       "  </tbody>\n",
       "</table>\n",
       "</div>"
      ],
      "text/plain": [
       "    applyToSources          uncertaintyModel   uncertaintyType  \\\n",
       "0              all  [areal_source_model.xml]       sourceModel   \n",
       "1              z1m           [7.6, 8.0, 8.4]  maxMagGRAbsolute   \n",
       "2              z2m           [7.6, 8.0, 8.4]  maxMagGRAbsolute   \n",
       "3               z3           [7.6, 8.0, 8.4]  maxMagGRAbsolute   \n",
       "4               z4           [7.0, 7.4, 7.8]  maxMagGRAbsolute   \n",
       "218          z931m        [-0.12, 0.0, 0.12]       bGRRelative   \n",
       "219           z932          [-0.1, 0.0, 0.1]       bGRRelative   \n",
       "220           z933        [-0.13, 0.0, 0.13]       bGRRelative   \n",
       "221           z935        [-0.09, 0.0, 0.09]       bGRRelative   \n",
       "222           z936        [-0.11, 0.0, 0.11]       bGRRelative   \n",
       "\n",
       "      uncertaintyWeight  \n",
       "0                   [1]  \n",
       "1    [0.32, 0.36, 0.32]  \n",
       "2    [0.32, 0.36, 0.32]  \n",
       "3    [0.32, 0.36, 0.32]  \n",
       "4    [0.32, 0.36, 0.32]  \n",
       "218  [0.32, 0.36, 0.32]  \n",
       "219  [0.32, 0.36, 0.32]  \n",
       "220  [0.32, 0.36, 0.32]  \n",
       "221  [0.32, 0.36, 0.32]  \n",
       "222  [0.32, 0.36, 0.32]  "
      ]
     },
     "metadata": {},
     "output_type": "display_data"
    },
    {
     "name": "stdout",
     "output_type": "stream",
     "text": [
      "Too many (223) nodes in logicTree, abbreviating TEX to first & last 5\n",
      "\n",
      "PROCESSING source_model_logic_tree.tsv\n"
     ]
    },
    {
     "data": {
      "text/html": [
       "<div>\n",
       "<table border=\"1\" class=\"dataframe\">\n",
       "  <thead>\n",
       "    <tr style=\"text-align: right;\">\n",
       "      <th></th>\n",
       "      <th>uncertaintyType</th>\n",
       "      <th>applyToSources</th>\n",
       "      <th>uncertaintyModel</th>\n",
       "      <th>uncertaintyWeight</th>\n",
       "    </tr>\n",
       "  </thead>\n",
       "  <tbody>\n",
       "    <tr>\n",
       "      <th>0</th>\n",
       "      <td>sourceModel</td>\n",
       "      <td>all</td>\n",
       "      <td>[areal_source_model.xml, NT2012_smoothed_sourc...</td>\n",
       "      <td>[0.4, 0.27, 0.33]</td>\n",
       "    </tr>\n",
       "    <tr>\n",
       "      <th>1</th>\n",
       "      <td>maxMagGRAbsolute</td>\n",
       "      <td>areal_source_model.tsv</td>\n",
       "      <td>[mmax - stdmmax, mmax, mmax + stdmmax]</td>\n",
       "      <td>[0.32, 0.36, 0.32]</td>\n",
       "    </tr>\n",
       "    <tr>\n",
       "      <th>2</th>\n",
       "      <td>bGRRelative</td>\n",
       "      <td>areal_source_model.tsv</td>\n",
       "      <td>[-stdb, 0, +stdb]</td>\n",
       "      <td>[0.32, 0.36, 0.32]</td>\n",
       "    </tr>\n",
       "  </tbody>\n",
       "</table>\n",
       "</div>"
      ],
      "text/plain": [
       "    uncertaintyType          applyToSources  \\\n",
       "0       sourceModel                     all   \n",
       "1  maxMagGRAbsolute  areal_source_model.tsv   \n",
       "2       bGRRelative  areal_source_model.tsv   \n",
       "\n",
       "                                    uncertaintyModel   uncertaintyWeight  \n",
       "0  [areal_source_model.xml, NT2012_smoothed_sourc...   [0.4, 0.27, 0.33]  \n",
       "1             [mmax - stdmmax, mmax, mmax + stdmmax]  [0.32, 0.36, 0.32]  \n",
       "2                                  [-stdb, 0, +stdb]  [0.32, 0.36, 0.32]  "
      ]
     },
     "metadata": {},
     "output_type": "display_data"
    },
    {
     "data": {
      "text/html": [
       "<div>\n",
       "<table border=\"1\" class=\"dataframe\">\n",
       "  <thead>\n",
       "    <tr style=\"text-align: right;\">\n",
       "      <th></th>\n",
       "      <th>applyToSources</th>\n",
       "      <th>uncertaintyModel</th>\n",
       "      <th>uncertaintyType</th>\n",
       "      <th>uncertaintyWeight</th>\n",
       "    </tr>\n",
       "  </thead>\n",
       "  <tbody>\n",
       "    <tr>\n",
       "      <th>0</th>\n",
       "      <td>all</td>\n",
       "      <td>[areal_source_model.xml, NT2012_smoothed_sourc...</td>\n",
       "      <td>sourceModel</td>\n",
       "      <td>[0.4, 0.27, 0.33]</td>\n",
       "    </tr>\n",
       "    <tr>\n",
       "      <th>1</th>\n",
       "      <td>z1m</td>\n",
       "      <td>[7.6, 8.0, 8.4]</td>\n",
       "      <td>maxMagGRAbsolute</td>\n",
       "      <td>[0.32, 0.36, 0.32]</td>\n",
       "    </tr>\n",
       "    <tr>\n",
       "      <th>2</th>\n",
       "      <td>z2m</td>\n",
       "      <td>[7.6, 8.0, 8.4]</td>\n",
       "      <td>maxMagGRAbsolute</td>\n",
       "      <td>[0.32, 0.36, 0.32]</td>\n",
       "    </tr>\n",
       "    <tr>\n",
       "      <th>3</th>\n",
       "      <td>z3</td>\n",
       "      <td>[7.6, 8.0, 8.4]</td>\n",
       "      <td>maxMagGRAbsolute</td>\n",
       "      <td>[0.32, 0.36, 0.32]</td>\n",
       "    </tr>\n",
       "    <tr>\n",
       "      <th>4</th>\n",
       "      <td>z4</td>\n",
       "      <td>[7.0, 7.4, 7.8]</td>\n",
       "      <td>maxMagGRAbsolute</td>\n",
       "      <td>[0.32, 0.36, 0.32]</td>\n",
       "    </tr>\n",
       "    <tr>\n",
       "      <th>218</th>\n",
       "      <td>z931m</td>\n",
       "      <td>[-0.12, 0.0, 0.12]</td>\n",
       "      <td>bGRRelative</td>\n",
       "      <td>[0.32, 0.36, 0.32]</td>\n",
       "    </tr>\n",
       "    <tr>\n",
       "      <th>219</th>\n",
       "      <td>z932</td>\n",
       "      <td>[-0.1, 0.0, 0.1]</td>\n",
       "      <td>bGRRelative</td>\n",
       "      <td>[0.32, 0.36, 0.32]</td>\n",
       "    </tr>\n",
       "    <tr>\n",
       "      <th>220</th>\n",
       "      <td>z933</td>\n",
       "      <td>[-0.13, 0.0, 0.13]</td>\n",
       "      <td>bGRRelative</td>\n",
       "      <td>[0.32, 0.36, 0.32]</td>\n",
       "    </tr>\n",
       "    <tr>\n",
       "      <th>221</th>\n",
       "      <td>z935</td>\n",
       "      <td>[-0.09, 0.0, 0.09]</td>\n",
       "      <td>bGRRelative</td>\n",
       "      <td>[0.32, 0.36, 0.32]</td>\n",
       "    </tr>\n",
       "    <tr>\n",
       "      <th>222</th>\n",
       "      <td>z936</td>\n",
       "      <td>[-0.11, 0.0, 0.11]</td>\n",
       "      <td>bGRRelative</td>\n",
       "      <td>[0.32, 0.36, 0.32]</td>\n",
       "    </tr>\n",
       "  </tbody>\n",
       "</table>\n",
       "</div>"
      ],
      "text/plain": [
       "    applyToSources                                   uncertaintyModel  \\\n",
       "0              all  [areal_source_model.xml, NT2012_smoothed_sourc...   \n",
       "1              z1m                                    [7.6, 8.0, 8.4]   \n",
       "2              z2m                                    [7.6, 8.0, 8.4]   \n",
       "3               z3                                    [7.6, 8.0, 8.4]   \n",
       "4               z4                                    [7.0, 7.4, 7.8]   \n",
       "218          z931m                                 [-0.12, 0.0, 0.12]   \n",
       "219           z932                                   [-0.1, 0.0, 0.1]   \n",
       "220           z933                                 [-0.13, 0.0, 0.13]   \n",
       "221           z935                                 [-0.09, 0.0, 0.09]   \n",
       "222           z936                                 [-0.11, 0.0, 0.11]   \n",
       "\n",
       "      uncertaintyType   uncertaintyWeight  \n",
       "0         sourceModel   [0.4, 0.27, 0.33]  \n",
       "1    maxMagGRAbsolute  [0.32, 0.36, 0.32]  \n",
       "2    maxMagGRAbsolute  [0.32, 0.36, 0.32]  \n",
       "3    maxMagGRAbsolute  [0.32, 0.36, 0.32]  \n",
       "4    maxMagGRAbsolute  [0.32, 0.36, 0.32]  \n",
       "218       bGRRelative  [0.32, 0.36, 0.32]  \n",
       "219       bGRRelative  [0.32, 0.36, 0.32]  \n",
       "220       bGRRelative  [0.32, 0.36, 0.32]  \n",
       "221       bGRRelative  [0.32, 0.36, 0.32]  \n",
       "222       bGRRelative  [0.32, 0.36, 0.32]  "
      ]
     },
     "metadata": {},
     "output_type": "display_data"
    },
    {
     "name": "stdout",
     "output_type": "stream",
     "text": [
      "Too many (223) nodes in logicTree, abbreviating TEX to first & last 5\n",
      "\n",
      "PROCESSING recomputed_smoothed_model_logic_tree.tsv\n"
     ]
    },
    {
     "data": {
      "text/html": [
       "<div>\n",
       "<table border=\"1\" class=\"dataframe\">\n",
       "  <thead>\n",
       "    <tr style=\"text-align: right;\">\n",
       "      <th></th>\n",
       "      <th>uncertaintyType</th>\n",
       "      <th>applyToSources</th>\n",
       "      <th>uncertaintyModel</th>\n",
       "      <th>uncertaintyWeight</th>\n",
       "    </tr>\n",
       "  </thead>\n",
       "  <tbody>\n",
       "    <tr>\n",
       "      <th>0</th>\n",
       "      <td>sourceModel</td>\n",
       "      <td>all</td>\n",
       "      <td>[areal_source_model.xml, recomputed_smoothed_s...</td>\n",
       "      <td>[0.4, 0.27, 0.33]</td>\n",
       "    </tr>\n",
       "    <tr>\n",
       "      <th>1</th>\n",
       "      <td>maxMagGRAbsolute</td>\n",
       "      <td>areal_source_model.tsv</td>\n",
       "      <td>[mmax - stdmmax, mmax, mmax + stdmmax]</td>\n",
       "      <td>[0.32, 0.36, 0.32]</td>\n",
       "    </tr>\n",
       "    <tr>\n",
       "      <th>2</th>\n",
       "      <td>bGRRelative</td>\n",
       "      <td>areal_source_model.tsv</td>\n",
       "      <td>[-stdb, 0, +stdb]</td>\n",
       "      <td>[0.32, 0.36, 0.32]</td>\n",
       "    </tr>\n",
       "  </tbody>\n",
       "</table>\n",
       "</div>"
      ],
      "text/plain": [
       "    uncertaintyType          applyToSources  \\\n",
       "0       sourceModel                     all   \n",
       "1  maxMagGRAbsolute  areal_source_model.tsv   \n",
       "2       bGRRelative  areal_source_model.tsv   \n",
       "\n",
       "                                    uncertaintyModel   uncertaintyWeight  \n",
       "0  [areal_source_model.xml, recomputed_smoothed_s...   [0.4, 0.27, 0.33]  \n",
       "1             [mmax - stdmmax, mmax, mmax + stdmmax]  [0.32, 0.36, 0.32]  \n",
       "2                                  [-stdb, 0, +stdb]  [0.32, 0.36, 0.32]  "
      ]
     },
     "metadata": {},
     "output_type": "display_data"
    },
    {
     "data": {
      "text/html": [
       "<div>\n",
       "<table border=\"1\" class=\"dataframe\">\n",
       "  <thead>\n",
       "    <tr style=\"text-align: right;\">\n",
       "      <th></th>\n",
       "      <th>applyToSources</th>\n",
       "      <th>uncertaintyModel</th>\n",
       "      <th>uncertaintyType</th>\n",
       "      <th>uncertaintyWeight</th>\n",
       "    </tr>\n",
       "  </thead>\n",
       "  <tbody>\n",
       "    <tr>\n",
       "      <th>0</th>\n",
       "      <td>all</td>\n",
       "      <td>[areal_source_model.xml, recomputed_smoothed_s...</td>\n",
       "      <td>sourceModel</td>\n",
       "      <td>[0.4, 0.27, 0.33]</td>\n",
       "    </tr>\n",
       "    <tr>\n",
       "      <th>1</th>\n",
       "      <td>z1m</td>\n",
       "      <td>[7.6, 8.0, 8.4]</td>\n",
       "      <td>maxMagGRAbsolute</td>\n",
       "      <td>[0.32, 0.36, 0.32]</td>\n",
       "    </tr>\n",
       "    <tr>\n",
       "      <th>2</th>\n",
       "      <td>z2m</td>\n",
       "      <td>[7.6, 8.0, 8.4]</td>\n",
       "      <td>maxMagGRAbsolute</td>\n",
       "      <td>[0.32, 0.36, 0.32]</td>\n",
       "    </tr>\n",
       "    <tr>\n",
       "      <th>3</th>\n",
       "      <td>z3</td>\n",
       "      <td>[7.6, 8.0, 8.4]</td>\n",
       "      <td>maxMagGRAbsolute</td>\n",
       "      <td>[0.32, 0.36, 0.32]</td>\n",
       "    </tr>\n",
       "    <tr>\n",
       "      <th>4</th>\n",
       "      <td>z4</td>\n",
       "      <td>[7.0, 7.4, 7.8]</td>\n",
       "      <td>maxMagGRAbsolute</td>\n",
       "      <td>[0.32, 0.36, 0.32]</td>\n",
       "    </tr>\n",
       "    <tr>\n",
       "      <th>218</th>\n",
       "      <td>z931m</td>\n",
       "      <td>[-0.12, 0.0, 0.12]</td>\n",
       "      <td>bGRRelative</td>\n",
       "      <td>[0.32, 0.36, 0.32]</td>\n",
       "    </tr>\n",
       "    <tr>\n",
       "      <th>219</th>\n",
       "      <td>z932</td>\n",
       "      <td>[-0.1, 0.0, 0.1]</td>\n",
       "      <td>bGRRelative</td>\n",
       "      <td>[0.32, 0.36, 0.32]</td>\n",
       "    </tr>\n",
       "    <tr>\n",
       "      <th>220</th>\n",
       "      <td>z933</td>\n",
       "      <td>[-0.13, 0.0, 0.13]</td>\n",
       "      <td>bGRRelative</td>\n",
       "      <td>[0.32, 0.36, 0.32]</td>\n",
       "    </tr>\n",
       "    <tr>\n",
       "      <th>221</th>\n",
       "      <td>z935</td>\n",
       "      <td>[-0.09, 0.0, 0.09]</td>\n",
       "      <td>bGRRelative</td>\n",
       "      <td>[0.32, 0.36, 0.32]</td>\n",
       "    </tr>\n",
       "    <tr>\n",
       "      <th>222</th>\n",
       "      <td>z936</td>\n",
       "      <td>[-0.11, 0.0, 0.11]</td>\n",
       "      <td>bGRRelative</td>\n",
       "      <td>[0.32, 0.36, 0.32]</td>\n",
       "    </tr>\n",
       "  </tbody>\n",
       "</table>\n",
       "</div>"
      ],
      "text/plain": [
       "    applyToSources                                   uncertaintyModel  \\\n",
       "0              all  [areal_source_model.xml, recomputed_smoothed_s...   \n",
       "1              z1m                                    [7.6, 8.0, 8.4]   \n",
       "2              z2m                                    [7.6, 8.0, 8.4]   \n",
       "3               z3                                    [7.6, 8.0, 8.4]   \n",
       "4               z4                                    [7.0, 7.4, 7.8]   \n",
       "218          z931m                                 [-0.12, 0.0, 0.12]   \n",
       "219           z932                                   [-0.1, 0.0, 0.1]   \n",
       "220           z933                                 [-0.13, 0.0, 0.13]   \n",
       "221           z935                                 [-0.09, 0.0, 0.09]   \n",
       "222           z936                                 [-0.11, 0.0, 0.11]   \n",
       "\n",
       "      uncertaintyType   uncertaintyWeight  \n",
       "0         sourceModel   [0.4, 0.27, 0.33]  \n",
       "1    maxMagGRAbsolute  [0.32, 0.36, 0.32]  \n",
       "2    maxMagGRAbsolute  [0.32, 0.36, 0.32]  \n",
       "3    maxMagGRAbsolute  [0.32, 0.36, 0.32]  \n",
       "4    maxMagGRAbsolute  [0.32, 0.36, 0.32]  \n",
       "218       bGRRelative  [0.32, 0.36, 0.32]  \n",
       "219       bGRRelative  [0.32, 0.36, 0.32]  \n",
       "220       bGRRelative  [0.32, 0.36, 0.32]  \n",
       "221       bGRRelative  [0.32, 0.36, 0.32]  \n",
       "222       bGRRelative  [0.32, 0.36, 0.32]  "
      ]
     },
     "metadata": {},
     "output_type": "display_data"
    },
    {
     "name": "stdout",
     "output_type": "stream",
     "text": [
      "Too many (223) nodes in logicTree, abbreviating TEX to first & last 5\n",
      "\n",
      "PROCESSING smoothed_model_logic_tree.tsv\n"
     ]
    },
    {
     "data": {
      "text/html": [
       "<div>\n",
       "<table border=\"1\" class=\"dataframe\">\n",
       "  <thead>\n",
       "    <tr style=\"text-align: right;\">\n",
       "      <th></th>\n",
       "      <th>uncertaintyType</th>\n",
       "      <th>applyToSources</th>\n",
       "      <th>uncertaintyModel</th>\n",
       "      <th>uncertaintyWeight</th>\n",
       "    </tr>\n",
       "  </thead>\n",
       "  <tbody>\n",
       "    <tr>\n",
       "      <th>0</th>\n",
       "      <td>sourceModel</td>\n",
       "      <td>all</td>\n",
       "      <td>[NT2012_smoothed_sources_mmin4.5.xml, NT2012_s...</td>\n",
       "      <td>[0.45, 0.55]</td>\n",
       "    </tr>\n",
       "  </tbody>\n",
       "</table>\n",
       "</div>"
      ],
      "text/plain": [
       "  uncertaintyType applyToSources  \\\n",
       "0     sourceModel            all   \n",
       "\n",
       "                                    uncertaintyModel uncertaintyWeight  \n",
       "0  [NT2012_smoothed_sources_mmin4.5.xml, NT2012_s...      [0.45, 0.55]  "
      ]
     },
     "metadata": {},
     "output_type": "display_data"
    },
    {
     "data": {
      "text/html": [
       "<div>\n",
       "<table border=\"1\" class=\"dataframe\">\n",
       "  <thead>\n",
       "    <tr style=\"text-align: right;\">\n",
       "      <th></th>\n",
       "      <th>applyToSources</th>\n",
       "      <th>uncertaintyModel</th>\n",
       "      <th>uncertaintyType</th>\n",
       "      <th>uncertaintyWeight</th>\n",
       "    </tr>\n",
       "  </thead>\n",
       "  <tbody>\n",
       "    <tr>\n",
       "      <th>0</th>\n",
       "      <td>all</td>\n",
       "      <td>[NT2012_smoothed_sources_mmin4.5.xml, NT2012_s...</td>\n",
       "      <td>sourceModel</td>\n",
       "      <td>[0.45, 0.55]</td>\n",
       "    </tr>\n",
       "    <tr>\n",
       "      <th>0</th>\n",
       "      <td>all</td>\n",
       "      <td>[NT2012_smoothed_sources_mmin4.5.xml, NT2012_s...</td>\n",
       "      <td>sourceModel</td>\n",
       "      <td>[0.45, 0.55]</td>\n",
       "    </tr>\n",
       "  </tbody>\n",
       "</table>\n",
       "</div>"
      ],
      "text/plain": [
       "  applyToSources                                   uncertaintyModel  \\\n",
       "0            all  [NT2012_smoothed_sources_mmin4.5.xml, NT2012_s...   \n",
       "0            all  [NT2012_smoothed_sources_mmin4.5.xml, NT2012_s...   \n",
       "\n",
       "  uncertaintyType uncertaintyWeight  \n",
       "0     sourceModel      [0.45, 0.55]  \n",
       "0     sourceModel      [0.45, 0.55]  "
      ]
     },
     "metadata": {},
     "output_type": "display_data"
    },
    {
     "name": "stdout",
     "output_type": "stream",
     "text": [
      "\n",
      "PROCESSING no_fmd_uncertainty.tsv\n"
     ]
    },
    {
     "data": {
      "text/html": [
       "<div>\n",
       "<table border=\"1\" class=\"dataframe\">\n",
       "  <thead>\n",
       "    <tr style=\"text-align: right;\">\n",
       "      <th></th>\n",
       "      <th>uncertaintyType</th>\n",
       "      <th>applyToSources</th>\n",
       "      <th>uncertaintyModel</th>\n",
       "      <th>uncertaintyWeight</th>\n",
       "    </tr>\n",
       "  </thead>\n",
       "  <tbody>\n",
       "    <tr>\n",
       "      <th>0</th>\n",
       "      <td>sourceModel</td>\n",
       "      <td>all</td>\n",
       "      <td>[areal_source_model.xml, NT2012_smoothed_sourc...</td>\n",
       "      <td>[0.4, 0.27, 0.33]</td>\n",
       "    </tr>\n",
       "  </tbody>\n",
       "</table>\n",
       "</div>"
      ],
      "text/plain": [
       "  uncertaintyType applyToSources  \\\n",
       "0     sourceModel            all   \n",
       "\n",
       "                                    uncertaintyModel  uncertaintyWeight  \n",
       "0  [areal_source_model.xml, NT2012_smoothed_sourc...  [0.4, 0.27, 0.33]  "
      ]
     },
     "metadata": {},
     "output_type": "display_data"
    },
    {
     "data": {
      "text/html": [
       "<div>\n",
       "<table border=\"1\" class=\"dataframe\">\n",
       "  <thead>\n",
       "    <tr style=\"text-align: right;\">\n",
       "      <th></th>\n",
       "      <th>applyToSources</th>\n",
       "      <th>uncertaintyModel</th>\n",
       "      <th>uncertaintyType</th>\n",
       "      <th>uncertaintyWeight</th>\n",
       "    </tr>\n",
       "  </thead>\n",
       "  <tbody>\n",
       "    <tr>\n",
       "      <th>0</th>\n",
       "      <td>all</td>\n",
       "      <td>[areal_source_model.xml, NT2012_smoothed_sourc...</td>\n",
       "      <td>sourceModel</td>\n",
       "      <td>[0.4, 0.27, 0.33]</td>\n",
       "    </tr>\n",
       "    <tr>\n",
       "      <th>0</th>\n",
       "      <td>all</td>\n",
       "      <td>[areal_source_model.xml, NT2012_smoothed_sourc...</td>\n",
       "      <td>sourceModel</td>\n",
       "      <td>[0.4, 0.27, 0.33]</td>\n",
       "    </tr>\n",
       "  </tbody>\n",
       "</table>\n",
       "</div>"
      ],
      "text/plain": [
       "  applyToSources                                   uncertaintyModel  \\\n",
       "0            all  [areal_source_model.xml, NT2012_smoothed_sourc...   \n",
       "0            all  [areal_source_model.xml, NT2012_smoothed_sourc...   \n",
       "\n",
       "  uncertaintyType  uncertaintyWeight  \n",
       "0     sourceModel  [0.4, 0.27, 0.33]  \n",
       "0     sourceModel  [0.4, 0.27, 0.33]  "
      ]
     },
     "metadata": {},
     "output_type": "display_data"
    },
    {
     "name": "stdout",
     "output_type": "stream",
     "text": [
      "\n",
      "PROCESSING collapsed.tsv\n"
     ]
    },
    {
     "data": {
      "text/html": [
       "<div>\n",
       "<table border=\"1\" class=\"dataframe\">\n",
       "  <thead>\n",
       "    <tr style=\"text-align: right;\">\n",
       "      <th></th>\n",
       "      <th>uncertaintyType</th>\n",
       "      <th>applyToSources</th>\n",
       "      <th>uncertaintyModel</th>\n",
       "      <th>uncertaintyWeight</th>\n",
       "    </tr>\n",
       "  </thead>\n",
       "  <tbody>\n",
       "    <tr>\n",
       "      <th>0</th>\n",
       "      <td>sourceModel</td>\n",
       "      <td>all</td>\n",
       "      <td>[areal_collapsed.xml, NT2012_smoothed_collapse...</td>\n",
       "      <td>[0.4, 0.27, 0.33]</td>\n",
       "    </tr>\n",
       "  </tbody>\n",
       "</table>\n",
       "</div>"
      ],
      "text/plain": [
       "  uncertaintyType applyToSources  \\\n",
       "0     sourceModel            all   \n",
       "\n",
       "                                    uncertaintyModel  uncertaintyWeight  \n",
       "0  [areal_collapsed.xml, NT2012_smoothed_collapse...  [0.4, 0.27, 0.33]  "
      ]
     },
     "metadata": {},
     "output_type": "display_data"
    },
    {
     "data": {
      "text/html": [
       "<div>\n",
       "<table border=\"1\" class=\"dataframe\">\n",
       "  <thead>\n",
       "    <tr style=\"text-align: right;\">\n",
       "      <th></th>\n",
       "      <th>applyToSources</th>\n",
       "      <th>uncertaintyModel</th>\n",
       "      <th>uncertaintyType</th>\n",
       "      <th>uncertaintyWeight</th>\n",
       "    </tr>\n",
       "  </thead>\n",
       "  <tbody>\n",
       "    <tr>\n",
       "      <th>0</th>\n",
       "      <td>all</td>\n",
       "      <td>[areal_collapsed.xml, NT2012_smoothed_collapse...</td>\n",
       "      <td>sourceModel</td>\n",
       "      <td>[0.4, 0.27, 0.33]</td>\n",
       "    </tr>\n",
       "    <tr>\n",
       "      <th>0</th>\n",
       "      <td>all</td>\n",
       "      <td>[areal_collapsed.xml, NT2012_smoothed_collapse...</td>\n",
       "      <td>sourceModel</td>\n",
       "      <td>[0.4, 0.27, 0.33]</td>\n",
       "    </tr>\n",
       "  </tbody>\n",
       "</table>\n",
       "</div>"
      ],
      "text/plain": [
       "  applyToSources                                   uncertaintyModel  \\\n",
       "0            all  [areal_collapsed.xml, NT2012_smoothed_collapse...   \n",
       "0            all  [areal_collapsed.xml, NT2012_smoothed_collapse...   \n",
       "\n",
       "  uncertaintyType  uncertaintyWeight  \n",
       "0     sourceModel  [0.4, 0.27, 0.33]  \n",
       "0     sourceModel  [0.4, 0.27, 0.33]  "
      ]
     },
     "metadata": {},
     "output_type": "display_data"
    },
    {
     "name": "stdout",
     "output_type": "stream",
     "text": [
      "\n"
     ]
    }
   ],
   "source": [
    "source_tree_tsv_list = [\n",
    "    'areal_model_logic_tree.tsv', \n",
    "    'source_model_logic_tree.tsv', \n",
    "    'recomputed_smoothed_model_logic_tree.tsv', \n",
    "    'smoothed_model_logic_tree.tsv',\n",
    "    'no_fmd_uncertainty.tsv',\n",
    "    'collapsed.tsv',\n",
    "]\n",
    "for source_tree_tsv in source_tree_tsv_list:\n",
    "    print \"PROCESSING\", source_tree_tsv\n",
    "    source_tree_symbolic_df = ltt.read_tree_tsv(source_tree_tsv)\n",
    "    display(source_tree_symbolic_df)\n",
    "    \n",
    "    source_tree_symbolic = ltt.df_to_tree(source_tree_symbolic_df, validate=True)\n",
    "    source_tree_symbolic_xml = source_tree_tsv.replace('.tsv','_symbolic.xml')\n",
    "    with open(source_tree_symbolic_xml, 'w+') as f:\n",
    "        nrml.write([source_tree_symbolic], f, fmt='%g')\n",
    "    ltt.nrml_to_pdf(source_tree_symbolic_xml, include_ids=include_ids)\n",
    "        \n",
    "    source_tree_df = ltt.expand_sources(source_tree_symbolic_df)\n",
    "    display(pd.concat((source_tree_df.head(), source_tree_df.tail())))\n",
    "    source_tree = ltt.df_to_tree(source_tree_df, validate=False)\n",
    "    source_tree_xml = source_tree_tsv.replace('.tsv','.xml')\n",
    "    with open(source_tree_xml, 'w+') as f:\n",
    "        nrml.write([source_tree], f, fmt='%g')\n",
    "    ltt.nrml_to_pdf(source_tree_xml, include_ids=include_ids)\n",
    "    print"
   ]
  },
  {
   "cell_type": "code",
   "execution_count": null,
   "metadata": {
    "collapsed": false
   },
   "outputs": [],
   "source": [
    "node = source_tree_symbolic[0][0]\n",
    "print node\n",
    "print '%s = %dx %s' %(ltt.strip_fqtag(node.tag), len(node), \n",
    "                      ltt.strip_fqtag(node[0].tag))\n",
    "print ltt.get_dict_key_match(node.attrib,'id')\n",
    "print node[0].uncertaintyModel"
   ]
  },
  {
   "cell_type": "code",
   "execution_count": null,
   "metadata": {
    "collapsed": false
   },
   "outputs": [],
   "source": [
    "node = source_tree[0][0]\n",
    "print node\n",
    "print '%s = %dx %s' %(ltt.strip_fqtag(node.tag), len(node), \n",
    "                      ltt.strip_fqtag(node[0].tag))\n",
    "print ltt.get_dict_key_match(node.attrib,'id')\n",
    "model = node[0].uncertaintyModel\n",
    "print model"
   ]
  },
  {
   "cell_type": "code",
   "execution_count": null,
   "metadata": {
    "collapsed": true
   },
   "outputs": [],
   "source": []
  }
 ],
 "metadata": {
  "kernelspec": {
   "display_name": "Python 2",
   "language": "python",
   "name": "python2"
  },
  "language_info": {
   "codemirror_mode": {
    "name": "ipython",
    "version": 2
   },
   "file_extension": ".py",
   "mimetype": "text/x-python",
   "name": "python",
   "nbconvert_exporter": "python",
   "pygments_lexer": "ipython2",
   "version": "2.7.11"
  }
 },
 "nbformat": 4,
 "nbformat_minor": 0
}
