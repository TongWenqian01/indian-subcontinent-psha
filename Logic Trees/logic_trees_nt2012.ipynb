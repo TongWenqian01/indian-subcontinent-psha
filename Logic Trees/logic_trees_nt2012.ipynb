{
 "cells": [
  {
   "cell_type": "markdown",
   "metadata": {},
   "source": [
    "# Logic trees for Nath & Thingbaijam (2012)\n",
    "\n",
    "Read logic tree tables extracted from publication, along with a table of supplementary information write them to TEX and XML. Note that the logic trees require information from the source models, so if changes are made there then this must be rerun too.\n",
    "\n",
    "Note: For imports to work, ../utilities directory must be added to PYTHONPATH"
   ]
  },
  {
   "cell_type": "code",
   "execution_count": 1,
   "metadata": {},
   "outputs": [],
   "source": [
    "%load_ext autoreload\n",
    "%autoreload 2"
   ]
  },
  {
   "cell_type": "code",
   "execution_count": 2,
   "metadata": {},
   "outputs": [],
   "source": [
    "import os\n",
    "import sys\n",
    "from IPython.display import display\n",
    "\n",
    "import pandas as pd\n",
    "\n",
    "from openquake.hazardlib import nrml\n",
    "\n",
    "import logic_tree_tools as ltt"
   ]
  },
  {
   "cell_type": "code",
   "execution_count": 4,
   "metadata": {},
   "outputs": [],
   "source": [
    "# flag determines whether branch IDs are included in PDF drawings of logic trees\n",
    "include_ids=False"
   ]
  },
  {
   "cell_type": "code",
   "execution_count": null,
   "metadata": {},
   "outputs": [],
   "source": []
  },
  {
   "cell_type": "markdown",
   "metadata": {},
   "source": [
    "## GMPE Logic Tree"
   ]
  },
  {
   "cell_type": "code",
   "execution_count": 5,
   "metadata": {},
   "outputs": [
    {
     "ename": "FileNotFoundError",
     "evalue": "[Errno 2] No such file or directory: 'example_gmpe_logic_tree.xml'",
     "output_type": "error",
     "traceback": [
      "\u001b[0;31m---------------------------------------------------------------------------\u001b[0m",
      "\u001b[0;31mFileNotFoundError\u001b[0m                         Traceback (most recent call last)",
      "\u001b[0;32m<ipython-input-5-bbaa5086e72a>\u001b[0m in \u001b[0;36m<module>\u001b[0;34m()\u001b[0m\n\u001b[0;32m----> 1\u001b[0;31m \u001b[0mltt\u001b[0m\u001b[0;34m.\u001b[0m\u001b[0mnrml_to_pdf\u001b[0m\u001b[0;34m(\u001b[0m\u001b[0;34m'example_gmpe_logic_tree.xml'\u001b[0m\u001b[0;34m,\u001b[0m \u001b[0minclude_ids\u001b[0m\u001b[0;34m=\u001b[0m\u001b[0minclude_ids\u001b[0m\u001b[0;34m)\u001b[0m\u001b[0;34m\u001b[0m\u001b[0m\n\u001b[0m",
      "\u001b[0;32m~/Desktop/indian-subcontinent-psha/utilities/logic_tree_tools.py\u001b[0m in \u001b[0;36mnrml_to_pdf\u001b[0;34m(file_nrml, include_ids, verbose)\u001b[0m\n\u001b[1;32m    726\u001b[0m     \u001b[0;32mif\u001b[0m \u001b[0mverbose\u001b[0m\u001b[0;34m:\u001b[0m\u001b[0;34m\u001b[0m\u001b[0m\n\u001b[1;32m    727\u001b[0m         \u001b[0mprint\u001b[0m\u001b[0;34m(\u001b[0m\u001b[0;34m'Reading %s'\u001b[0m \u001b[0;34m%\u001b[0m \u001b[0mfile_nrml\u001b[0m\u001b[0;34m)\u001b[0m\u001b[0;34m\u001b[0m\u001b[0m\n\u001b[0;32m--> 728\u001b[0;31m     \u001b[0mroot\u001b[0m \u001b[0;34m=\u001b[0m \u001b[0mnrml\u001b[0m\u001b[0;34m.\u001b[0m\u001b[0mread\u001b[0m\u001b[0;34m(\u001b[0m\u001b[0mfile_nrml\u001b[0m\u001b[0;34m)\u001b[0m\u001b[0;34m\u001b[0m\u001b[0m\n\u001b[0m\u001b[1;32m    729\u001b[0m \u001b[0;34m\u001b[0m\u001b[0m\n\u001b[1;32m    730\u001b[0m     \u001b[0mfile_tex\u001b[0m \u001b[0;34m=\u001b[0m \u001b[0mfile_nrml\u001b[0m\u001b[0;34m.\u001b[0m\u001b[0mreplace\u001b[0m\u001b[0;34m(\u001b[0m\u001b[0;34m'.xml'\u001b[0m\u001b[0;34m,\u001b[0m \u001b[0;34m''\u001b[0m\u001b[0;34m)\u001b[0m \u001b[0;34m+\u001b[0m \u001b[0;34m'.tex'\u001b[0m\u001b[0;34m\u001b[0m\u001b[0m\n",
      "\u001b[0;32m~/src/python/GEM/oq-engine/openquake/hazardlib/nrml.py\u001b[0m in \u001b[0;36mread\u001b[0;34m(source, chatty, stop)\u001b[0m\n\u001b[1;32m    337\u001b[0m     \"\"\"\n\u001b[1;32m    338\u001b[0m     \u001b[0mvparser\u001b[0m \u001b[0;34m=\u001b[0m \u001b[0mValidatingXmlParser\u001b[0m\u001b[0;34m(\u001b[0m\u001b[0mvalidators\u001b[0m\u001b[0;34m,\u001b[0m \u001b[0mstop\u001b[0m\u001b[0;34m)\u001b[0m\u001b[0;34m\u001b[0m\u001b[0m\n\u001b[0;32m--> 339\u001b[0;31m     \u001b[0mnrml\u001b[0m \u001b[0;34m=\u001b[0m \u001b[0mvparser\u001b[0m\u001b[0;34m.\u001b[0m\u001b[0mparse_file\u001b[0m\u001b[0;34m(\u001b[0m\u001b[0msource\u001b[0m\u001b[0;34m)\u001b[0m\u001b[0;34m\u001b[0m\u001b[0m\n\u001b[0m\u001b[1;32m    340\u001b[0m     \u001b[0;32mif\u001b[0m \u001b[0mstriptag\u001b[0m\u001b[0;34m(\u001b[0m\u001b[0mnrml\u001b[0m\u001b[0;34m.\u001b[0m\u001b[0mtag\u001b[0m\u001b[0;34m)\u001b[0m \u001b[0;34m!=\u001b[0m \u001b[0;34m'nrml'\u001b[0m\u001b[0;34m:\u001b[0m\u001b[0;34m\u001b[0m\u001b[0m\n\u001b[1;32m    341\u001b[0m         raise ValueError('%s: expected a node of kind nrml, got %s' %\n",
      "\u001b[0;32m~/src/python/GEM/oq-engine/openquake/baselib/node.py\u001b[0m in \u001b[0;36mparse_file\u001b[0;34m(self, file_or_fname)\u001b[0m\n\u001b[1;32m    832\u001b[0m             \u001b[0;32melse\u001b[0m\u001b[0;34m:\u001b[0m\u001b[0;34m\u001b[0m\u001b[0m\n\u001b[1;32m    833\u001b[0m                 \u001b[0mself\u001b[0m\u001b[0;34m.\u001b[0m\u001b[0mfilename\u001b[0m \u001b[0;34m=\u001b[0m \u001b[0mfile_or_fname\u001b[0m\u001b[0;34m\u001b[0m\u001b[0m\n\u001b[0;32m--> 834\u001b[0;31m                 \u001b[0;32mwith\u001b[0m \u001b[0mopen\u001b[0m\u001b[0;34m(\u001b[0m\u001b[0mfile_or_fname\u001b[0m\u001b[0;34m,\u001b[0m \u001b[0;34m'rb'\u001b[0m\u001b[0;34m)\u001b[0m \u001b[0;32mas\u001b[0m \u001b[0mf\u001b[0m\u001b[0;34m:\u001b[0m\u001b[0;34m\u001b[0m\u001b[0m\n\u001b[0m\u001b[1;32m    835\u001b[0m                     \u001b[0mself\u001b[0m\u001b[0;34m.\u001b[0m\u001b[0mp\u001b[0m\u001b[0;34m.\u001b[0m\u001b[0mParseFile\u001b[0m\u001b[0;34m(\u001b[0m\u001b[0mf\u001b[0m\u001b[0;34m)\u001b[0m\u001b[0;34m\u001b[0m\u001b[0m\n\u001b[1;32m    836\u001b[0m         \u001b[0;32mreturn\u001b[0m \u001b[0mself\u001b[0m\u001b[0;34m.\u001b[0m\u001b[0m_root\u001b[0m\u001b[0;34m\u001b[0m\u001b[0m\n",
      "\u001b[0;31mFileNotFoundError\u001b[0m: [Errno 2] No such file or directory: 'example_gmpe_logic_tree.xml'"
     ]
    }
   ],
   "source": [
    "ltt.nrml_to_pdf('example_gmpe_logic_tree.xml', include_ids=include_ids)"
   ]
  },
  {
   "cell_type": "code",
   "execution_count": null,
   "metadata": {},
   "outputs": [],
   "source": [
    "gsim_tree_tsv = 'gmpe_logic_tree.tsv'\n",
    "gsim_tree_df = ltt.read_tree_tsv(gsim_tree_tsv)\n",
    "gsim_tree_df.drop(['Tectonic Region Type', 'Qualifier', 'Short Names'], axis=1)"
   ]
  },
  {
   "cell_type": "code",
   "execution_count": null,
   "metadata": {},
   "outputs": [],
   "source": [
    "gsim_tree_deprecated_xml = gsim_tree_tsv.replace('.tsv', '_deprecated.xml')\n",
    "ltt.write_gsim_tree_nrml(gsim_tree_df, gsim_tree_deprecated_xml, validate=True)\n",
    "gsim_tree_deprecated = nrml.read(gsim_tree_deprecated_xml)"
   ]
  },
  {
   "cell_type": "code",
   "execution_count": null,
   "metadata": {},
   "outputs": [],
   "source": [
    "new_models = [\n",
    "    'SharmaEtAl2009',\n",
    "    'Kanno2006Shallow', \n",
    "    'Kanno2006Deep',\n",
    "    'NathEtAl2012Lower', \n",
    "    'NathEtAl2012Upper',\n",
    "    'RaghukanthIyengar2007',\n",
    "    'Gupta2010SSlab',\n",
    "    'AtkinsonBoore2003SSlabJapan',\n",
    "    'AtkinsonBoore2003SSlabCascadia']\n",
    "gsim_tree_omit_new = ltt.df_to_tree(gsim_tree_df, omit=new_models, validate=True)\n",
    "gsim_tree_omit_new_xml = gsim_tree_tsv.replace('.tsv', '_omit_new.xml')\n",
    "with open(gsim_tree_omit_new_xml, 'wb+') as file:\n",
    "    nrml.write([gsim_tree_omit_new], output=file, fmt='%g')\n",
    "ltt.nrml_to_pdf(gsim_tree_omit_new_xml, include_ids=include_ids)"
   ]
  },
  {
   "cell_type": "code",
   "execution_count": null,
   "metadata": {},
   "outputs": [],
   "source": [
    "gsim_tree_read = nrml.read(gsim_tree_omit_new_xml)"
   ]
  },
  {
   "cell_type": "code",
   "execution_count": null,
   "metadata": {},
   "outputs": [],
   "source": [
    "# it used to be that you didn't get the same thing reading and writing\n",
    "print(gsim_tree_omit_new\n",
    "      .logicTreeBranchingLevel\n",
    "      .logicTreeBranchSet\n",
    "      .logicTreeBranch\n",
    "      .uncertaintyModel\n",
    "      .text)\n",
    "print(gsim_tree_read\n",
    "      .logicTree\n",
    "      .logicTreeBranchingLevel\n",
    "      .logicTreeBranchSet\n",
    "      .logicTreeBranch.uncertaintyModel\n",
    "      .text.strip())\n",
    "print(gsim_tree_deprecated\n",
    "      .logicTree\n",
    "      .logicTreeBranchingLevel\n",
    "      .logicTreeBranchSet\n",
    "      .logicTreeBranch\n",
    "      .uncertaintyModel\n",
    "      .text.strip())"
   ]
  },
  {
   "cell_type": "code",
   "execution_count": null,
   "metadata": {},
   "outputs": [],
   "source": [
    "node = gsim_tree_omit_new[0][0]\n",
    "print(node)\n",
    "print('%s = %dx %s' % (ltt.strip_fqtag(node.tag), len(node),\n",
    "                       ltt.strip_fqtag(node[0].tag)))\n",
    "print(ltt.get_dict_key_match(node.attrib, 'id'))"
   ]
  },
  {
   "cell_type": "code",
   "execution_count": null,
   "metadata": {},
   "outputs": [],
   "source": [
    "# let's also write an \"full\" version of the tree\n",
    "gsim_tree = ltt.df_to_tree(gsim_tree_df, validate=False)\n",
    "gsim_tree_xml = gsim_tree_tsv.replace('.tsv','.xml')\n",
    "with open(gsim_tree_xml, 'wb+') as f:\n",
    "    nrml.write([gsim_tree], f, fmt='%g')\n",
    "ltt.nrml_to_pdf(gsim_tree_xml, include_ids=include_ids)"
   ]
  },
  {
   "cell_type": "markdown",
   "metadata": {},
   "source": [
    "## Source Model Logic Tree"
   ]
  },
  {
   "cell_type": "code",
   "execution_count": null,
   "metadata": {},
   "outputs": [],
   "source": [
    "ltt.nrml_to_pdf('example_source_model_logic_tree.xml', include_ids=include_ids)"
   ]
  },
  {
   "cell_type": "code",
   "execution_count": null,
   "metadata": {
    "scrolled": false
   },
   "outputs": [],
   "source": [
    "source_tree_tsv_list = [\n",
    "    'areal_model_logic_tree.tsv', \n",
    "    'source_model_logic_tree.tsv', \n",
    "    'smoothed_model_logic_tree.tsv',\n",
    "    'no_fmd_uncertainty.tsv',\n",
    "    'collapsed.tsv',\n",
    "]\n",
    "for source_tree_tsv in source_tree_tsv_list:\n",
    "    print(\"PROCESSING: \" + source_tree_tsv)\n",
    "    source_tree_symbolic_df = ltt.read_tree_tsv(source_tree_tsv)\n",
    "    display(source_tree_symbolic_df)\n",
    "    \n",
    "    source_tree_symbolic = ltt.df_to_tree(source_tree_symbolic_df, validate=True)\n",
    "    source_tree_symbolic_xml = source_tree_tsv.replace('.tsv','_symbolic.xml')\n",
    "    with open(source_tree_symbolic_xml, 'wb+') as f:\n",
    "        nrml.write([source_tree_symbolic], f, fmt='%g')\n",
    "    ltt.nrml_to_pdf(source_tree_symbolic_xml, include_ids=include_ids)\n",
    "        \n",
    "    source_tree_df = ltt.expand_sources(source_tree_symbolic_df)\n",
    "    display(pd.concat((source_tree_df.head(), source_tree_df.tail())))\n",
    "    source_tree = ltt.df_to_tree(source_tree_df, validate=False)\n",
    "    source_tree_xml = source_tree_tsv.replace('.tsv','.xml')\n",
    "    with open(source_tree_xml, 'wb+') as f:\n",
    "        nrml.write([source_tree], f, fmt='%g')\n",
    "    ltt.nrml_to_pdf(source_tree_xml, include_ids=include_ids)\n",
    "    print('')\n"
   ]
  },
  {
   "cell_type": "code",
   "execution_count": null,
   "metadata": {},
   "outputs": [],
   "source": [
    "node = source_tree_symbolic[0][0]\n",
    "print(node)\n",
    "print('%s = %dx %s' % (ltt.strip_fqtag(node.tag), len(node),\n",
    "                       ltt.strip_fqtag(node[0].tag)))\n",
    "print(ltt.get_dict_key_match(node.attrib, 'id'))\n",
    "print(node[0].uncertaintyModel)"
   ]
  },
  {
   "cell_type": "code",
   "execution_count": null,
   "metadata": {},
   "outputs": [],
   "source": [
    "node = source_tree[0][0]\n",
    "print(node)\n",
    "print('%s = %dx %s' % (ltt.strip_fqtag(node.tag), len(node),\n",
    "                       ltt.strip_fqtag(node[0].tag)))\n",
    "print(ltt.get_dict_key_match(node.attrib, 'id'))\n",
    "model = node[0].uncertaintyModel\n",
    "print(model)"
   ]
  }
 ],
 "metadata": {
  "kernelspec": {
   "display_name": "oq",
   "language": "python",
   "name": "oq"
  },
  "language_info": {
   "codemirror_mode": {
    "name": "ipython",
    "version": 3
   },
   "file_extension": ".py",
   "mimetype": "text/x-python",
   "name": "python",
   "nbconvert_exporter": "python",
   "pygments_lexer": "ipython3",
   "version": "3.5.4"
  }
 },
 "nbformat": 4,
 "nbformat_minor": 1
}
