{
 "cells": [
  {
   "cell_type": "markdown",
   "metadata": {},
   "source": [
    "# Reproducing Hazard Curves from Nath & Thingbaijam (2012)"
   ]
  },
  {
   "cell_type": "code",
   "execution_count": 1,
   "metadata": {},
   "outputs": [],
   "source": [
    "%matplotlib inline"
   ]
  },
  {
   "cell_type": "code",
   "execution_count": 2,
   "metadata": {},
   "outputs": [],
   "source": [
    "import os\n",
    "import codecs\n",
    "import shutil\n",
    "import warnings\n",
    "from glob import glob\n",
    "\n",
    "from IPython.display import display\n",
    "import matplotlib.pyplot as plt\n",
    "from matplotlib.offsetbox import AnchoredText\n",
    "\n",
    "import numpy as np\n",
    "import pandas as pd\n",
    "\n",
    "from toolbox import logspace, annotate"
   ]
  },
  {
   "cell_type": "markdown",
   "metadata": {},
   "source": [
    "## Job Setup"
   ]
  },
  {
   "cell_type": "code",
   "execution_count": 3,
   "metadata": {},
   "outputs": [
    {
     "data": {
      "text/html": [
       "<div>\n",
       "<style scoped>\n",
       "    .dataframe tbody tr th:only-of-type {\n",
       "        vertical-align: middle;\n",
       "    }\n",
       "\n",
       "    .dataframe tbody tr th {\n",
       "        vertical-align: top;\n",
       "    }\n",
       "\n",
       "    .dataframe thead th {\n",
       "        text-align: right;\n",
       "    }\n",
       "</style>\n",
       "<table border=\"1\" class=\"dataframe\">\n",
       "  <thead>\n",
       "    <tr style=\"text-align: right;\">\n",
       "      <th></th>\n",
       "      <th>City</th>\n",
       "      <th>Latitude (°N)</th>\n",
       "      <th>Longitude (°E)</th>\n",
       "      <th>BIS</th>\n",
       "      <th>zone</th>\n",
       "      <th>GSHAP</th>\n",
       "      <th>Present</th>\n",
       "      <th>Other</th>\n",
       "      <th>Reference</th>\n",
       "    </tr>\n",
       "  </thead>\n",
       "  <tbody>\n",
       "    <tr>\n",
       "      <th>0</th>\n",
       "      <td>Ahmedabad</td>\n",
       "      <td>23.03</td>\n",
       "      <td>72.61</td>\n",
       "      <td>0.08</td>\n",
       "      <td>III</td>\n",
       "      <td>0.05</td>\n",
       "      <td>0.11</td>\n",
       "      <td>0.10</td>\n",
       "      <td>Jaiswal and Sinha 2007†</td>\n",
       "    </tr>\n",
       "    <tr>\n",
       "      <th>1</th>\n",
       "      <td>Bangalore</td>\n",
       "      <td>12.98</td>\n",
       "      <td>77.58</td>\n",
       "      <td>0.05</td>\n",
       "      <td>II</td>\n",
       "      <td>0.05</td>\n",
       "      <td>0.11</td>\n",
       "      <td>0.10; 0.15</td>\n",
       "      <td>Jaiswal and Sinha 2007†; Anbazhagan et al. 2009</td>\n",
       "    </tr>\n",
       "    <tr>\n",
       "      <th>2</th>\n",
       "      <td>Bhuj</td>\n",
       "      <td>23.25</td>\n",
       "      <td>69.66</td>\n",
       "      <td>0.18</td>\n",
       "      <td>V</td>\n",
       "      <td>0.20</td>\n",
       "      <td>0.42</td>\n",
       "      <td>0.25; 0.20-0.70</td>\n",
       "      <td>Jaiswal and Sinha 2007†; Petersen et al. 2004‡</td>\n",
       "    </tr>\n",
       "    <tr>\n",
       "      <th>3</th>\n",
       "      <td>Chennai</td>\n",
       "      <td>13.00</td>\n",
       "      <td>80.18</td>\n",
       "      <td>0.08</td>\n",
       "      <td>III</td>\n",
       "      <td>0.05</td>\n",
       "      <td>0.12</td>\n",
       "      <td>0.089; 0.10</td>\n",
       "      <td>Menon et al. 2010; Jaiswal and Sinha 2007†</td>\n",
       "    </tr>\n",
       "    <tr>\n",
       "      <th>4</th>\n",
       "      <td>Dehradun</td>\n",
       "      <td>30.33</td>\n",
       "      <td>78.04</td>\n",
       "      <td>0.12</td>\n",
       "      <td>IV</td>\n",
       "      <td>0.30</td>\n",
       "      <td>0.47</td>\n",
       "      <td>0.45</td>\n",
       "      <td>Mahajan et al. 2010</td>\n",
       "    </tr>\n",
       "    <tr>\n",
       "      <th>5</th>\n",
       "      <td>Guwahati</td>\n",
       "      <td>26.18</td>\n",
       "      <td>91.73</td>\n",
       "      <td>0.18</td>\n",
       "      <td>V</td>\n",
       "      <td>0.30</td>\n",
       "      <td>0.66</td>\n",
       "      <td>0.50</td>\n",
       "      <td>Sharma and Malik 2006</td>\n",
       "    </tr>\n",
       "    <tr>\n",
       "      <th>6</th>\n",
       "      <td>Hyderabad</td>\n",
       "      <td>17.45</td>\n",
       "      <td>78.46</td>\n",
       "      <td>0.05</td>\n",
       "      <td>II</td>\n",
       "      <td>0.05</td>\n",
       "      <td>0.09</td>\n",
       "      <td>0.08</td>\n",
       "      <td>Jaiswal and Sinha 2007†</td>\n",
       "    </tr>\n",
       "    <tr>\n",
       "      <th>7</th>\n",
       "      <td>Imphal</td>\n",
       "      <td>24.78</td>\n",
       "      <td>93.94</td>\n",
       "      <td>0.18</td>\n",
       "      <td>V</td>\n",
       "      <td>0.45</td>\n",
       "      <td>0.68</td>\n",
       "      <td>0.50</td>\n",
       "      <td>Sharma and Malik 2006</td>\n",
       "    </tr>\n",
       "    <tr>\n",
       "      <th>8</th>\n",
       "      <td>Jabalpur</td>\n",
       "      <td>23.20</td>\n",
       "      <td>79.95</td>\n",
       "      <td>0.08</td>\n",
       "      <td>III</td>\n",
       "      <td>0.10</td>\n",
       "      <td>0.19</td>\n",
       "      <td>0.15</td>\n",
       "      <td>Jaiswal and Sinha 2007†</td>\n",
       "    </tr>\n",
       "    <tr>\n",
       "      <th>9</th>\n",
       "      <td>Kolkata</td>\n",
       "      <td>22.65</td>\n",
       "      <td>88.45</td>\n",
       "      <td>0.08</td>\n",
       "      <td>III</td>\n",
       "      <td>0.10</td>\n",
       "      <td>0.15</td>\n",
       "      <td>0.10</td>\n",
       "      <td>Jaiswal and Sinha 2007†</td>\n",
       "    </tr>\n",
       "    <tr>\n",
       "      <th>10</th>\n",
       "      <td>Koyna</td>\n",
       "      <td>17.40</td>\n",
       "      <td>73.75</td>\n",
       "      <td>0.12</td>\n",
       "      <td>IV</td>\n",
       "      <td>0.25</td>\n",
       "      <td>0.47</td>\n",
       "      <td>0.25</td>\n",
       "      <td>Jaiswal and Sinha 2007†</td>\n",
       "    </tr>\n",
       "    <tr>\n",
       "      <th>11</th>\n",
       "      <td>Mumbai</td>\n",
       "      <td>19.11</td>\n",
       "      <td>72.85</td>\n",
       "      <td>0.08</td>\n",
       "      <td>III</td>\n",
       "      <td>0.10</td>\n",
       "      <td>0.16</td>\n",
       "      <td>0.15</td>\n",
       "      <td>Jaiswal and Sinha 2007†</td>\n",
       "    </tr>\n",
       "    <tr>\n",
       "      <th>12</th>\n",
       "      <td>New Delhi</td>\n",
       "      <td>28.56</td>\n",
       "      <td>77.11</td>\n",
       "      <td>0.12</td>\n",
       "      <td>IV</td>\n",
       "      <td>0.15</td>\n",
       "      <td>0.24</td>\n",
       "      <td>NaN</td>\n",
       "      <td>NaN</td>\n",
       "    </tr>\n",
       "    <tr>\n",
       "      <th>13</th>\n",
       "      <td>Patna</td>\n",
       "      <td>25.60</td>\n",
       "      <td>85.10</td>\n",
       "      <td>0.12</td>\n",
       "      <td>IV</td>\n",
       "      <td>0.05</td>\n",
       "      <td>0.13</td>\n",
       "      <td>NaN</td>\n",
       "      <td>NaN</td>\n",
       "    </tr>\n",
       "    <tr>\n",
       "      <th>14</th>\n",
       "      <td>Port Blair</td>\n",
       "      <td>11.61</td>\n",
       "      <td>92.72</td>\n",
       "      <td>0.18</td>\n",
       "      <td>V</td>\n",
       "      <td>0.25</td>\n",
       "      <td>0.71</td>\n",
       "      <td>NaN</td>\n",
       "      <td>NaN</td>\n",
       "    </tr>\n",
       "    <tr>\n",
       "      <th>15</th>\n",
       "      <td>Shillong</td>\n",
       "      <td>25.48</td>\n",
       "      <td>92.11</td>\n",
       "      <td>0.18</td>\n",
       "      <td>V</td>\n",
       "      <td>0.30</td>\n",
       "      <td>0.72</td>\n",
       "      <td>0.45</td>\n",
       "      <td>Sharma and Malik 2006</td>\n",
       "    </tr>\n",
       "    <tr>\n",
       "      <th>16</th>\n",
       "      <td>Srinagar</td>\n",
       "      <td>34.08</td>\n",
       "      <td>74.80</td>\n",
       "      <td>0.18</td>\n",
       "      <td>V</td>\n",
       "      <td>0.25</td>\n",
       "      <td>0.33</td>\n",
       "      <td>NaN</td>\n",
       "      <td>NaN</td>\n",
       "    </tr>\n",
       "    <tr>\n",
       "      <th>17</th>\n",
       "      <td>Thiruvananthapuram</td>\n",
       "      <td>8.50</td>\n",
       "      <td>76.95</td>\n",
       "      <td>0.08</td>\n",
       "      <td>III</td>\n",
       "      <td>0.05</td>\n",
       "      <td>0.07</td>\n",
       "      <td>NaN</td>\n",
       "      <td>NaN</td>\n",
       "    </tr>\n",
       "  </tbody>\n",
       "</table>\n",
       "</div>"
      ],
      "text/plain": [
       "                  City  Latitude (°N)  Longitude (°E)   BIS zone  GSHAP  \\\n",
       "0            Ahmedabad          23.03           72.61  0.08  III   0.05   \n",
       "1            Bangalore          12.98           77.58  0.05   II   0.05   \n",
       "2                 Bhuj          23.25           69.66  0.18    V   0.20   \n",
       "3              Chennai          13.00           80.18  0.08  III   0.05   \n",
       "4             Dehradun          30.33           78.04  0.12   IV   0.30   \n",
       "5             Guwahati          26.18           91.73  0.18    V   0.30   \n",
       "6            Hyderabad          17.45           78.46  0.05   II   0.05   \n",
       "7               Imphal          24.78           93.94  0.18    V   0.45   \n",
       "8             Jabalpur          23.20           79.95  0.08  III   0.10   \n",
       "9              Kolkata          22.65           88.45  0.08  III   0.10   \n",
       "10               Koyna          17.40           73.75  0.12   IV   0.25   \n",
       "11              Mumbai          19.11           72.85  0.08  III   0.10   \n",
       "12           New Delhi          28.56           77.11  0.12   IV   0.15   \n",
       "13               Patna          25.60           85.10  0.12   IV   0.05   \n",
       "14          Port Blair          11.61           92.72  0.18    V   0.25   \n",
       "15            Shillong          25.48           92.11  0.18    V   0.30   \n",
       "16            Srinagar          34.08           74.80  0.18    V   0.25   \n",
       "17  Thiruvananthapuram           8.50           76.95  0.08  III   0.05   \n",
       "\n",
       "    Present            Other                                        Reference  \n",
       "0      0.11             0.10                          Jaiswal and Sinha 2007†  \n",
       "1      0.11       0.10; 0.15  Jaiswal and Sinha 2007†; Anbazhagan et al. 2009  \n",
       "2      0.42  0.25; 0.20-0.70   Jaiswal and Sinha 2007†; Petersen et al. 2004‡  \n",
       "3      0.12      0.089; 0.10       Menon et al. 2010; Jaiswal and Sinha 2007†  \n",
       "4      0.47             0.45                              Mahajan et al. 2010  \n",
       "5      0.66             0.50                            Sharma and Malik 2006  \n",
       "6      0.09             0.08                          Jaiswal and Sinha 2007†  \n",
       "7      0.68             0.50                            Sharma and Malik 2006  \n",
       "8      0.19             0.15                          Jaiswal and Sinha 2007†  \n",
       "9      0.15             0.10                          Jaiswal and Sinha 2007†  \n",
       "10     0.47             0.25                          Jaiswal and Sinha 2007†  \n",
       "11     0.16             0.15                          Jaiswal and Sinha 2007†  \n",
       "12     0.24              NaN                                              NaN  \n",
       "13     0.13              NaN                                              NaN  \n",
       "14     0.71              NaN                                              NaN  \n",
       "15     0.72             0.45                            Sharma and Malik 2006  \n",
       "16     0.33              NaN                                              NaN  \n",
       "17     0.07              NaN                                              NaN  "
      ]
     },
     "execution_count": 3,
     "metadata": {},
     "output_type": "execute_result"
    }
   ],
   "source": [
    "nath_path = '../Data/nath2012probabilistic'\n",
    "sites_table = os.path.join(nath_path, 'Table 3.csv')\n",
    "df_table3 = pd.read_csv(sites_table, skiprows=1)\n",
    "df_table3"
   ]
  },
  {
   "cell_type": "code",
   "execution_count": 4,
   "metadata": {},
   "outputs": [
    {
     "name": "stdout",
     "output_type": "stream",
     "text": [
      "sites_csv = NT2012_Table_3_lon_lat.csv\n"
     ]
    }
   ],
   "source": [
    "df_sites = df_table3[['Longitude (°E)', 'Latitude (°N)']]\n",
    "sites_csv = 'NT2012_Table_3_lon_lat.csv'\n",
    "print('sites_csv = %s' % sites_csv)\n",
    "df_sites.to_csv(sites_csv, header=False, index=False, float_format='%g')"
   ]
  },
  {
   "cell_type": "code",
   "execution_count": 5,
   "metadata": {},
   "outputs": [],
   "source": [
    "map_imts = ['PGA','SA(0.2)','SA(1.0)']\n",
    "map_tables = ['India_pga.csv','India_psa_pt2sec.csv','India_psa_1sec.csv']\n",
    "map_table_list = [os.path.join(nath_path, item) for item in map_tables]\n",
    "map_table_df_list = [pd.read_csv(file_name) for file_name in map_table_list]"
   ]
  },
  {
   "cell_type": "code",
   "execution_count": 6,
   "metadata": {},
   "outputs": [
    {
     "name": "stdout",
     "output_type": "stream",
     "text": [
      "sites_csv = NT2012_Figure_7_Indian_subcontinent_lon_lat.csv\n"
     ]
    }
   ],
   "source": [
    "df_map = map_table_df_list[0][['lon', 'lat']]\n",
    "map_csv = 'NT2012_Figure_7_Indian_subcontinent_lon_lat.csv'\n",
    "print('sites_csv = %s' % map_csv)\n",
    "df_map.to_csv(map_csv, header=False, index=False, float_format='%g')"
   ]
  },
  {
   "cell_type": "markdown",
   "metadata": {},
   "source": [
    "Given an occurrence rate $\\lambda$ in a given time span $T_1$ and assuming a Poissonian process, the probability of one or more occurrences $P_1$ is\n",
    "\n",
    "$P_1 = 1 - e ^{-\\lambda T_1}$\n",
    "\n",
    "so given a probability of exceedence, we can compute the rate \n",
    "\n",
    "$\\lambda = \\frac{-1}{T_1} \\ln(1 - P_1)$\n",
    "\n",
    "and work out the probability of exceedence for a different time period.\n",
    "\n",
    "$P_2 = 1 - e ^{-\\lambda T_2}$\n"
   ]
  },
  {
   "cell_type": "code",
   "execution_count": 7,
   "metadata": {},
   "outputs": [
    {
     "name": "stdout",
     "output_type": "stream",
     "text": [
      "investigation_time = 1\n",
      "poes = 0.002105 0.00040397\n",
      "['10% in 50y', '2% in 50y']\n"
     ]
    }
   ],
   "source": [
    "poes_nom = np.array([0.1, 0.02])\n",
    "T_nom = 50  # years\n",
    "rate = -np.log(1 - poes_nom)/float(T_nom)  # per year\n",
    "T_inv = 1  # year\n",
    "poes_inv = 1 - np.exp(-rate*T_inv)\n",
    "poe_labels = ['%g%% in %gy' % (100*poe, T_nom) for poe in poes_nom]\n",
    "\n",
    "print('investigation_time = %s' % str(T_inv))\n",
    "print('poes = %s' % ' '.join(['%.5g' % poe for poe in poes_inv]))\n",
    "print(poe_labels)"
   ]
  },
  {
   "cell_type": "code",
   "execution_count": 8,
   "metadata": {},
   "outputs": [
    {
     "name": "stdout",
     "output_type": "stream",
     "text": [
      "intensity_measure_types_and_levels = {\"PGA\": [0.005, 0.01, 0.02, 0.05, 0.1, 0.2, 0.5, 1.0, 2.0], \"SA(0.2)\": [0.005, 0.01, 0.02, 0.05, 0.1, 0.2, 0.5, 1.0, 2.0], \"SA(1.0)\": [0.005, 0.01, 0.02, 0.05, 0.1, 0.2, 0.5, 1.0, 2.0]}\n"
     ]
    }
   ],
   "source": [
    "im_types = ['PGA', 'SA(0.2)', 'SA(1.0)']\n",
    "periods = logspace(0.005, 4, 3)\n",
    "periods_string = ', '.join([str(T) for T in periods])\n",
    "\n",
    "print('intensity_measure_types_and_levels = {%s}' \n",
    "      % ', '.join(['\"%s\": [%s]' % (im_type, periods_string) \n",
    "                   for im_type in im_types]))"
   ]
  },
  {
   "cell_type": "markdown",
   "metadata": {},
   "source": [
    "Note: The calculations below predate the nice report produced by `oq info`."
   ]
  },
  {
   "cell_type": "code",
   "execution_count": 9,
   "metadata": {},
   "outputs": [
    {
     "name": "stdout",
     "output_type": "stream",
     "text": [
      "n_gmpe_lt_rlzs = 245760\n",
      "n_src_lt_rlzs = 3\n",
      "n_lt_rlzs = 737280\n",
      "n_sites = 18\n",
      "n_imt_iml = 27\n",
      "n_curves = n_lt_rlzs*n_sites*n_imt_iml = 737280*18*27 = 358318080\n",
      "n_files = n_lt_rlzs*n_imt_iml = 737280*27 = 19906560\n"
     ]
    }
   ],
   "source": [
    "# areal_plus_gridded_collapsed\n",
    "n_gmpe_lt_rlzs = 4*4*4*3*4*5*4*4*4\n",
    "print('n_gmpe_lt_rlzs = %d' % n_gmpe_lt_rlzs)\n",
    "n_src_lt_rlzs = 3\n",
    "print('n_src_lt_rlzs = %d' % n_src_lt_rlzs)\n",
    "n_lt_rlzs = n_gmpe_lt_rlzs*n_src_lt_rlzs\n",
    "print('n_lt_rlzs = %d' % n_lt_rlzs)\n",
    "n_sites = len(df_table3)\n",
    "print('n_sites = %d' % n_sites)\n",
    "n_imt_iml = len(im_types)*periods.size\n",
    "print('n_imt_iml = %d' % n_imt_iml)\n",
    "n_curves = n_lt_rlzs*n_sites*n_imt_iml\n",
    "print('n_curves = n_lt_rlzs*n_sites*n_imt_iml = %d*%d*%d = %d' %\n",
    "     (n_lt_rlzs, n_sites, n_imt_iml, n_curves))\n",
    "n_files = n_lt_rlzs*n_imt_iml\n",
    "print('n_files = n_lt_rlzs*n_imt_iml = %d*%d = %d' %\n",
    "     (n_lt_rlzs, n_imt_iml, n_files))"
   ]
  },
  {
   "cell_type": "code",
   "execution_count": 10,
   "metadata": {},
   "outputs": [
    {
     "name": "stdout",
     "output_type": "stream",
     "text": [
      "n_gmpe_lt_rlzs = 3888\n",
      "n_src_lt_rlzs = 1\n",
      "n_lt_rlzs = 3888\n",
      "n_sites = 8102\n",
      "n_imt_iml = 3\n",
      "n_curves = n_lt_rlzs*n_sites*n_imt_iml = 3888*8102*3 = 94501728\n",
      "n_files = n_lt_rlzs*n_imt_iml = 3888*3 = 11664\n"
     ]
    }
   ],
   "source": [
    "# areal_only_collapsed_map\n",
    "n_gmpe_lt_rlzs = 3*3*2*2*3*2*3*3*2\n",
    "print('n_gmpe_lt_rlzs = %d' % n_gmpe_lt_rlzs)\n",
    "n_src_lt_rlzs = 1\n",
    "print('n_src_lt_rlzs = %d' % n_src_lt_rlzs)\n",
    "n_lt_rlzs = n_gmpe_lt_rlzs*n_src_lt_rlzs\n",
    "print('n_lt_rlzs = %d' % n_lt_rlzs)\n",
    "n_sites = len(df_map)\n",
    "print('n_sites = %d' % n_sites)\n",
    "n_imt_iml = len(im_types)\n",
    "print('n_imt_iml = %d' % n_imt_iml)\n",
    "n_curves = n_lt_rlzs*n_sites*n_imt_iml\n",
    "print('n_curves = n_lt_rlzs*n_sites*n_imt_iml = %d*%d*%d = %d' %\n",
    "     (n_lt_rlzs, n_sites, n_imt_iml, n_curves))\n",
    "n_files = n_lt_rlzs*n_imt_iml\n",
    "print('n_files = n_lt_rlzs*n_imt_iml = %d*%d = %d' %\n",
    "     (n_lt_rlzs, n_imt_iml, n_files))"
   ]
  },
  {
   "cell_type": "markdown",
   "metadata": {
    "collapsed": true
   },
   "source": [
    "## Post-Processing"
   ]
  },
  {
   "cell_type": "code",
   "execution_count": 17,
   "metadata": {},
   "outputs": [
    {
     "data": {
      "text/plain": [
       "['cities_collapsed_v0/hazard_curve-mean-PGA_1.csv',\n",
       " 'cities_collapsed_v0/hazard_curve-mean-SA(0.2)_1.csv',\n",
       " 'cities_collapsed_v0/hazard_curve-mean-SA(1.0)_1.csv']"
      ]
     },
     "execution_count": 17,
     "metadata": {},
     "output_type": "execute_result"
    }
   ],
   "source": [
    "curve_files = sorted([\n",
    "    item for item in glob(os.path.join('cities_collapsed_v0', '*.csv'))\n",
    "    if all(key in item for key in ['hazard_curve-', 'mean'])])\n",
    "curve_files"
   ]
  },
  {
   "cell_type": "code",
   "execution_count": 13,
   "metadata": {},
   "outputs": [],
   "source": [
    "def read_hazard_csv(file_name):\n",
    "    '''\n",
    "    Read hazard curves as output by \"oq export --exports csv hcurves #\".\n",
    "    \n",
    "    Returns\n",
    "    -------\n",
    "    poes, config: tuple\n",
    "        poes: pandas.DataFrame of POEs: indices is coordinates, columns are accelerations\n",
    "        config: dictionary of information read from first line of CSV file\n",
    "    '''\n",
    "    poes = pd.read_csv(file_name, header=1, index_col=['lon', 'lat', 'depth'])\n",
    "    poes.columns = [float(item.replace('poe-', '')) for item in poes.columns]\n",
    "    poes.columns.name = 'acceleration'\n",
    "    \n",
    "    with open(file_name) as file:\n",
    "        first_line = file.readline()\n",
    "    config = {}\n",
    "    for clause in first_line.split(','):\n",
    "        if '=' in clause:\n",
    "            lhs, rhs = clause.split('=')\n",
    "            rhs = rhs.strip()\n",
    "            if '\"' in rhs or \"'\" in rhs:\n",
    "                rhs = rhs.strip('\"').strip(\"'\")\n",
    "            else:\n",
    "                try:\n",
    "                    rhs = float(rhs)\n",
    "                except ValueError:\n",
    "                    pass\n",
    "            config[lhs.strip()] = rhs\n",
    "            \n",
    "    return poes, config"
   ]
  },
  {
   "cell_type": "code",
   "execution_count": 18,
   "metadata": {
    "scrolled": false
   },
   "outputs": [
    {
     "data": {
      "image/png": "[encoded data removed]",
      "text/plain": [
       "<matplotlib.figure.Figure at 0x7f0755465908>"
      ]
     },
     "metadata": {},
     "output_type": "display_data"
    }
   ],
   "source": [
    "plot_cities = np.array([['Bangalore', 'Bhuj', 'Chennai'],\n",
    "                        ['Guwahati', 'Jabalpur', 'Kolkata'],\n",
    "                        ['Koyna', 'Mumbai', 'New Delhi']])\n",
    "digitized_path = '../Data/nath2012probabilistic/Figure6'\n",
    "alpha = 1\n",
    "\n",
    "fig, axes = plt.subplots(plot_cities.shape[0], plot_cities.shape[1], \n",
    "                         figsize=(7, 7), sharex=True, sharey=True)\n",
    "fig.subplots_adjust(wspace=0, hspace=0)\n",
    "\n",
    "for curve_file in curve_files:\n",
    "    poes, config = read_hazard_csv(curve_file)\n",
    "    label = os.path.split(curve_file)[1]\n",
    "    \n",
    "    if config['investigation_time'] != T_inv:\n",
    "        warnings.warn(\n",
    "            'Investigation time %g instead of expected %g' %\n",
    "            (hcm['investigation_time'], T_inv), UserWarning)\n",
    "    \n",
    "    if config['imt'] == 'PGV':\n",
    "        warnings.warn('IMT %s units not properly reflected in axis label.' % \n",
    "                      hcm['imt'], UserWarning)\n",
    "        \n",
    "    for (lon, lat, _), data in poes.iterrows():\n",
    "        in_table3 = ((df_table3['Longitude (°E)'] == lon) & \n",
    "                     (df_table3['Latitude (°N)'] == lat))\n",
    "        \n",
    "        if any(in_table3):\n",
    "            city = df_table3.loc[in_table3, 'City'].values[0]\n",
    "        else:\n",
    "            print('Unknown site %g°N %g°E. Ignoring ...', (lat, lon))\n",
    "            continue\n",
    "            \n",
    "        if city in plot_cities:\n",
    "            ax = axes[plot_cities == city][0]\n",
    "            trace = ax.semilogy(data.index, data.values, label=config['imt'], alpha=alpha)\n",
    "            \n",
    "            digitized_csv = '%s_%s.csv' % (city.replace(' ','_'), config['imt'].replace('.0', ''))\n",
    "            digitized_full = os.path.join(digitized_path, digitized_csv)\n",
    "            if os.path.isfile(digitized_full):\n",
    "                data = np.genfromtxt(digitized_full, delimiter=',')\n",
    "                ax.plot(data[:, 0], data[:, 1], \n",
    "                        linestyle=':', alpha=alpha, color=trace[0].get_color())\n",
    "            else:\n",
    "                print('%s not found ...' % digitized_csv)\n",
    "\n",
    "# add reference curves and set limits\n",
    "for ax, city in zip(axes.ravel(), plot_cities.ravel()):\n",
    "    ax.set_xlim((0, 1))\n",
    "    ax.set_ylim((1e-4, 1e-1))\n",
    "    for prob, label, linestyle in zip(poes_inv, poe_labels, ['--', '-.', ':']):\n",
    "        ax.axhline(prob, label=label, color='0.7', linestyle=linestyle)\n",
    "        fig.sca(ax)\n",
    "        annotate(city, loc='upper right')\n",
    "    \n",
    "axes[1,0].set_ylabel('Annual probability of exceedence')\n",
    "[ax.yaxis.get_major_ticks()[1].label.set_visible(False) for ax in axes[:-1,0]]\n",
    "axes[-1,1].set_xlabel('Ground Acceleration [g]')\n",
    "[ax.xaxis.get_major_ticks()[0].label.set_visible(False) for ax in axes[-1,1:]]\n",
    "leg = axes[0,-1].legend(loc='center right', frameon=True, fontsize='small', labelspacing=0.1)\n",
    "leg.get_frame().set_linewidth(0.0)\n",
    "\n",
    "figure_file = 'Figure_6_Reproduced'\n",
    "fig.savefig('%s.pdf' % figure_file, dpi=600, bbox_inches='tight')"
   ]
  },
  {
   "cell_type": "code",
   "execution_count": 15,
   "metadata": {},
   "outputs": [
    {
     "ename": "NameError",
     "evalue": "name 'exported_files' is not defined",
     "output_type": "error",
     "traceback": [
      "\u001b[0;31m---------------------------------------------------------------------------\u001b[0m",
      "\u001b[0;31mNameError\u001b[0m                                 Traceback (most recent call last)",
      "\u001b[0;32m<ipython-input-15-e9356797e0c6>\u001b[0m in \u001b[0;36m<module>\u001b[0;34m()\u001b[0m\n\u001b[1;32m      1\u001b[0m \u001b[0mmap_keys\u001b[0m \u001b[0;34m=\u001b[0m \u001b[0;34m[\u001b[0m\u001b[0;34m'hazard_map'\u001b[0m\u001b[0;34m,\u001b[0m \u001b[0;34m'mean'\u001b[0m\u001b[0;34m]\u001b[0m\u001b[0;34m\u001b[0m\u001b[0m\n\u001b[0;32m----> 2\u001b[0;31m \u001b[0mmap_subset\u001b[0m \u001b[0;34m=\u001b[0m \u001b[0msorted\u001b[0m\u001b[0;34m(\u001b[0m\u001b[0;34m[\u001b[0m\u001b[0mitem\u001b[0m \u001b[0;32mfor\u001b[0m \u001b[0mitem\u001b[0m \u001b[0;32min\u001b[0m \u001b[0mexported_files\u001b[0m \u001b[0;32mif\u001b[0m \u001b[0mall\u001b[0m\u001b[0;34m(\u001b[0m\u001b[0mkey\u001b[0m \u001b[0;32min\u001b[0m \u001b[0mitem\u001b[0m \u001b[0;32mfor\u001b[0m \u001b[0mkey\u001b[0m \u001b[0;32min\u001b[0m \u001b[0mmap_keys\u001b[0m\u001b[0;34m)\u001b[0m\u001b[0;34m]\u001b[0m\u001b[0;34m)\u001b[0m\u001b[0;34m\u001b[0m\u001b[0m\n\u001b[0m\u001b[1;32m      3\u001b[0m \u001b[0mmap_csv_list\u001b[0m \u001b[0;34m=\u001b[0m \u001b[0;34m[\u001b[0m\u001b[0mhmc\u001b[0m\u001b[0;34m.\u001b[0m\u001b[0msave_hazard_map_to_csv\u001b[0m\u001b[0;34m(\u001b[0m\u001b[0mfile_name\u001b[0m\u001b[0;34m,\u001b[0m \u001b[0mforce_overwrite\u001b[0m\u001b[0;34m=\u001b[0m\u001b[0;32mTrue\u001b[0m\u001b[0;34m)\u001b[0m \u001b[0;32mfor\u001b[0m \u001b[0mfile_name\u001b[0m \u001b[0;32min\u001b[0m \u001b[0mmap_subset\u001b[0m\u001b[0;34m]\u001b[0m\u001b[0;34m\u001b[0m\u001b[0m\n\u001b[1;32m      4\u001b[0m \u001b[0mmap_csv_list\u001b[0m\u001b[0;34m\u001b[0m\u001b[0m\n",
      "\u001b[0;31mNameError\u001b[0m: name 'exported_files' is not defined"
     ]
    }
   ],
   "source": [
    "map_keys = ['hazard_map', 'mean']\n",
    "map_subset = sorted([item for item in exported_files if all(key in item for key in map_keys)])\n",
    "map_csv_list = [hmc.save_hazard_map_to_csv(file_name, force_overwrite=True) for file_name in map_subset]\n",
    "map_csv_list"
   ]
  },
  {
   "cell_type": "code",
   "execution_count": 16,
   "metadata": {},
   "outputs": [
    {
     "ename": "NameError",
     "evalue": "name 'map_csv_list' is not defined",
     "output_type": "error",
     "traceback": [
      "\u001b[0;31m---------------------------------------------------------------------------\u001b[0m",
      "\u001b[0;31mNameError\u001b[0m                                 Traceback (most recent call last)",
      "\u001b[0;32m<ipython-input-16-c90144b4cd70>\u001b[0m in \u001b[0;36m<module>\u001b[0;34m()\u001b[0m\n\u001b[1;32m      2\u001b[0m \u001b[0mpoes_string\u001b[0m \u001b[0;34m=\u001b[0m \u001b[0;34m'%.5g'\u001b[0m \u001b[0;34m%\u001b[0m \u001b[0mpoes_inv\u001b[0m\u001b[0;34m[\u001b[0m\u001b[0mnp\u001b[0m\u001b[0;34m.\u001b[0m\u001b[0margmin\u001b[0m\u001b[0;34m(\u001b[0m\u001b[0mnp\u001b[0m\u001b[0;34m.\u001b[0m\u001b[0mabs\u001b[0m\u001b[0;34m(\u001b[0m\u001b[0mpoes_nom\u001b[0m \u001b[0;34m-\u001b[0m \u001b[0mpoes_table\u001b[0m\u001b[0;34m)\u001b[0m\u001b[0;34m)\u001b[0m\u001b[0;34m]\u001b[0m\u001b[0;34m\u001b[0m\u001b[0m\n\u001b[1;32m      3\u001b[0m \u001b[0mimt_string\u001b[0m \u001b[0;34m=\u001b[0m \u001b[0;34m'PGA'\u001b[0m\u001b[0;34m\u001b[0m\u001b[0m\n\u001b[0;32m----> 4\u001b[0;31m \u001b[0;32mfor\u001b[0m \u001b[0mmap_csv\u001b[0m \u001b[0;32min\u001b[0m \u001b[0mmap_csv_list\u001b[0m\u001b[0;34m:\u001b[0m\u001b[0;34m\u001b[0m\u001b[0m\n\u001b[0m\u001b[1;32m      5\u001b[0m     \u001b[0;32mif\u001b[0m \u001b[0;34m(\u001b[0m\u001b[0mpoes_string\u001b[0m \u001b[0;32min\u001b[0m \u001b[0mmap_csv\u001b[0m\u001b[0;34m)\u001b[0m \u001b[0;32mand\u001b[0m \u001b[0;34m(\u001b[0m\u001b[0mimt_string\u001b[0m \u001b[0;32min\u001b[0m \u001b[0mmap_csv\u001b[0m\u001b[0;34m)\u001b[0m\u001b[0;34m:\u001b[0m\u001b[0;34m\u001b[0m\u001b[0m\n\u001b[1;32m      6\u001b[0m         \u001b[0;32mbreak\u001b[0m\u001b[0;34m\u001b[0m\u001b[0m\n",
      "\u001b[0;31mNameError\u001b[0m: name 'map_csv_list' is not defined"
     ]
    }
   ],
   "source": [
    "poes_table = 0.1\n",
    "poes_string = '%.5g' % poes_inv[np.argmin(np.abs(poes_nom - poes_table))]\n",
    "imt_string = 'PGA'\n",
    "for map_csv in map_csv_list:\n",
    "    if (poes_string in map_csv) and (imt_string in map_csv):\n",
    "        break\n",
    "df_pga = pd.read_csv(map_csv, header=1)\n",
    "\n",
    "df_compare = pd.merge(df_table3, df_pga, left_on = 'Longitude (°E)', right_on = 'lon')\n",
    "drop_cols = ['BIS','zone','GSHAP','Other','Reference','lon','lat']\n",
    "df_compare.drop(drop_cols, axis=1, inplace=True)\n",
    "df_compare.rename(columns={'Present': 'NT2012 [g]', 'iml': 'A2016 [g]'}, inplace=True)\n",
    "df_compare.rename(columns={'Longitude (°E)': 'Longitude [°E]', 'Latitude (°N)': 'Latitude [°N]'}, inplace=True)\n",
    "df_compare['Error [g]'] = (df_compare['A2016 [g]'] - df_compare['NT2012 [g]']).round(2)\n",
    "df_compare['Error [%]'] = (100*(df_compare['A2016 [g]']/df_compare['NT2012 [g]'] - 1)).round()\n",
    "df_compare['A2016 [g]'] = df_compare['A2016 [g]'].round(3)\n",
    "df_compare.sort(columns='NT2012 [g]', ascending=False, inplace=True)\n",
    "display(df_compare)\n",
    "\n",
    "df_compare.columns = pd.MultiIndex.from_tuples([tuple(item.split()) for item in df_compare.columns])\n",
    "table_file = 'Table_3_Reproduced'\n",
    "with codecs.open('%s.tex' % table_file, 'w', 'utf-8') as file_object:\n",
    "    df_compare.to_latex(file_object, index=False)\n",
    "shutil.copyfile('%s.tex' % table_file, '%s_calc_%d.tex' % (table_file, calc_id))"
   ]
  },
  {
   "cell_type": "code",
   "execution_count": null,
   "metadata": {
    "collapsed": true
   },
   "outputs": [],
   "source": []
  }
 ],
 "metadata": {
  "kernelspec": {
   "display_name": "oq",
   "language": "python",
   "name": "oq"
  },
  "language_info": {
   "codemirror_mode": {
    "name": "ipython",
    "version": 3
   },
   "file_extension": ".py",
   "mimetype": "text/x-python",
   "name": "python",
   "nbconvert_exporter": "python",
   "pygments_lexer": "ipython3",
   "version": "3.5.4"
  }
 },
 "nbformat": 4,
 "nbformat_minor": 1
}
