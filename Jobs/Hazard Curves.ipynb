{
 "cells": [
  {
   "cell_type": "markdown",
   "metadata": {},
   "source": [
    "# Job Setup and Post-Processing for Nath & Thingbaijam (2012)\n",
    "\n",
    "Mostly minor reformatting.\n",
    "\n",
    "## Job Setup"
   ]
  },
  {
   "cell_type": "code",
   "execution_count": 1,
   "metadata": {
    "collapsed": false
   },
   "outputs": [],
   "source": [
    "%matplotlib inline\n",
    "%load_ext autoreload"
   ]
  },
  {
   "cell_type": "code",
   "execution_count": 2,
   "metadata": {
    "collapsed": false
   },
   "outputs": [],
   "source": [
    "import os\n",
    "import glob\n",
    "import codecs\n",
    "import shutil\n",
    "import warnings\n",
    "import numpy as np\n",
    "import pandas as pd\n",
    "%autoreload 2\n",
    "import toolbox as tb\n",
    "from IPython.display import display\n",
    "\n",
    "import matplotlib.pyplot as plt\n",
    "from matplotlib.offsetbox import AnchoredText\n",
    "\n",
    "%autoreload 2\n",
    "import oq_output.hazard_curve_converter as hcc\n",
    "%autoreload 2\n",
    "import oq_output.hazard_map_converter as hmc"
   ]
  },
  {
   "cell_type": "code",
   "execution_count": 3,
   "metadata": {
    "collapsed": false
   },
   "outputs": [
    {
     "data": {
      "text/html": [
       "<div>\n",
       "<table border=\"1\" class=\"dataframe\">\n",
       "  <thead>\n",
       "    <tr style=\"text-align: right;\">\n",
       "      <th></th>\n",
       "      <th>City</th>\n",
       "      <th>Latitude (°N)</th>\n",
       "      <th>Longitude (°E)</th>\n",
       "      <th>BIS</th>\n",
       "      <th>zone</th>\n",
       "      <th>GSHAP</th>\n",
       "      <th>Present</th>\n",
       "      <th>Other</th>\n",
       "      <th>Reference</th>\n",
       "    </tr>\n",
       "  </thead>\n",
       "  <tbody>\n",
       "    <tr>\n",
       "      <th>0</th>\n",
       "      <td>Ahmedabad</td>\n",
       "      <td>23.03</td>\n",
       "      <td>72.61</td>\n",
       "      <td>0.08</td>\n",
       "      <td>III</td>\n",
       "      <td>0.05</td>\n",
       "      <td>0.11</td>\n",
       "      <td>0.10</td>\n",
       "      <td>Jaiswal and Sinha 2007†</td>\n",
       "    </tr>\n",
       "    <tr>\n",
       "      <th>1</th>\n",
       "      <td>Bangalore</td>\n",
       "      <td>12.98</td>\n",
       "      <td>77.58</td>\n",
       "      <td>0.05</td>\n",
       "      <td>II</td>\n",
       "      <td>0.05</td>\n",
       "      <td>0.11</td>\n",
       "      <td>0.10; 0.15</td>\n",
       "      <td>Jaiswal and Sinha 2007†; Anbazhagan et al. 2009</td>\n",
       "    </tr>\n",
       "    <tr>\n",
       "      <th>2</th>\n",
       "      <td>Bhuj</td>\n",
       "      <td>23.25</td>\n",
       "      <td>69.66</td>\n",
       "      <td>0.18</td>\n",
       "      <td>V</td>\n",
       "      <td>0.20</td>\n",
       "      <td>0.42</td>\n",
       "      <td>0.25; 0.20-0.70</td>\n",
       "      <td>Jaiswal and Sinha 2007†; Petersen et al. 2004‡</td>\n",
       "    </tr>\n",
       "    <tr>\n",
       "      <th>3</th>\n",
       "      <td>Chennai</td>\n",
       "      <td>13.00</td>\n",
       "      <td>80.18</td>\n",
       "      <td>0.08</td>\n",
       "      <td>III</td>\n",
       "      <td>0.05</td>\n",
       "      <td>0.12</td>\n",
       "      <td>0.089; 0.10</td>\n",
       "      <td>Menon et al. 2010; Jaiswal and Sinha 2007†</td>\n",
       "    </tr>\n",
       "    <tr>\n",
       "      <th>4</th>\n",
       "      <td>Dehradun</td>\n",
       "      <td>30.33</td>\n",
       "      <td>78.04</td>\n",
       "      <td>0.12</td>\n",
       "      <td>IV</td>\n",
       "      <td>0.30</td>\n",
       "      <td>0.47</td>\n",
       "      <td>0.45</td>\n",
       "      <td>Mahajan et al. 2010</td>\n",
       "    </tr>\n",
       "    <tr>\n",
       "      <th>5</th>\n",
       "      <td>Guwahati</td>\n",
       "      <td>26.18</td>\n",
       "      <td>91.73</td>\n",
       "      <td>0.18</td>\n",
       "      <td>V</td>\n",
       "      <td>0.30</td>\n",
       "      <td>0.66</td>\n",
       "      <td>0.50</td>\n",
       "      <td>Sharma and Malik 2006</td>\n",
       "    </tr>\n",
       "    <tr>\n",
       "      <th>6</th>\n",
       "      <td>Hyderabad</td>\n",
       "      <td>17.45</td>\n",
       "      <td>78.46</td>\n",
       "      <td>0.05</td>\n",
       "      <td>II</td>\n",
       "      <td>0.05</td>\n",
       "      <td>0.09</td>\n",
       "      <td>0.08</td>\n",
       "      <td>Jaiswal and Sinha 2007†</td>\n",
       "    </tr>\n",
       "    <tr>\n",
       "      <th>7</th>\n",
       "      <td>Imphal</td>\n",
       "      <td>24.78</td>\n",
       "      <td>93.94</td>\n",
       "      <td>0.18</td>\n",
       "      <td>V</td>\n",
       "      <td>0.45</td>\n",
       "      <td>0.68</td>\n",
       "      <td>0.50</td>\n",
       "      <td>Sharma and Malik 2006</td>\n",
       "    </tr>\n",
       "    <tr>\n",
       "      <th>8</th>\n",
       "      <td>Jabalpur</td>\n",
       "      <td>23.20</td>\n",
       "      <td>79.95</td>\n",
       "      <td>0.08</td>\n",
       "      <td>III</td>\n",
       "      <td>0.10</td>\n",
       "      <td>0.19</td>\n",
       "      <td>0.15</td>\n",
       "      <td>Jaiswal and Sinha 2007†</td>\n",
       "    </tr>\n",
       "    <tr>\n",
       "      <th>9</th>\n",
       "      <td>Kolkata</td>\n",
       "      <td>22.65</td>\n",
       "      <td>88.45</td>\n",
       "      <td>0.08</td>\n",
       "      <td>III</td>\n",
       "      <td>0.10</td>\n",
       "      <td>0.15</td>\n",
       "      <td>0.10</td>\n",
       "      <td>Jaiswal and Sinha 2007†</td>\n",
       "    </tr>\n",
       "    <tr>\n",
       "      <th>10</th>\n",
       "      <td>Koyna</td>\n",
       "      <td>17.40</td>\n",
       "      <td>73.75</td>\n",
       "      <td>0.12</td>\n",
       "      <td>IV</td>\n",
       "      <td>0.25</td>\n",
       "      <td>0.47</td>\n",
       "      <td>0.25</td>\n",
       "      <td>Jaiswal and Sinha 2007†</td>\n",
       "    </tr>\n",
       "    <tr>\n",
       "      <th>11</th>\n",
       "      <td>Mumbai</td>\n",
       "      <td>19.11</td>\n",
       "      <td>72.85</td>\n",
       "      <td>0.08</td>\n",
       "      <td>III</td>\n",
       "      <td>0.10</td>\n",
       "      <td>0.16</td>\n",
       "      <td>0.15</td>\n",
       "      <td>Jaiswal and Sinha 2007†</td>\n",
       "    </tr>\n",
       "    <tr>\n",
       "      <th>12</th>\n",
       "      <td>New Delhi</td>\n",
       "      <td>28.56</td>\n",
       "      <td>77.11</td>\n",
       "      <td>0.12</td>\n",
       "      <td>IV</td>\n",
       "      <td>0.15</td>\n",
       "      <td>0.24</td>\n",
       "      <td>NaN</td>\n",
       "      <td>NaN</td>\n",
       "    </tr>\n",
       "    <tr>\n",
       "      <th>13</th>\n",
       "      <td>Patna</td>\n",
       "      <td>25.60</td>\n",
       "      <td>85.10</td>\n",
       "      <td>0.12</td>\n",
       "      <td>IV</td>\n",
       "      <td>0.05</td>\n",
       "      <td>0.13</td>\n",
       "      <td>NaN</td>\n",
       "      <td>NaN</td>\n",
       "    </tr>\n",
       "    <tr>\n",
       "      <th>14</th>\n",
       "      <td>Port Blair</td>\n",
       "      <td>11.61</td>\n",
       "      <td>92.72</td>\n",
       "      <td>0.18</td>\n",
       "      <td>V</td>\n",
       "      <td>0.25</td>\n",
       "      <td>0.71</td>\n",
       "      <td>NaN</td>\n",
       "      <td>NaN</td>\n",
       "    </tr>\n",
       "    <tr>\n",
       "      <th>15</th>\n",
       "      <td>Shillong</td>\n",
       "      <td>25.48</td>\n",
       "      <td>92.11</td>\n",
       "      <td>0.18</td>\n",
       "      <td>V</td>\n",
       "      <td>0.30</td>\n",
       "      <td>0.72</td>\n",
       "      <td>0.45</td>\n",
       "      <td>Sharma and Malik 2006</td>\n",
       "    </tr>\n",
       "    <tr>\n",
       "      <th>16</th>\n",
       "      <td>Srinagar</td>\n",
       "      <td>34.08</td>\n",
       "      <td>74.80</td>\n",
       "      <td>0.18</td>\n",
       "      <td>V</td>\n",
       "      <td>0.25</td>\n",
       "      <td>0.33</td>\n",
       "      <td>NaN</td>\n",
       "      <td>NaN</td>\n",
       "    </tr>\n",
       "    <tr>\n",
       "      <th>17</th>\n",
       "      <td>Thiruvananthapuram</td>\n",
       "      <td>8.50</td>\n",
       "      <td>76.95</td>\n",
       "      <td>0.08</td>\n",
       "      <td>III</td>\n",
       "      <td>0.05</td>\n",
       "      <td>0.07</td>\n",
       "      <td>NaN</td>\n",
       "      <td>NaN</td>\n",
       "    </tr>\n",
       "  </tbody>\n",
       "</table>\n",
       "</div>"
      ],
      "text/plain": [
       "                  City  Latitude (°N)  Longitude (°E)   BIS zone  GSHAP  \\\n",
       "0            Ahmedabad          23.03           72.61  0.08  III   0.05   \n",
       "1            Bangalore          12.98           77.58  0.05   II   0.05   \n",
       "2                 Bhuj          23.25           69.66  0.18    V   0.20   \n",
       "3              Chennai          13.00           80.18  0.08  III   0.05   \n",
       "4             Dehradun          30.33           78.04  0.12   IV   0.30   \n",
       "5             Guwahati          26.18           91.73  0.18    V   0.30   \n",
       "6            Hyderabad          17.45           78.46  0.05   II   0.05   \n",
       "7               Imphal          24.78           93.94  0.18    V   0.45   \n",
       "8             Jabalpur          23.20           79.95  0.08  III   0.10   \n",
       "9              Kolkata          22.65           88.45  0.08  III   0.10   \n",
       "10               Koyna          17.40           73.75  0.12   IV   0.25   \n",
       "11              Mumbai          19.11           72.85  0.08  III   0.10   \n",
       "12           New Delhi          28.56           77.11  0.12   IV   0.15   \n",
       "13               Patna          25.60           85.10  0.12   IV   0.05   \n",
       "14          Port Blair          11.61           92.72  0.18    V   0.25   \n",
       "15            Shillong          25.48           92.11  0.18    V   0.30   \n",
       "16            Srinagar          34.08           74.80  0.18    V   0.25   \n",
       "17  Thiruvananthapuram           8.50           76.95  0.08  III   0.05   \n",
       "\n",
       "    Present            Other                                        Reference  \n",
       "0      0.11             0.10                          Jaiswal and Sinha 2007†  \n",
       "1      0.11       0.10; 0.15  Jaiswal and Sinha 2007†; Anbazhagan et al. 2009  \n",
       "2      0.42  0.25; 0.20-0.70   Jaiswal and Sinha 2007†; Petersen et al. 2004‡  \n",
       "3      0.12      0.089; 0.10       Menon et al. 2010; Jaiswal and Sinha 2007†  \n",
       "4      0.47             0.45                              Mahajan et al. 2010  \n",
       "5      0.66             0.50                            Sharma and Malik 2006  \n",
       "6      0.09             0.08                          Jaiswal and Sinha 2007†  \n",
       "7      0.68             0.50                            Sharma and Malik 2006  \n",
       "8      0.19             0.15                          Jaiswal and Sinha 2007†  \n",
       "9      0.15             0.10                          Jaiswal and Sinha 2007†  \n",
       "10     0.47             0.25                          Jaiswal and Sinha 2007†  \n",
       "11     0.16             0.15                          Jaiswal and Sinha 2007†  \n",
       "12     0.24              NaN                                              NaN  \n",
       "13     0.13              NaN                                              NaN  \n",
       "14     0.71              NaN                                              NaN  \n",
       "15     0.72             0.45                            Sharma and Malik 2006  \n",
       "16     0.33              NaN                                              NaN  \n",
       "17     0.07              NaN                                              NaN  "
      ]
     },
     "execution_count": 3,
     "metadata": {},
     "output_type": "execute_result"
    }
   ],
   "source": [
    "nath_path = '../Data/nath2012probabilistic'\n",
    "sites_table = os.path.join(nath_path, 'Table 3.csv')\n",
    "df_table3 = pd.read_csv(sites_table, skiprows=1)\n",
    "df_table3"
   ]
  },
  {
   "cell_type": "code",
   "execution_count": 4,
   "metadata": {
    "collapsed": false
   },
   "outputs": [
    {
     "name": "stdout",
     "output_type": "stream",
     "text": [
      "sites_csv = NT2012_Table_3_lon_lat.csv\n"
     ]
    }
   ],
   "source": [
    "df_sites = df_table3[['Longitude (°E)', 'Latitude (°N)']]\n",
    "sites_csv = 'NT2012_Table_3_lon_lat.csv'\n",
    "print('sites_csv = %s' % sites_csv)\n",
    "df_sites.to_csv(sites_csv, header=False, index=False, float_format='%g')"
   ]
  },
  {
   "cell_type": "code",
   "execution_count": 5,
   "metadata": {
    "collapsed": false
   },
   "outputs": [],
   "source": [
    "map_imts = ['PGA','SA(0.2)','SA(1.0)']\n",
    "map_tables = ['India_pga.csv','India_psa_pt2sec.csv','India_psa_1sec.csv']\n",
    "map_table_list = [os.path.join(nath_path, item) for item in map_tables]\n",
    "map_table_df_list = [pd.read_csv(file_name) for file_name in map_table_list]"
   ]
  },
  {
   "cell_type": "code",
   "execution_count": 6,
   "metadata": {
    "collapsed": false
   },
   "outputs": [
    {
     "name": "stdout",
     "output_type": "stream",
     "text": [
      "sites_csv = NT2012_Figure_7_Indian_subcontinent_lon_lat.csv\n"
     ]
    }
   ],
   "source": [
    "df_map = map_table_df_list[0][['lon', 'lat']]\n",
    "map_csv = 'NT2012_Figure_7_Indian_subcontinent_lon_lat.csv'\n",
    "print('sites_csv = %s' % map_csv)\n",
    "df_map.to_csv(map_csv, header=False, index=False, float_format='%g')"
   ]
  },
  {
   "cell_type": "markdown",
   "metadata": {},
   "source": [
    "Given an occurrence rate $\\lambda$ in a given time span $T_1$ and assuming a Poissonian process, the probability of one or more occurrences $P_1$ is\n",
    "\n",
    "$P_1 = 1 - e ^{-\\lambda T_1}$\n",
    "\n",
    "so given a probability of exceedence, we can compute the rate \n",
    "\n",
    "$\\lambda = \\frac{-1}{T_1} \\ln(1 - P_1)$\n",
    "\n",
    "and work out the probability of exceedence for a different time period.\n",
    "\n",
    "$P_2 = 1 - e ^{-\\lambda T_2}$\n"
   ]
  },
  {
   "cell_type": "code",
   "execution_count": 7,
   "metadata": {
    "collapsed": false
   },
   "outputs": [
    {
     "name": "stdout",
     "output_type": "stream",
     "text": [
      "investigation_time = 1\n",
      "poes = 0.002105 0.00040397\n",
      "['10% in 50y', '2% in 50y']\n"
     ]
    }
   ],
   "source": [
    "poes_nom = np.array([0.1, 0.02])\n",
    "T_nom = 50  # years\n",
    "rate = -np.log(1 - poes_nom)/float(T_nom)  # per year\n",
    "T_inv = 1  # year\n",
    "poes_inv = 1 - np.exp(-rate*T_inv)\n",
    "poe_labels = ['%g%% in %gy' % (100*poe, T_nom) for poe in poes_nom]\n",
    "\n",
    "print('investigation_time = %s' % str(T_inv))\n",
    "print('poes = %s' % ' '.join(['%.5g' % poe for poe in poes_inv]))\n",
    "print(poe_labels)"
   ]
  },
  {
   "cell_type": "code",
   "execution_count": 8,
   "metadata": {
    "collapsed": false
   },
   "outputs": [
    {
     "name": "stdout",
     "output_type": "stream",
     "text": [
      "intensity_measure_types_and_levels = {\"PGA\": [0.005, 0.01, 0.02, 0.05, 0.1, 0.2, 0.5, 1.0, 2.0], \"SA(0.2)\": [0.005, 0.01, 0.02, 0.05, 0.1, 0.2, 0.5, 1.0, 2.0], \"SA(1.0)\": [0.005, 0.01, 0.02, 0.05, 0.1, 0.2, 0.5, 1.0, 2.0]}\n"
     ]
    }
   ],
   "source": [
    "im_types = ['PGA', 'SA(0.2)', 'SA(1.0)']\n",
    "periods = tb.logspace(0.005, 4, 3)\n",
    "periods_string = ', '.join([str(T) for T in periods])\n",
    "\n",
    "print('intensity_measure_types_and_levels = {%s}' \n",
    "      % ', '.join(['\"%s\": [%s]' % (im_type, periods_string) \n",
    "                   for im_type in im_types]))"
   ]
  },
  {
   "cell_type": "code",
   "execution_count": 9,
   "metadata": {
    "collapsed": false
   },
   "outputs": [
    {
     "name": "stdout",
     "output_type": "stream",
     "text": [
      "n_gmpe_lt_rlzs = 3888\n",
      "n_src_lt_rlzs = 1\n",
      "n_lt_rlzs = 3888\n",
      "n_sites = 18\n",
      "n_imt_iml = 27\n",
      "n_curves = n_lt_rlzs*n_sites*n_imt_iml = 3888*18*27 = 1889568\n",
      "n_files = n_lt_rlzs*n_imt_iml = 3888*27 = 104976\n"
     ]
    }
   ],
   "source": [
    "# areal_only_no_fmd_uncertainty\n",
    "n_gmpe_lt_rlzs = 3*3*2*2*3*2*3*3*2\n",
    "print('n_gmpe_lt_rlzs = %d' % n_gmpe_lt_rlzs)\n",
    "n_src_lt_rlzs = 1\n",
    "print('n_src_lt_rlzs = %d' % n_src_lt_rlzs)\n",
    "n_lt_rlzs = n_gmpe_lt_rlzs*n_src_lt_rlzs\n",
    "print('n_lt_rlzs = %d' % n_lt_rlzs)\n",
    "n_sites = len(df_table3)\n",
    "print('n_sites = %d' % n_sites)\n",
    "n_imt_iml = len(im_types)*periods.size\n",
    "print('n_imt_iml = %d' % n_imt_iml)\n",
    "n_curves = n_lt_rlzs*n_sites*n_imt_iml\n",
    "print('n_curves = n_lt_rlzs*n_sites*n_imt_iml = %d*%d*%d = %d' %\n",
    "     (n_lt_rlzs, n_sites, n_imt_iml, n_curves))\n",
    "n_files = n_lt_rlzs*n_imt_iml\n",
    "print('n_files = n_lt_rlzs*n_imt_iml = %d*%d = %d' %\n",
    "     (n_lt_rlzs, n_imt_iml, n_files))"
   ]
  },
  {
   "cell_type": "code",
   "execution_count": 10,
   "metadata": {
    "collapsed": false
   },
   "outputs": [
    {
     "name": "stdout",
     "output_type": "stream",
     "text": [
      "n_gmpe_lt_rlzs = 3888\n",
      "n_src_lt_rlzs = 1\n",
      "n_lt_rlzs = 3888\n",
      "n_sites = 8102\n",
      "n_imt_iml = 3\n",
      "n_curves = n_lt_rlzs*n_sites*n_imt_iml = 3888*8102*3 = 94501728\n",
      "n_files = n_lt_rlzs*n_imt_iml = 3888*3 = 11664\n"
     ]
    }
   ],
   "source": [
    "# areal_only_no_fmd_uncertainty_map\n",
    "n_gmpe_lt_rlzs = 3*3*2*2*3*2*3*3*2\n",
    "print('n_gmpe_lt_rlzs = %d' % n_gmpe_lt_rlzs)\n",
    "n_src_lt_rlzs = 1\n",
    "print('n_src_lt_rlzs = %d' % n_src_lt_rlzs)\n",
    "n_lt_rlzs = n_gmpe_lt_rlzs*n_src_lt_rlzs\n",
    "print('n_lt_rlzs = %d' % n_lt_rlzs)\n",
    "n_sites = len(df_map)\n",
    "print('n_sites = %d' % n_sites)\n",
    "n_imt_iml = len(im_types)\n",
    "print('n_imt_iml = %d' % n_imt_iml)\n",
    "n_curves = n_lt_rlzs*n_sites*n_imt_iml\n",
    "print('n_curves = n_lt_rlzs*n_sites*n_imt_iml = %d*%d*%d = %d' %\n",
    "     (n_lt_rlzs, n_sites, n_imt_iml, n_curves))\n",
    "n_files = n_lt_rlzs*n_imt_iml\n",
    "print('n_files = n_lt_rlzs*n_imt_iml = %d*%d = %d' %\n",
    "     (n_lt_rlzs, n_imt_iml, n_files))"
   ]
  },
  {
   "cell_type": "markdown",
   "metadata": {
    "collapsed": true
   },
   "source": [
    "## Post-Processing"
   ]
  },
  {
   "cell_type": "code",
   "execution_count": 11,
   "metadata": {
    "collapsed": false
   },
   "outputs": [
    {
     "data": {
      "text/plain": [
       "['./collapsed/output/sharma_fixed/hazard_map-mean-0.002105-PGA_9640.xml',\n",
       " './collapsed/output/sharma_fixed/hazard_curve-mean_9640-SA(1.0).xml',\n",
       " './collapsed/output/sharma_fixed/hazard_map-mean-0.00040397-PGA_9640.xml',\n",
       " './collapsed/output/sharma_fixed/hazard_curve-mean_9640-PGA.xml',\n",
       " './collapsed/output/sharma_fixed/hazard_map-mean-0.00040397-SA(1.0)_9640.xml',\n",
       " './collapsed/output/sharma_fixed/hazard_map-mean-0.00040397-SA(0.2)_9640.xml',\n",
       " './collapsed/output/sharma_fixed/hazard_map-mean-0.002105-SA(1.0)_9640.xml',\n",
       " './collapsed/output/sharma_fixed/hazard_curve-mean_9640-SA(0.2).xml',\n",
       " './collapsed/output/sharma_fixed/hazard_map-mean-0.002105-SA(0.2)_9640.xml']"
      ]
     },
     "execution_count": 11,
     "metadata": {},
     "output_type": "execute_result"
    }
   ],
   "source": [
    "calc_id = 9640\n",
    "\n",
    "exported_files = [os.path.join(dir_path, f)\n",
    "    for dir_path, dirnames, files in os.walk('.')\n",
    "    for f in files if f.endswith('.xml') and '_%d' % calc_id in f]\n",
    "exported_files"
   ]
  },
  {
   "cell_type": "code",
   "execution_count": 12,
   "metadata": {
    "collapsed": false
   },
   "outputs": [
    {
     "data": {
      "text/plain": [
       "['./collapsed/output/sharma_fixed/hazard_curve-mean_9640-PGA.xml',\n",
       " './collapsed/output/sharma_fixed/hazard_curve-mean_9640-SA(0.2).xml',\n",
       " './collapsed/output/sharma_fixed/hazard_curve-mean_9640-SA(1.0).xml']"
      ]
     },
     "execution_count": 12,
     "metadata": {},
     "output_type": "execute_result"
    }
   ],
   "source": [
    "curve_keys = ['hazard_curve-', 'mean']\n",
    "curve_subset = sorted([item for item in exported_files if all(key in item for key in curve_keys)])\n",
    "curve_subset"
   ]
  },
  {
   "cell_type": "code",
   "execution_count": 13,
   "metadata": {
    "collapsed": false,
    "scrolled": true
   },
   "outputs": [
    {
     "data": {
      "image/png": "[encoded data removed]",
      "text/plain": [
       "<matplotlib.figure.Figure at 0x7f662ee3aed0>"
      ]
     },
     "metadata": {},
     "output_type": "display_data"
    }
   ],
   "source": [
    "plot_cities = np.array([['Bangalore', 'Bhuj', 'Chennai'],\n",
    "                        ['Guwahati', 'Jabalpur', 'Kolkata'],\n",
    "                        ['Koyna', 'Mumbai', 'New Delhi']])\n",
    "digitized_path = '../Data/nath2012probabilistic/Figure6'\n",
    "alpha = 1\n",
    "\n",
    "fig, axes = plt.subplots(plot_cities.shape[0], plot_cities.shape[1], \n",
    "                         figsize=(7, 7), sharex=True, sharey=True)\n",
    "fig.subplots_adjust(wspace=0, hspace=0)\n",
    "\n",
    "for file_name in curve_subset:\n",
    "    hcm = hcc.read_hazard_curves(file_name)\n",
    "    label = os.path.split(file_name)[1]\n",
    "    \n",
    "    if hcm['investigation_time'] != T_inv:\n",
    "        warnings.warn(\n",
    "            'Investigation time %g instead of expected %g' %\n",
    "            (hcm['investigation_time'], T_inv), UserWarning)\n",
    "    \n",
    "    if hcm['imt'] == 'PGV':\n",
    "        warnings.warn('IMT %s units not properly reflected in axis label.' % \n",
    "                      hcm['imt'], UserWarning)\n",
    "        \n",
    "    for row in hcm['curves']:\n",
    "        lon, lat = row[:2]\n",
    "        in_table3 = ((df_table3['Longitude (°E)'] == lon) & \n",
    "                     (df_table3['Latitude (°N)'] == lat))\n",
    "        \n",
    "        if any(in_table3):\n",
    "            city = df_table3.loc[in_table3, 'City'].values[0]\n",
    "        else:\n",
    "            print('Unknown site %g°N %g°E. Ignoring ...', (lat, lon))\n",
    "            continue\n",
    "            \n",
    "        if city in plot_cities:\n",
    "            ax = axes[plot_cities == city][0]\n",
    "            poes = row[2:]\n",
    "            trace = ax.semilogy(hcm[\"imls\"], poes, \n",
    "                                label=hcm['imt'], alpha=alpha)\n",
    "            \n",
    "            digitized_csv = '%s_%s.csv' % (city.replace(' ','_'), hcm['imt'])\n",
    "            digitized_full = os.path.join(digitized_path, digitized_csv)\n",
    "            if os.path.isfile(digitized_full):\n",
    "                data = np.genfromtxt(digitized_full, delimiter=',')\n",
    "                ax.plot(data[:, 0], data[:, 1], \n",
    "                        linestyle=':', alpha=alpha, color=trace[0].get_color())\n",
    "            else:\n",
    "                print('%s not found ...' % digitized_csv)\n",
    "\n",
    "# add reference curves and set limits\n",
    "for ax, city in zip(axes.ravel(), plot_cities.ravel()):\n",
    "    ax.set_xlim((0, 1))\n",
    "    ax.set_ylim((1e-4, 1e-1))\n",
    "    for prob, label, linestyle in zip(poes_inv, poe_labels, ['--', '-.', ':']):\n",
    "        ax.axhline(prob, label=label, color='0.7', linestyle=linestyle)\n",
    "        fig.sca(ax)\n",
    "        tb.annotate(city, loc='upper right')\n",
    "    \n",
    "axes[1,0].set_ylabel('Annual probability of exceedence')\n",
    "[ax.yaxis.get_major_ticks()[1].label.set_visible(False) for ax in axes[:-1,0]]\n",
    "axes[-1,1].set_xlabel('Ground Acceleration [g]')\n",
    "[ax.xaxis.get_major_ticks()[0].label.set_visible(False) for ax in axes[-1,1:]]\n",
    "leg = axes[0,-1].legend(loc='center right', frameon=True, fontsize='small', labelspacing=0.1)\n",
    "leg.get_frame().set_linewidth(0.0)\n",
    "\n",
    "figure_file = 'Figure_6_Reproduced'\n",
    "fig.savefig('%s.pdf' % figure_file, dpi=600, bbox_inches='tight')\n",
    "shutil.copyfile('%s.pdf' % figure_file, '%s_calc_%d.pdf' % (figure_file, calc_id))"
   ]
  },
  {
   "cell_type": "code",
   "execution_count": 34,
   "metadata": {
    "collapsed": false
   },
   "outputs": [
    {
     "data": {
      "text/plain": [
       "['./collapsed/output/sharma_fixed/hazard_map-mean-0.00040397-PGA_9640.csv',\n",
       " './collapsed/output/sharma_fixed/hazard_map-mean-0.00040397-SA(0.2)_9640.csv',\n",
       " './collapsed/output/sharma_fixed/hazard_map-mean-0.00040397-SA(1.0)_9640.csv',\n",
       " './collapsed/output/sharma_fixed/hazard_map-mean-0.002105-PGA_9640.csv',\n",
       " './collapsed/output/sharma_fixed/hazard_map-mean-0.002105-SA(0.2)_9640.csv',\n",
       " './collapsed/output/sharma_fixed/hazard_map-mean-0.002105-SA(1.0)_9640.csv']"
      ]
     },
     "execution_count": 34,
     "metadata": {},
     "output_type": "execute_result"
    }
   ],
   "source": [
    "map_keys = ['hazard_map', 'mean']\n",
    "map_subset = sorted([item for item in exported_files if all(key in item for key in map_keys)])\n",
    "map_csv_list = [hmc.save_hazard_map_to_csv(file_name, force_overwrite=True) for file_name in map_subset]\n",
    "map_csv_list"
   ]
  },
  {
   "cell_type": "code",
   "execution_count": 35,
   "metadata": {
    "collapsed": false
   },
   "outputs": [
    {
     "data": {
      "text/html": [
       "<div>\n",
       "<table border=\"1\" class=\"dataframe\">\n",
       "  <thead>\n",
       "    <tr style=\"text-align: right;\">\n",
       "      <th></th>\n",
       "      <th>City</th>\n",
       "      <th>Latitude [°N]</th>\n",
       "      <th>Longitude [°E]</th>\n",
       "      <th>NT2012 [g]</th>\n",
       "      <th>A2016 [g]</th>\n",
       "      <th>Error [g]</th>\n",
       "      <th>Error [%]</th>\n",
       "    </tr>\n",
       "  </thead>\n",
       "  <tbody>\n",
       "    <tr>\n",
       "      <th>15</th>\n",
       "      <td>Shillong</td>\n",
       "      <td>25.48</td>\n",
       "      <td>92.11</td>\n",
       "      <td>0.72</td>\n",
       "      <td>0.538</td>\n",
       "      <td>-0.18</td>\n",
       "      <td>-25</td>\n",
       "    </tr>\n",
       "    <tr>\n",
       "      <th>14</th>\n",
       "      <td>Port Blair</td>\n",
       "      <td>11.61</td>\n",
       "      <td>92.72</td>\n",
       "      <td>0.71</td>\n",
       "      <td>0.583</td>\n",
       "      <td>-0.13</td>\n",
       "      <td>-18</td>\n",
       "    </tr>\n",
       "    <tr>\n",
       "      <th>7</th>\n",
       "      <td>Imphal</td>\n",
       "      <td>24.78</td>\n",
       "      <td>93.94</td>\n",
       "      <td>0.68</td>\n",
       "      <td>0.636</td>\n",
       "      <td>-0.04</td>\n",
       "      <td>-6</td>\n",
       "    </tr>\n",
       "    <tr>\n",
       "      <th>5</th>\n",
       "      <td>Guwahati</td>\n",
       "      <td>26.18</td>\n",
       "      <td>91.73</td>\n",
       "      <td>0.66</td>\n",
       "      <td>0.562</td>\n",
       "      <td>-0.10</td>\n",
       "      <td>-15</td>\n",
       "    </tr>\n",
       "    <tr>\n",
       "      <th>4</th>\n",
       "      <td>Dehradun</td>\n",
       "      <td>30.33</td>\n",
       "      <td>78.04</td>\n",
       "      <td>0.47</td>\n",
       "      <td>0.393</td>\n",
       "      <td>-0.08</td>\n",
       "      <td>-16</td>\n",
       "    </tr>\n",
       "    <tr>\n",
       "      <th>10</th>\n",
       "      <td>Koyna</td>\n",
       "      <td>17.40</td>\n",
       "      <td>73.75</td>\n",
       "      <td>0.47</td>\n",
       "      <td>0.455</td>\n",
       "      <td>-0.02</td>\n",
       "      <td>-3</td>\n",
       "    </tr>\n",
       "    <tr>\n",
       "      <th>2</th>\n",
       "      <td>Bhuj</td>\n",
       "      <td>23.25</td>\n",
       "      <td>69.66</td>\n",
       "      <td>0.42</td>\n",
       "      <td>0.337</td>\n",
       "      <td>-0.08</td>\n",
       "      <td>-20</td>\n",
       "    </tr>\n",
       "    <tr>\n",
       "      <th>16</th>\n",
       "      <td>Srinagar</td>\n",
       "      <td>34.08</td>\n",
       "      <td>74.80</td>\n",
       "      <td>0.33</td>\n",
       "      <td>0.417</td>\n",
       "      <td>0.09</td>\n",
       "      <td>26</td>\n",
       "    </tr>\n",
       "    <tr>\n",
       "      <th>12</th>\n",
       "      <td>New Delhi</td>\n",
       "      <td>28.56</td>\n",
       "      <td>77.11</td>\n",
       "      <td>0.24</td>\n",
       "      <td>0.232</td>\n",
       "      <td>-0.01</td>\n",
       "      <td>-3</td>\n",
       "    </tr>\n",
       "    <tr>\n",
       "      <th>8</th>\n",
       "      <td>Jabalpur</td>\n",
       "      <td>23.20</td>\n",
       "      <td>79.95</td>\n",
       "      <td>0.19</td>\n",
       "      <td>0.099</td>\n",
       "      <td>-0.09</td>\n",
       "      <td>-48</td>\n",
       "    </tr>\n",
       "    <tr>\n",
       "      <th>11</th>\n",
       "      <td>Mumbai</td>\n",
       "      <td>19.11</td>\n",
       "      <td>72.85</td>\n",
       "      <td>0.16</td>\n",
       "      <td>0.110</td>\n",
       "      <td>-0.05</td>\n",
       "      <td>-31</td>\n",
       "    </tr>\n",
       "    <tr>\n",
       "      <th>9</th>\n",
       "      <td>Kolkata</td>\n",
       "      <td>22.65</td>\n",
       "      <td>88.45</td>\n",
       "      <td>0.15</td>\n",
       "      <td>0.102</td>\n",
       "      <td>-0.05</td>\n",
       "      <td>-32</td>\n",
       "    </tr>\n",
       "    <tr>\n",
       "      <th>13</th>\n",
       "      <td>Patna</td>\n",
       "      <td>25.60</td>\n",
       "      <td>85.10</td>\n",
       "      <td>0.13</td>\n",
       "      <td>0.085</td>\n",
       "      <td>-0.04</td>\n",
       "      <td>-35</td>\n",
       "    </tr>\n",
       "    <tr>\n",
       "      <th>3</th>\n",
       "      <td>Chennai</td>\n",
       "      <td>13.00</td>\n",
       "      <td>80.18</td>\n",
       "      <td>0.12</td>\n",
       "      <td>0.086</td>\n",
       "      <td>-0.03</td>\n",
       "      <td>-29</td>\n",
       "    </tr>\n",
       "    <tr>\n",
       "      <th>0</th>\n",
       "      <td>Ahmedabad</td>\n",
       "      <td>23.03</td>\n",
       "      <td>72.61</td>\n",
       "      <td>0.11</td>\n",
       "      <td>0.062</td>\n",
       "      <td>-0.05</td>\n",
       "      <td>-43</td>\n",
       "    </tr>\n",
       "    <tr>\n",
       "      <th>1</th>\n",
       "      <td>Bangalore</td>\n",
       "      <td>12.98</td>\n",
       "      <td>77.58</td>\n",
       "      <td>0.11</td>\n",
       "      <td>0.097</td>\n",
       "      <td>-0.01</td>\n",
       "      <td>-12</td>\n",
       "    </tr>\n",
       "    <tr>\n",
       "      <th>6</th>\n",
       "      <td>Hyderabad</td>\n",
       "      <td>17.45</td>\n",
       "      <td>78.46</td>\n",
       "      <td>0.09</td>\n",
       "      <td>0.061</td>\n",
       "      <td>-0.03</td>\n",
       "      <td>-32</td>\n",
       "    </tr>\n",
       "    <tr>\n",
       "      <th>17</th>\n",
       "      <td>Thiruvananthapuram</td>\n",
       "      <td>8.50</td>\n",
       "      <td>76.95</td>\n",
       "      <td>0.07</td>\n",
       "      <td>0.037</td>\n",
       "      <td>-0.03</td>\n",
       "      <td>-47</td>\n",
       "    </tr>\n",
       "  </tbody>\n",
       "</table>\n",
       "</div>"
      ],
      "text/plain": [
       "                  City  Latitude [°N]  Longitude [°E]  NT2012 [g]  A2016 [g]  \\\n",
       "15            Shillong          25.48           92.11        0.72      0.538   \n",
       "14          Port Blair          11.61           92.72        0.71      0.583   \n",
       "7               Imphal          24.78           93.94        0.68      0.636   \n",
       "5             Guwahati          26.18           91.73        0.66      0.562   \n",
       "4             Dehradun          30.33           78.04        0.47      0.393   \n",
       "10               Koyna          17.40           73.75        0.47      0.455   \n",
       "2                 Bhuj          23.25           69.66        0.42      0.337   \n",
       "16            Srinagar          34.08           74.80        0.33      0.417   \n",
       "12           New Delhi          28.56           77.11        0.24      0.232   \n",
       "8             Jabalpur          23.20           79.95        0.19      0.099   \n",
       "11              Mumbai          19.11           72.85        0.16      0.110   \n",
       "9              Kolkata          22.65           88.45        0.15      0.102   \n",
       "13               Patna          25.60           85.10        0.13      0.085   \n",
       "3              Chennai          13.00           80.18        0.12      0.086   \n",
       "0            Ahmedabad          23.03           72.61        0.11      0.062   \n",
       "1            Bangalore          12.98           77.58        0.11      0.097   \n",
       "6            Hyderabad          17.45           78.46        0.09      0.061   \n",
       "17  Thiruvananthapuram           8.50           76.95        0.07      0.037   \n",
       "\n",
       "    Error [g]  Error [%]  \n",
       "15      -0.18        -25  \n",
       "14      -0.13        -18  \n",
       "7       -0.04         -6  \n",
       "5       -0.10        -15  \n",
       "4       -0.08        -16  \n",
       "10      -0.02         -3  \n",
       "2       -0.08        -20  \n",
       "16       0.09         26  \n",
       "12      -0.01         -3  \n",
       "8       -0.09        -48  \n",
       "11      -0.05        -31  \n",
       "9       -0.05        -32  \n",
       "13      -0.04        -35  \n",
       "3       -0.03        -29  \n",
       "0       -0.05        -43  \n",
       "1       -0.01        -12  \n",
       "6       -0.03        -32  \n",
       "17      -0.03        -47  "
      ]
     },
     "metadata": {},
     "output_type": "display_data"
    }
   ],
   "source": [
    "poes_table = 0.1\n",
    "poes_string = '%.5g' % poes_inv[np.argmin(np.abs(poes_nom - poes_table))]\n",
    "imt_string = 'PGA'\n",
    "for map_csv in map_csv_list:\n",
    "    if (poes_string in map_csv) and (imt_string in map_csv):\n",
    "        break\n",
    "df_pga = pd.read_csv(map_csv, header=1)\n",
    "\n",
    "df_compare = pd.merge(df_table3, df_pga, left_on = 'Longitude (°E)', right_on = 'lon')\n",
    "drop_cols = ['BIS','zone','GSHAP','Other','Reference','lon','lat']\n",
    "df_compare.drop(drop_cols, axis=1, inplace=True)\n",
    "df_compare.rename(columns={'Present': 'NT2012 [g]', 'iml': 'A2016 [g]'}, inplace=True)\n",
    "df_compare.rename(columns={'Longitude (°E)': 'Longitude [°E]', 'Latitude (°N)': 'Latitude [°N]'}, inplace=True)\n",
    "df_compare['Error [g]'] = (df_compare['A2016 [g]'] - df_compare['NT2012 [g]']).round(2)\n",
    "df_compare['Error [%]'] = (100*(df_compare['A2016 [g]']/df_compare['NT2012 [g]'] - 1)).round()\n",
    "df_compare['A2016 [g]'] = df_compare['A2016 [g]'].round(3)\n",
    "df_compare.sort(columns='NT2012 [g]', ascending=False, inplace=True)\n",
    "display(df_compare)\n",
    "\n",
    "df_compare.columns = pd.MultiIndex.from_tuples([tuple(item.split()) for item in df_compare.columns])\n",
    "table_file = 'Table_3_Reproduced'\n",
    "with codecs.open('%s.tex' % table_file, 'w', 'utf-8') as file_object:\n",
    "    df_compare.to_latex(file_object, index=False)\n",
    "shutil.copyfile('%s.tex' % table_file, '%s_calc_%d.tex' % (table_file, calc_id))"
   ]
  },
  {
   "cell_type": "code",
   "execution_count": 17,
   "metadata": {
    "collapsed": false
   },
   "outputs": [
    {
     "data": {
      "text/plain": [
       "0.36363636363636365"
      ]
     },
     "execution_count": 17,
     "metadata": {},
     "output_type": "execute_result"
    }
   ],
   "source": [
    "(200/10)/55."
   ]
  },
  {
   "cell_type": "code",
   "execution_count": null,
   "metadata": {
    "collapsed": true
   },
   "outputs": [],
   "source": []
  }
 ],
 "metadata": {
  "kernelspec": {
   "display_name": "Python 2",
   "language": "python",
   "name": "python2"
  },
  "language_info": {
   "codemirror_mode": {
    "name": "ipython",
    "version": 2
   },
   "file_extension": ".py",
   "mimetype": "text/x-python",
   "name": "python",
   "nbconvert_exporter": "python",
   "pygments_lexer": "ipython2",
   "version": "2.7.11"
  }
 },
 "nbformat": 4,
 "nbformat_minor": 0
}
