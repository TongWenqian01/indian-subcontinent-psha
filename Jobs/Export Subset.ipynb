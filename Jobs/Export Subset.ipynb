{
 "cells": [
  {
   "cell_type": "markdown",
   "metadata": {},
   "source": [
    "# Export Subset of OpenQuake Results\n",
    "\n",
    "Sometimes `--export-outputs` produces way too much data, and it's handy to zip up the result.\n",
    "\n",
    "*Note that this script must be run from a notebook/jupyter environment run from a terminal in a python 2.7 environment. Switching kernels is not enough.*"
   ]
  },
  {
   "cell_type": "code",
   "execution_count": 7,
   "metadata": {
    "collapsed": true
   },
   "outputs": [],
   "source": [
    "import os\n",
    "import sys\n",
    "import tarfile\n",
    "import subprocess"
   ]
  },
  {
   "cell_type": "code",
   "execution_count": 8,
   "metadata": {
    "collapsed": false
   },
   "outputs": [],
   "source": [
    "# configuration\n",
    "CALC_ID = 123\n",
    "export_dir = '../HazardOutputs'\n",
    "result_dir = os.path.join(export_dir, 'calc_%d' % CALC_ID)\n",
    "all_outputs_file = os.path.join(result_dir, 'all_outputs.txt')\n",
    "output_keywords = ['Hazard Curves', 'Hazard Curve (multiple imts)',\n",
    "                   'Hazard Map', 'UHS']\n",
    "type_keywords = ['mean', 'quantile']"
   ]
  },
  {
   "cell_type": "code",
   "execution_count": 9,
   "metadata": {
    "collapsed": true
   },
   "outputs": [],
   "source": [
    "if not os.path.exists(export_dir):\n",
    "    os.mkdir(export_dir)\n",
    "if not os.path.exists(result_dir):\n",
    "    os.mkdir(result_dir)"
   ]
  },
  {
   "cell_type": "code",
   "execution_count": 10,
   "metadata": {
    "collapsed": false
   },
   "outputs": [
    {
     "name": "stdout",
     "output_type": "stream",
     "text": [
      "Listing outputs with \"oq-engine --list-outputs 123 > ../HazardOutputs/calc_123/all_outputs.txt\"\n"
     ]
    }
   ],
   "source": [
    "# generate listing of available results\n",
    "command = ['oq-engine', '--list-outputs', str(CALC_ID)]\n",
    "print('Listing outputs with \"%s > %s\"' \n",
    "      % (' '.join(command), all_outputs_file))\n",
    "sys.stdout.flush()\n",
    "with open(all_outputs_file, 'w') as lho_file:\n",
    "    subprocess.call(command, stdout=lho_file, stderr=subprocess.STDOUT)"
   ]
  },
  {
   "cell_type": "code",
   "execution_count": 11,
   "metadata": {
    "collapsed": false
   },
   "outputs": [
    {
     "name": "stdout",
     "output_type": "stream",
     "text": [
      "id | output_type | name\n",
      "87262 | Hazard Curve | Mean Hazard Curves PGA\n",
      "87263 | Hazard Curve | Mean Hazard Curves SA(0.2)\n",
      "87264 | Hazard Curve | Mean Hazard Curves SA(1.0)\n",
      "87261 | Hazard Curve (multiple imts) | mean-curves-multi-imt\n",
      "110594 | Hazard Map | Mean Hazard map(0.00040397) PGA\n",
      "110596 | Hazard Map | Mean Hazard map(0.00040397) SA(0.2)\n",
      "110598 | Hazard Map | Mean Hazard map(0.00040397) SA(1.0)\n",
      "110593 | Hazard Map | Mean Hazard map(0.002105) PGA\n",
      "110595 | Hazard Map | Mean Hazard map(0.002105) SA(0.2)\n",
      "110597 | Hazard Map | Mean Hazard map(0.002105) SA(1.0)\n",
      "Exported 10 out of 38890 results\n"
     ]
    }
   ],
   "source": [
    "# export results of interest\n",
    "exported_files = []\n",
    "n_exported, n_results = 0, 0\n",
    "with open(all_outputs_file, 'r') as lho_file:\n",
    "    for line in lho_file:\n",
    "        try:\n",
    "            result_id = int(line.split()[0])\n",
    "            n_results += 1\n",
    "        except ValueError:\n",
    "            print line.strip()\n",
    "            continue\n",
    "        \n",
    "        is_output = any([key.lower() in line.lower() \n",
    "                         for key in output_keywords])\n",
    "        is_type = any([key.lower() in line.lower() \n",
    "                       for key in type_keywords])\n",
    "        if is_output and is_type:\n",
    "            print line.strip()\n",
    "            sys.stdout.flush()\n",
    "            command = ['oq-engine', '--export-output', \n",
    "                       str(result_id), export_dir]\n",
    "            pipes = subprocess.Popen(command, \n",
    "                                     stdout=subprocess.PIPE, \n",
    "                                     stderr=subprocess.PIPE)\n",
    "            std_out, std_err = pipes.communicate()\n",
    "            if pipes.returncode != 0:\n",
    "                err_msg = \"%s\\nReturn Code: %s\" % (std_err.strip(), \n",
    "                                                   pipes.returncode)\n",
    "                raise Exception(err_msg)\n",
    "            elif len(std_err):\n",
    "                print(std_err.strip())\n",
    "            \n",
    "            exported_file = std_out.replace('File Exported:','').strip()\n",
    "            exported_files.append(os.path.relpath(exported_file))\n",
    "\n",
    "print('Exported %d out of %d results' % (len(exported_files), n_results))"
   ]
  },
  {
   "cell_type": "code",
   "execution_count": 12,
   "metadata": {
    "collapsed": false
   },
   "outputs": [
    {
     "name": "stdout",
     "output_type": "stream",
     "text": [
      "Compressing: tar -hzcvf \"../HazardOutputs/calc_123.tar.gz\" \"../HazardOutputs/calc_123\"\n"
     ]
    }
   ],
   "source": [
    "print('Compressing: tar -hzcvf \"%s.tar.gz\" \"%s\"' % \n",
    "      (result_dir, result_dir))\n",
    "with tarfile.open(result_dir + '.tar.gz', 'w:gz') as tar:\n",
    "    tar.add(result_dir, arcname=os.path.split(result_dir)[1])"
   ]
  },
  {
   "cell_type": "code",
   "execution_count": null,
   "metadata": {
    "collapsed": true
   },
   "outputs": [],
   "source": []
  }
 ],
 "metadata": {
  "kernelspec": {
   "display_name": "Python 2",
   "language": "python",
   "name": "python2"
  },
  "language_info": {
   "codemirror_mode": {
    "name": "ipython",
    "version": 2
   },
   "file_extension": ".py",
   "mimetype": "text/x-python",
   "name": "python",
   "nbconvert_exporter": "python",
   "pygments_lexer": "ipython2",
   "version": "2.7.11"
  }
 },
 "nbformat": 4,
 "nbformat_minor": 0
}
