{
 "cells": [
  {
   "cell_type": "markdown",
   "metadata": {},
   "source": [
    "# Export Subset of OpenQuake Results\n",
    "\n",
    "Sometimes `--export-outputs` produces way too much data, and it's handy to zip up the result."
   ]
  },
  {
   "cell_type": "code",
   "execution_count": 3,
   "metadata": {
    "collapsed": true
   },
   "outputs": [],
   "source": [
    "import os\n",
    "import sys\n",
    "import tarfile\n",
    "import subprocess"
   ]
  },
  {
   "cell_type": "code",
   "execution_count": 4,
   "metadata": {
    "collapsed": false
   },
   "outputs": [],
   "source": [
    "# configuration\n",
    "CALC_ID = 111\n",
    "export_dir = '../HazardOutputs'\n",
    "result_dir = os.path.join(export_dir, 'calc_%d' % CALC_ID)\n",
    "all_outputs_file = os.path.join(result_dir, 'all_outputs.txt')\n",
    "output_keywords = ['Hazard Curves', 'Hazard Curve (multiple imts)',\n",
    "                   'Hazard Map', 'UHS']\n",
    "type_keywords = ['mean', 'quantile']"
   ]
  },
  {
   "cell_type": "code",
   "execution_count": 5,
   "metadata": {
    "collapsed": false
   },
   "outputs": [
    {
     "name": "stdout",
     "output_type": "stream",
     "text": [
      "Listing outputs with \"oq-engine --lo 111 > ../HazardOutputs/calc_111/all_outputs.txt\"\n"
     ]
    }
   ],
   "source": [
    "# generate listing of available results\n",
    "command = ['oq-engine', '--lo', str(CALC_ID)]\n",
    "print('Listing outputs with \"%s > %s\"' \n",
    "      % (' '.join(command), all_outputs_file))\n",
    "sys.stdout.flush()\n",
    "with open(all_outputs_file, 'w') as lho_file:\n",
    "    subprocess.call(command, stdout=lho_file, stderr=subprocess.STDOUT)"
   ]
  },
  {
   "cell_type": "code",
   "execution_count": 6,
   "metadata": {
    "collapsed": false
   },
   "outputs": [
    {
     "name": "stdout",
     "output_type": "stream",
     "text": [
      "id | output_type | name\n",
      "17250 | Hazard Curve | 0.01 quantile Hazard Curves PGA\n",
      "17254 | Hazard Curve | 0.01 quantile Hazard Curves SA(0.2)\n",
      "17258 | Hazard Curve | 0.01 quantile Hazard Curves SA(1.0)\n",
      "17251 | Hazard Curve | 0.5 quantile Hazard Curves PGA\n",
      "17255 | Hazard Curve | 0.5 quantile Hazard Curves SA(0.2)\n",
      "17259 | Hazard Curve | 0.5 quantile Hazard Curves SA(1.0)\n",
      "17252 | Hazard Curve | 0.99 quantile Hazard Curves PGA\n",
      "17256 | Hazard Curve | 0.99 quantile Hazard Curves SA(0.2)\n",
      "17260 | Hazard Curve | 0.99 quantile Hazard Curves SA(1.0)\n",
      "17249 | Hazard Curve | Mean Hazard Curves PGA\n",
      "17253 | Hazard Curve | Mean Hazard Curves SA(0.2)\n",
      "17257 | Hazard Curve | Mean Hazard Curves SA(1.0)\n",
      "17245 | Hazard Curve (multiple imts) | mean-curves-multi-imt\n",
      "17246 | Hazard Curve (multiple imts) | quantile(0.01)-curves\n",
      "17247 | Hazard Curve (multiple imts) | quantile(0.5)-curves\n",
      "17248 | Hazard Curve (multiple imts) | quantile(0.99)-curves\n",
      "28926 | Hazard Map | 0.01 Quantile Hazard Map(0.00210499170414) PGA\n",
      "28930 | Hazard Map | 0.01 Quantile Hazard Map(0.00210499170414) SA(0.2)\n",
      "28934 | Hazard Map | 0.01 Quantile Hazard Map(0.00210499170414) SA(1.0)\n",
      "28927 | Hazard Map | 0.5 Quantile Hazard Map(0.00210499170414) PGA\n",
      "28931 | Hazard Map | 0.5 Quantile Hazard Map(0.00210499170414) SA(0.2)\n",
      "28935 | Hazard Map | 0.5 Quantile Hazard Map(0.00210499170414) SA(1.0)\n",
      "28928 | Hazard Map | 0.99 Quantile Hazard Map(0.00210499170414) PGA\n",
      "28932 | Hazard Map | 0.99 Quantile Hazard Map(0.00210499170414) SA(0.2)\n",
      "28936 | Hazard Map | 0.99 Quantile Hazard Map(0.00210499170414) SA(1.0)\n",
      "28925 | Hazard Map | Mean Hazard map(0.00210499170414) PGA\n",
      "28929 | Hazard Map | Mean Hazard map(0.00210499170414) SA(0.2)\n",
      "28933 | Hazard Map | Mean Hazard map(0.00210499170414) SA(1.0)\n",
      "28938 | Uniform Hazard Spectra | 0.01 Quantile UHS (0.00210499170414)\n",
      "28939 | Uniform Hazard Spectra | 0.5 Quantile UHS (0.00210499170414)\n",
      "28940 | Uniform Hazard Spectra | 0.99 Quantile UHS (0.00210499170414)\n",
      "28937 | Uniform Hazard Spectra | Mean UHS (0.00210499170414)\n",
      "Exported 32 out of 31136 results\n"
     ]
    }
   ],
   "source": [
    "# export results of interest\n",
    "exported_files = []\n",
    "n_exported, n_results = 0, 0\n",
    "with open(all_outputs_file, 'r') as lho_file:\n",
    "    for line in lho_file:\n",
    "        try:\n",
    "            result_id = int(line.split()[0])\n",
    "            n_results += 1\n",
    "        except ValueError:\n",
    "            print line.strip()\n",
    "            continue\n",
    "        \n",
    "        is_output = any([key.lower() in line.lower() \n",
    "                         for key in output_keywords])\n",
    "        is_type = any([key.lower() in line.lower() \n",
    "                       for key in type_keywords])\n",
    "        if is_output and is_type:\n",
    "            print line.strip()\n",
    "            sys.stdout.flush()\n",
    "            command = ['oq-engine', '--eo', str(result_id), export_dir]\n",
    "            pipes = subprocess.Popen(command, \n",
    "                                     stdout=subprocess.PIPE, \n",
    "                                     stderr=subprocess.PIPE)\n",
    "            std_out, std_err = pipes.communicate()\n",
    "            if pipes.returncode != 0:\n",
    "                err_msg = \"%s\\nReturn Code: %s\" % (std_err.strip(), \n",
    "                                                   pipes.returncode)\n",
    "                raise Exception(err_msg)\n",
    "            elif len(std_err):\n",
    "                print(std_err.strip())\n",
    "            \n",
    "            exported_file = std_out.replace('File Exported:','').strip()\n",
    "            exported_files.append(os.path.relpath(exported_file))\n",
    "\n",
    "print('Exported %d out of %d results' % (len(exported_files), n_results))"
   ]
  },
  {
   "cell_type": "code",
   "execution_count": 7,
   "metadata": {
    "collapsed": false
   },
   "outputs": [
    {
     "name": "stdout",
     "output_type": "stream",
     "text": [
      "Compressing: tar -hzcvf \"../HazardOutputs/calc_111.tar.gz\" \"../HazardOutputs/calc_111\"\n"
     ]
    }
   ],
   "source": [
    "print('Compressing: tar -hzcvf \"%s.tar.gz\" \"%s\"' % \n",
    "      (result_dir, result_dir))\n",
    "with tarfile.open(result_dir + '.tar.gz', 'w:gz') as tar:\n",
    "    tar.add(result_dir, arcname=os.path.split(result_dir)[1])"
   ]
  },
  {
   "cell_type": "code",
   "execution_count": null,
   "metadata": {
    "collapsed": true
   },
   "outputs": [],
   "source": []
  }
 ],
 "metadata": {
  "kernelspec": {
   "display_name": "Python 2",
   "language": "python",
   "name": "python2"
  },
  "language_info": {
   "codemirror_mode": {
    "name": "ipython",
    "version": 2
   },
   "file_extension": ".py",
   "mimetype": "text/x-python",
   "name": "python",
   "nbconvert_exporter": "python",
   "pygments_lexer": "ipython2",
   "version": "2.7.11"
  }
 },
 "nbformat": 4,
 "nbformat_minor": 0
}
