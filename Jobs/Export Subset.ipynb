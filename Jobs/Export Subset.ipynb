{
 "cells": [
  {
   "cell_type": "markdown",
   "metadata": {},
   "source": [
    "# Export Subset of OpenQuake Results\n",
    "\n",
    "Sometimes `--export-outputs` produces way too much data, and it's handy to zip up the result.\n",
    "\n",
    "*Note that this script must be run from a notebook/jupyter environment run from a terminal in a python 2.7 environment. Switching kernels is not enough.*"
   ]
  },
  {
   "cell_type": "code",
   "execution_count": 6,
   "metadata": {
    "collapsed": true
   },
   "outputs": [],
   "source": [
    "import os\n",
    "import sys\n",
    "import tarfile\n",
    "import subprocess"
   ]
  },
  {
   "cell_type": "code",
   "execution_count": 7,
   "metadata": {
    "collapsed": false
   },
   "outputs": [],
   "source": [
    "# configuration\n",
    "CALC_ID = 111\n",
    "export_dir = '../HazardOutputs'\n",
    "result_dir = os.path.join(export_dir, 'calc_%d' % CALC_ID)\n",
    "all_outputs_file = os.path.join(result_dir, 'all_outputs.txt')\n",
    "output_keywords = ['Hazard Curves', 'Hazard Curve (multiple imts)',\n",
    "                   'Hazard Map', 'UHS']\n",
    "type_keywords = ['mean', 'quantile']"
   ]
  },
  {
   "cell_type": "code",
   "execution_count": 8,
   "metadata": {
    "collapsed": true
   },
   "outputs": [],
   "source": [
    "if not os.path.exists(export_dir):\n",
    "    os.mkdir(export_dir)\n",
    "if not os.path.exists(result_dir):\n",
    "    os.mkdir(result_dir)"
   ]
  },
  {
   "cell_type": "code",
   "execution_count": 9,
   "metadata": {
    "collapsed": false
   },
   "outputs": [
    {
     "name": "stdout",
     "output_type": "stream",
     "text": [
      "Listing outputs with \"oq-engine --list-outputs 111 > ../HazardOutputs/calc_111/all_outputs.txt\"\n"
     ]
    }
   ],
   "source": [
    "# generate listing of available results\n",
    "command = ['oq-engine', '--list-outputs', str(CALC_ID)]\n",
    "print('Listing outputs with \"%s > %s\"' \n",
    "      % (' '.join(command), all_outputs_file))\n",
    "sys.stdout.flush()\n",
    "with open(all_outputs_file, 'w') as lho_file:\n",
    "    subprocess.call(command, stdout=lho_file, stderr=subprocess.STDOUT)"
   ]
  },
  {
   "cell_type": "code",
   "execution_count": 14,
   "metadata": {
    "collapsed": false
   },
   "outputs": [
    {
     "name": "stdout",
     "output_type": "stream",
     "text": [
      "id | output_type | name\n",
      "17250 | Hazard Curve | 0.01 quantile Hazard Curves PGA\n",
      "\n",
      "\"oq-engine --export-outputs 17250 ../HazardOutputs\" failed\n",
      "Found nothing to export for job 17250\n",
      "Return Code: 1\n",
      "\n",
      "17254 | Hazard Curve | 0.01 quantile Hazard Curves SA(0.2)\n",
      "\n",
      "\"oq-engine --export-outputs 17254 ../HazardOutputs\" failed\n",
      "Found nothing to export for job 17254\n",
      "Return Code: 1\n",
      "\n",
      "17258 | Hazard Curve | 0.01 quantile Hazard Curves SA(1.0)\n",
      "\n",
      "\"oq-engine --export-outputs 17258 ../HazardOutputs\" failed\n",
      "Found nothing to export for job 17258\n",
      "Return Code: 1\n",
      "\n",
      "17251 | Hazard Curve | 0.5 quantile Hazard Curves PGA\n",
      "\n",
      "\"oq-engine --export-outputs 17251 ../HazardOutputs\" failed\n",
      "Found nothing to export for job 17251\n",
      "Return Code: 1\n",
      "\n",
      "17255 | Hazard Curve | 0.5 quantile Hazard Curves SA(0.2)\n",
      "\n",
      "\"oq-engine --export-outputs 17255 ../HazardOutputs\" failed\n",
      "Found nothing to export for job 17255\n",
      "Return Code: 1\n",
      "\n",
      "17259 | Hazard Curve | 0.5 quantile Hazard Curves SA(1.0)\n",
      "\n",
      "\"oq-engine --export-outputs 17259 ../HazardOutputs\" failed\n",
      "Found nothing to export for job 17259\n",
      "Return Code: 1\n",
      "\n",
      "17252 | Hazard Curve | 0.99 quantile Hazard Curves PGA\n"
     ]
    },
    {
     "ename": "KeyboardInterrupt",
     "evalue": "",
     "output_type": "error",
     "traceback": [
      "\u001b[1;31m---------------------------------------------------------------------------\u001b[0m",
      "\u001b[1;31mKeyboardInterrupt\u001b[0m                         Traceback (most recent call last)",
      "\u001b[1;32m<ipython-input-14-e90f40ecd74c>\u001b[0m in \u001b[0;36m<module>\u001b[1;34m()\u001b[0m\n\u001b[0;32m     23\u001b[0m                                      \u001b[0mstdout\u001b[0m\u001b[1;33m=\u001b[0m\u001b[0msubprocess\u001b[0m\u001b[1;33m.\u001b[0m\u001b[0mPIPE\u001b[0m\u001b[1;33m,\u001b[0m\u001b[1;33m\u001b[0m\u001b[0m\n\u001b[0;32m     24\u001b[0m                                      stderr=subprocess.PIPE)\n\u001b[1;32m---> 25\u001b[1;33m             \u001b[0mstd_out\u001b[0m\u001b[1;33m,\u001b[0m \u001b[0mstd_err\u001b[0m \u001b[1;33m=\u001b[0m \u001b[0mpipes\u001b[0m\u001b[1;33m.\u001b[0m\u001b[0mcommunicate\u001b[0m\u001b[1;33m(\u001b[0m\u001b[1;33m)\u001b[0m\u001b[1;33m\u001b[0m\u001b[0m\n\u001b[0m\u001b[0;32m     26\u001b[0m             \u001b[1;32mif\u001b[0m \u001b[0mpipes\u001b[0m\u001b[1;33m.\u001b[0m\u001b[0mreturncode\u001b[0m \u001b[1;33m!=\u001b[0m \u001b[1;36m0\u001b[0m\u001b[1;33m:\u001b[0m\u001b[1;33m\u001b[0m\u001b[0m\n\u001b[0;32m     27\u001b[0m                 \u001b[1;32mprint\u001b[0m\u001b[1;33m\u001b[0m\u001b[0m\n",
      "\u001b[1;32m/usr/local/src/python/anaconda3/envs/py27/lib/python2.7/subprocess.pyc\u001b[0m in \u001b[0;36mcommunicate\u001b[1;34m(self, input)\u001b[0m\n\u001b[0;32m    797\u001b[0m             \u001b[1;32mreturn\u001b[0m \u001b[1;33m(\u001b[0m\u001b[0mstdout\u001b[0m\u001b[1;33m,\u001b[0m \u001b[0mstderr\u001b[0m\u001b[1;33m)\u001b[0m\u001b[1;33m\u001b[0m\u001b[0m\n\u001b[0;32m    798\u001b[0m \u001b[1;33m\u001b[0m\u001b[0m\n\u001b[1;32m--> 799\u001b[1;33m         \u001b[1;32mreturn\u001b[0m \u001b[0mself\u001b[0m\u001b[1;33m.\u001b[0m\u001b[0m_communicate\u001b[0m\u001b[1;33m(\u001b[0m\u001b[0minput\u001b[0m\u001b[1;33m)\u001b[0m\u001b[1;33m\u001b[0m\u001b[0m\n\u001b[0m\u001b[0;32m    800\u001b[0m \u001b[1;33m\u001b[0m\u001b[0m\n\u001b[0;32m    801\u001b[0m \u001b[1;33m\u001b[0m\u001b[0m\n",
      "\u001b[1;32m/usr/local/src/python/anaconda3/envs/py27/lib/python2.7/subprocess.pyc\u001b[0m in \u001b[0;36m_communicate\u001b[1;34m(self, input)\u001b[0m\n\u001b[0;32m   1407\u001b[0m \u001b[1;33m\u001b[0m\u001b[0m\n\u001b[0;32m   1408\u001b[0m             \u001b[1;32mif\u001b[0m \u001b[0m_has_poll\u001b[0m\u001b[1;33m:\u001b[0m\u001b[1;33m\u001b[0m\u001b[0m\n\u001b[1;32m-> 1409\u001b[1;33m                 \u001b[0mstdout\u001b[0m\u001b[1;33m,\u001b[0m \u001b[0mstderr\u001b[0m \u001b[1;33m=\u001b[0m \u001b[0mself\u001b[0m\u001b[1;33m.\u001b[0m\u001b[0m_communicate_with_poll\u001b[0m\u001b[1;33m(\u001b[0m\u001b[0minput\u001b[0m\u001b[1;33m)\u001b[0m\u001b[1;33m\u001b[0m\u001b[0m\n\u001b[0m\u001b[0;32m   1410\u001b[0m             \u001b[1;32melse\u001b[0m\u001b[1;33m:\u001b[0m\u001b[1;33m\u001b[0m\u001b[0m\n\u001b[0;32m   1411\u001b[0m                 \u001b[0mstdout\u001b[0m\u001b[1;33m,\u001b[0m \u001b[0mstderr\u001b[0m \u001b[1;33m=\u001b[0m \u001b[0mself\u001b[0m\u001b[1;33m.\u001b[0m\u001b[0m_communicate_with_select\u001b[0m\u001b[1;33m(\u001b[0m\u001b[0minput\u001b[0m\u001b[1;33m)\u001b[0m\u001b[1;33m\u001b[0m\u001b[0m\n",
      "\u001b[1;32m/usr/local/src/python/anaconda3/envs/py27/lib/python2.7/subprocess.pyc\u001b[0m in \u001b[0;36m_communicate_with_poll\u001b[1;34m(self, input)\u001b[0m\n\u001b[0;32m   1461\u001b[0m             \u001b[1;32mwhile\u001b[0m \u001b[0mfd2file\u001b[0m\u001b[1;33m:\u001b[0m\u001b[1;33m\u001b[0m\u001b[0m\n\u001b[0;32m   1462\u001b[0m                 \u001b[1;32mtry\u001b[0m\u001b[1;33m:\u001b[0m\u001b[1;33m\u001b[0m\u001b[0m\n\u001b[1;32m-> 1463\u001b[1;33m                     \u001b[0mready\u001b[0m \u001b[1;33m=\u001b[0m \u001b[0mpoller\u001b[0m\u001b[1;33m.\u001b[0m\u001b[0mpoll\u001b[0m\u001b[1;33m(\u001b[0m\u001b[1;33m)\u001b[0m\u001b[1;33m\u001b[0m\u001b[0m\n\u001b[0m\u001b[0;32m   1464\u001b[0m                 \u001b[1;32mexcept\u001b[0m \u001b[0mselect\u001b[0m\u001b[1;33m.\u001b[0m\u001b[0merror\u001b[0m\u001b[1;33m,\u001b[0m \u001b[0me\u001b[0m\u001b[1;33m:\u001b[0m\u001b[1;33m\u001b[0m\u001b[0m\n\u001b[0;32m   1465\u001b[0m                     \u001b[1;32mif\u001b[0m \u001b[0me\u001b[0m\u001b[1;33m.\u001b[0m\u001b[0margs\u001b[0m\u001b[1;33m[\u001b[0m\u001b[1;36m0\u001b[0m\u001b[1;33m]\u001b[0m \u001b[1;33m==\u001b[0m \u001b[0merrno\u001b[0m\u001b[1;33m.\u001b[0m\u001b[0mEINTR\u001b[0m\u001b[1;33m:\u001b[0m\u001b[1;33m\u001b[0m\u001b[0m\n",
      "\u001b[1;31mKeyboardInterrupt\u001b[0m: "
     ]
    }
   ],
   "source": [
    "# export results of interest\n",
    "exported_files = []\n",
    "n_exported, n_results = 0, 0\n",
    "with open(all_outputs_file, 'r') as lho_file:\n",
    "    for line in lho_file:\n",
    "        try:\n",
    "            result_id = int(line.split()[0])\n",
    "            n_results += 1\n",
    "        except ValueError:\n",
    "            print line.strip()\n",
    "            continue\n",
    "        \n",
    "        is_output = any([key.lower() in line.lower() \n",
    "                         for key in output_keywords])\n",
    "        is_type = any([key.lower() in line.lower() \n",
    "                       for key in type_keywords])\n",
    "        if is_output and is_type:\n",
    "            print line.strip()\n",
    "            sys.stdout.flush()\n",
    "            command = ['oq-engine', '--export-output', \n",
    "                       str(result_id), export_dir]\n",
    "            pipes = subprocess.Popen(command, \n",
    "                                     stdout=subprocess.PIPE, \n",
    "                                     stderr=subprocess.PIPE)\n",
    "            std_out, std_err = pipes.communicate()\n",
    "            if pipes.returncode != 0:\n",
    "                print\n",
    "                print('\"%s\" failed' % (' '.join(command)))\n",
    "                err_msg = \"%s\\nReturn Code: %s\" % (std_err.strip(), \n",
    "                                                   pipes.returncode)\n",
    "                print(err_msg)\n",
    "                print\n",
    "                continue\n",
    "                \n",
    "            elif len(std_err):\n",
    "                print(std_err.strip())\n",
    "            \n",
    "            exported_file = std_out.replace('File Exported:','').strip()\n",
    "            exported_files.append(os.path.relpath(exported_file))\n",
    "\n",
    "print('Exported %d out of %d results' % (len(exported_files), n_results))"
   ]
  },
  {
   "cell_type": "code",
   "execution_count": null,
   "metadata": {
    "collapsed": false
   },
   "outputs": [],
   "source": [
    "print('Compressing: tar -hzcvf \"%s.tar.gz\" \"%s\"' % \n",
    "      (result_dir, result_dir))\n",
    "with tarfile.open(result_dir + '.tar.gz', 'w:gz') as tar:\n",
    "    tar.add(result_dir, arcname=os.path.split(result_dir)[1])"
   ]
  },
  {
   "cell_type": "code",
   "execution_count": null,
   "metadata": {
    "collapsed": true
   },
   "outputs": [],
   "source": []
  }
 ],
 "metadata": {
  "kernelspec": {
   "display_name": "Python 2",
   "language": "python",
   "name": "python2"
  },
  "language_info": {
   "codemirror_mode": {
    "name": "ipython",
    "version": 2
   },
   "file_extension": ".py",
   "mimetype": "text/x-python",
   "name": "python",
   "nbconvert_exporter": "python",
   "pygments_lexer": "ipython2",
   "version": "2.7.11"
  }
 },
 "nbformat": 4,
 "nbformat_minor": 0
}
