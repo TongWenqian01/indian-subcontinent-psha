{
 "cells": [
  {
   "cell_type": "markdown",
   "metadata": {},
   "source": [
    "# Job setup for Nath & Thingbaijam (2012)\n",
    "\n",
    "Mostly minor reformatting."
   ]
  },
  {
   "cell_type": "code",
   "execution_count": 61,
   "metadata": {
    "collapsed": false
   },
   "outputs": [],
   "source": [
    "import numpy as np\n",
    "import scipy as sp\n",
    "import pandas as pd\n",
    "import toolbox as tb"
   ]
  },
  {
   "cell_type": "code",
   "execution_count": 11,
   "metadata": {
    "collapsed": false
   },
   "outputs": [],
   "source": [
    "df_table3 = pd.read_csv('nath2012probabilistic/Table 3.csv', skiprows=1)"
   ]
  },
  {
   "cell_type": "code",
   "execution_count": 63,
   "metadata": {
    "collapsed": false
   },
   "outputs": [
    {
     "data": {
      "text/html": [
       "<div>\n",
       "<table border=\"1\" class=\"dataframe\">\n",
       "  <thead>\n",
       "    <tr style=\"text-align: right;\">\n",
       "      <th></th>\n",
       "      <th>City</th>\n",
       "      <th>Latitude (°N)</th>\n",
       "      <th>Longitude (°E)</th>\n",
       "      <th>BIS</th>\n",
       "      <th>zone</th>\n",
       "      <th>GSHAP</th>\n",
       "      <th>Present</th>\n",
       "      <th>Other</th>\n",
       "      <th>Reference</th>\n",
       "    </tr>\n",
       "  </thead>\n",
       "  <tbody>\n",
       "    <tr>\n",
       "      <th>0</th>\n",
       "      <td>Ahmedabad</td>\n",
       "      <td>23.03</td>\n",
       "      <td>72.61</td>\n",
       "      <td>0.08</td>\n",
       "      <td>III</td>\n",
       "      <td>0.05</td>\n",
       "      <td>0.11</td>\n",
       "      <td>0.10</td>\n",
       "      <td>Jaiswal and Sinha 2007†</td>\n",
       "    </tr>\n",
       "    <tr>\n",
       "      <th>1</th>\n",
       "      <td>Bangalore</td>\n",
       "      <td>12.98</td>\n",
       "      <td>77.58</td>\n",
       "      <td>0.05</td>\n",
       "      <td>II</td>\n",
       "      <td>0.05</td>\n",
       "      <td>0.11</td>\n",
       "      <td>0.10; 0.15</td>\n",
       "      <td>Jaiswal and Sinha 2007†; Anbazhagan et al. 2009</td>\n",
       "    </tr>\n",
       "    <tr>\n",
       "      <th>2</th>\n",
       "      <td>Bhuj</td>\n",
       "      <td>23.25</td>\n",
       "      <td>69.66</td>\n",
       "      <td>0.18</td>\n",
       "      <td>V</td>\n",
       "      <td>0.20</td>\n",
       "      <td>0.42</td>\n",
       "      <td>0.25; 0.20-0.70</td>\n",
       "      <td>Jaiswal and Sinha 2007†; Petersen et al. 2004‡</td>\n",
       "    </tr>\n",
       "    <tr>\n",
       "      <th>3</th>\n",
       "      <td>Chennai</td>\n",
       "      <td>13.00</td>\n",
       "      <td>80.18</td>\n",
       "      <td>0.08</td>\n",
       "      <td>III</td>\n",
       "      <td>0.05</td>\n",
       "      <td>0.12</td>\n",
       "      <td>0.089; 0.10</td>\n",
       "      <td>Menon et al. 2010; Jaiswal and Sinha 2007†</td>\n",
       "    </tr>\n",
       "    <tr>\n",
       "      <th>4</th>\n",
       "      <td>Dehradun</td>\n",
       "      <td>30.33</td>\n",
       "      <td>78.04</td>\n",
       "      <td>0.12</td>\n",
       "      <td>IV</td>\n",
       "      <td>0.30</td>\n",
       "      <td>0.47</td>\n",
       "      <td>0.45</td>\n",
       "      <td>Mahajan et al. 2010</td>\n",
       "    </tr>\n",
       "    <tr>\n",
       "      <th>5</th>\n",
       "      <td>Guwahati</td>\n",
       "      <td>26.18</td>\n",
       "      <td>91.73</td>\n",
       "      <td>0.18</td>\n",
       "      <td>V</td>\n",
       "      <td>0.30</td>\n",
       "      <td>0.66</td>\n",
       "      <td>0.50</td>\n",
       "      <td>Sharma and Malik 2006</td>\n",
       "    </tr>\n",
       "    <tr>\n",
       "      <th>6</th>\n",
       "      <td>Hyderabad</td>\n",
       "      <td>17.45</td>\n",
       "      <td>78.46</td>\n",
       "      <td>0.05</td>\n",
       "      <td>II</td>\n",
       "      <td>0.05</td>\n",
       "      <td>0.09</td>\n",
       "      <td>0.08</td>\n",
       "      <td>Jaiswal and Sinha 2007†</td>\n",
       "    </tr>\n",
       "    <tr>\n",
       "      <th>7</th>\n",
       "      <td>Imphal</td>\n",
       "      <td>24.78</td>\n",
       "      <td>93.94</td>\n",
       "      <td>0.18</td>\n",
       "      <td>V</td>\n",
       "      <td>0.45</td>\n",
       "      <td>0.68</td>\n",
       "      <td>0.50</td>\n",
       "      <td>Sharma and Malik 2006</td>\n",
       "    </tr>\n",
       "    <tr>\n",
       "      <th>8</th>\n",
       "      <td>Jabalpur</td>\n",
       "      <td>23.20</td>\n",
       "      <td>79.95</td>\n",
       "      <td>0.08</td>\n",
       "      <td>III</td>\n",
       "      <td>0.10</td>\n",
       "      <td>0.19</td>\n",
       "      <td>0.15</td>\n",
       "      <td>Jaiswal and Sinha 2007†</td>\n",
       "    </tr>\n",
       "    <tr>\n",
       "      <th>9</th>\n",
       "      <td>Kolkata</td>\n",
       "      <td>22.65</td>\n",
       "      <td>88.45</td>\n",
       "      <td>0.08</td>\n",
       "      <td>III</td>\n",
       "      <td>0.10</td>\n",
       "      <td>0.15</td>\n",
       "      <td>0.10</td>\n",
       "      <td>Jaiswal and Sinha 2007†</td>\n",
       "    </tr>\n",
       "    <tr>\n",
       "      <th>10</th>\n",
       "      <td>Koyna</td>\n",
       "      <td>17.40</td>\n",
       "      <td>73.75</td>\n",
       "      <td>0.12</td>\n",
       "      <td>IV</td>\n",
       "      <td>0.25</td>\n",
       "      <td>0.47</td>\n",
       "      <td>0.25</td>\n",
       "      <td>Jaiswal and Sinha 2007†</td>\n",
       "    </tr>\n",
       "    <tr>\n",
       "      <th>11</th>\n",
       "      <td>Mumbai</td>\n",
       "      <td>19.11</td>\n",
       "      <td>72.85</td>\n",
       "      <td>0.08</td>\n",
       "      <td>III</td>\n",
       "      <td>0.10</td>\n",
       "      <td>0.16</td>\n",
       "      <td>0.15</td>\n",
       "      <td>Jaiswal and Sinha 2007†</td>\n",
       "    </tr>\n",
       "    <tr>\n",
       "      <th>12</th>\n",
       "      <td>New Delhi</td>\n",
       "      <td>28.56</td>\n",
       "      <td>77.11</td>\n",
       "      <td>0.12</td>\n",
       "      <td>IV</td>\n",
       "      <td>0.15</td>\n",
       "      <td>0.24</td>\n",
       "      <td>NaN</td>\n",
       "      <td>NaN</td>\n",
       "    </tr>\n",
       "    <tr>\n",
       "      <th>13</th>\n",
       "      <td>Patna</td>\n",
       "      <td>25.60</td>\n",
       "      <td>85.10</td>\n",
       "      <td>0.12</td>\n",
       "      <td>IV</td>\n",
       "      <td>0.05</td>\n",
       "      <td>0.13</td>\n",
       "      <td>NaN</td>\n",
       "      <td>NaN</td>\n",
       "    </tr>\n",
       "    <tr>\n",
       "      <th>14</th>\n",
       "      <td>Port Blair</td>\n",
       "      <td>11.61</td>\n",
       "      <td>92.72</td>\n",
       "      <td>0.18</td>\n",
       "      <td>V</td>\n",
       "      <td>0.25</td>\n",
       "      <td>0.71</td>\n",
       "      <td>NaN</td>\n",
       "      <td>NaN</td>\n",
       "    </tr>\n",
       "    <tr>\n",
       "      <th>15</th>\n",
       "      <td>Shillong</td>\n",
       "      <td>25.48</td>\n",
       "      <td>92.11</td>\n",
       "      <td>0.18</td>\n",
       "      <td>V</td>\n",
       "      <td>0.30</td>\n",
       "      <td>0.72</td>\n",
       "      <td>0.45</td>\n",
       "      <td>Sharma and Malik 2006</td>\n",
       "    </tr>\n",
       "    <tr>\n",
       "      <th>16</th>\n",
       "      <td>Srinagar</td>\n",
       "      <td>34.08</td>\n",
       "      <td>74.80</td>\n",
       "      <td>0.18</td>\n",
       "      <td>V</td>\n",
       "      <td>0.25</td>\n",
       "      <td>0.33</td>\n",
       "      <td>NaN</td>\n",
       "      <td>NaN</td>\n",
       "    </tr>\n",
       "    <tr>\n",
       "      <th>17</th>\n",
       "      <td>Thiruvananthapuram</td>\n",
       "      <td>8.50</td>\n",
       "      <td>76.95</td>\n",
       "      <td>0.08</td>\n",
       "      <td>III</td>\n",
       "      <td>0.05</td>\n",
       "      <td>0.07</td>\n",
       "      <td>NaN</td>\n",
       "      <td>NaN</td>\n",
       "    </tr>\n",
       "  </tbody>\n",
       "</table>\n",
       "</div>"
      ],
      "text/plain": [
       "                  City  Latitude (°N)  Longitude (°E)   BIS zone  GSHAP  \\\n",
       "0            Ahmedabad          23.03           72.61  0.08  III   0.05   \n",
       "1            Bangalore          12.98           77.58  0.05   II   0.05   \n",
       "2                 Bhuj          23.25           69.66  0.18    V   0.20   \n",
       "3              Chennai          13.00           80.18  0.08  III   0.05   \n",
       "4             Dehradun          30.33           78.04  0.12   IV   0.30   \n",
       "5             Guwahati          26.18           91.73  0.18    V   0.30   \n",
       "6            Hyderabad          17.45           78.46  0.05   II   0.05   \n",
       "7               Imphal          24.78           93.94  0.18    V   0.45   \n",
       "8             Jabalpur          23.20           79.95  0.08  III   0.10   \n",
       "9              Kolkata          22.65           88.45  0.08  III   0.10   \n",
       "10               Koyna          17.40           73.75  0.12   IV   0.25   \n",
       "11              Mumbai          19.11           72.85  0.08  III   0.10   \n",
       "12           New Delhi          28.56           77.11  0.12   IV   0.15   \n",
       "13               Patna          25.60           85.10  0.12   IV   0.05   \n",
       "14          Port Blair          11.61           92.72  0.18    V   0.25   \n",
       "15            Shillong          25.48           92.11  0.18    V   0.30   \n",
       "16            Srinagar          34.08           74.80  0.18    V   0.25   \n",
       "17  Thiruvananthapuram           8.50           76.95  0.08  III   0.05   \n",
       "\n",
       "    Present            Other                                        Reference  \n",
       "0      0.11             0.10                          Jaiswal and Sinha 2007†  \n",
       "1      0.11       0.10; 0.15  Jaiswal and Sinha 2007†; Anbazhagan et al. 2009  \n",
       "2      0.42  0.25; 0.20-0.70   Jaiswal and Sinha 2007†; Petersen et al. 2004‡  \n",
       "3      0.12      0.089; 0.10       Menon et al. 2010; Jaiswal and Sinha 2007†  \n",
       "4      0.47             0.45                              Mahajan et al. 2010  \n",
       "5      0.66             0.50                            Sharma and Malik 2006  \n",
       "6      0.09             0.08                          Jaiswal and Sinha 2007†  \n",
       "7      0.68             0.50                            Sharma and Malik 2006  \n",
       "8      0.19             0.15                          Jaiswal and Sinha 2007†  \n",
       "9      0.15             0.10                          Jaiswal and Sinha 2007†  \n",
       "10     0.47             0.25                          Jaiswal and Sinha 2007†  \n",
       "11     0.16             0.15                          Jaiswal and Sinha 2007†  \n",
       "12     0.24              NaN                                              NaN  \n",
       "13     0.13              NaN                                              NaN  \n",
       "14     0.71              NaN                                              NaN  \n",
       "15     0.72             0.45                            Sharma and Malik 2006  \n",
       "16     0.33              NaN                                              NaN  \n",
       "17     0.07              NaN                                              NaN  "
      ]
     },
     "execution_count": 63,
     "metadata": {},
     "output_type": "execute_result"
    }
   ],
   "source": [
    "df_table3"
   ]
  },
  {
   "cell_type": "code",
   "execution_count": 19,
   "metadata": {
    "collapsed": false
   },
   "outputs": [
    {
     "data": {
      "text/plain": [
       "['Latitude (\\xc2\\xb0N)', 'Longitude (\\xc2\\xb0E)']"
      ]
     },
     "execution_count": 19,
     "metadata": {},
     "output_type": "execute_result"
    }
   ],
   "source": [
    "[row for row in df_table3[['Latitude (°N)', 'Longitude (°E)']]]"
   ]
  },
  {
   "cell_type": "code",
   "execution_count": 39,
   "metadata": {
    "collapsed": false
   },
   "outputs": [
    {
     "name": "stdout",
     "output_type": "stream",
     "text": [
      "sites = 72.61 23.03, 77.58 12.98, 69.66 23.25, 80.18 13.0, 78.04 30.33, 91.73 26.18, 78.46 17.45, 93.94 24.78, 79.95 23.2, 88.45 22.65, 73.75 17.4, 72.85 19.11, 77.11 28.56, 85.1 25.6, 92.72 11.61, 92.11 25.48, 74.8 34.08, 76.95 8.5\n"
     ]
    }
   ],
   "source": [
    "data = np.array(df_table3[['Latitude (°N)', 'Longitude (°E)']])\n",
    "print('sites = %s' % ', '.join([' '.join([str(lon), str(lat)]) for lat, lon in data]))"
   ]
  },
  {
   "cell_type": "markdown",
   "metadata": {},
   "source": [
    "Given an occurrence rate $\\lambda$ in a given time span $T_1$ the probability of one or more occurrences $P_1$ is\n",
    "\n",
    "$P_1 = 1 - e ^{-\\lambda T_1}$\n",
    "\n",
    "so given a probability of exceedence, we can compute the rate \n",
    "\n",
    "$\\lambda = \\frac{-1}{T_1} \\ln(1 - P_1)$\n",
    "\n",
    "and work out the probability of exceedence for a different time period.\n",
    "\n",
    "$P_2 = 1 - e ^{-\\lambda T_2}$\n"
   ]
  },
  {
   "cell_type": "code",
   "execution_count": 93,
   "metadata": {
    "collapsed": false
   },
   "outputs": [
    {
     "name": "stdout",
     "output_type": "stream",
     "text": [
      "investigation_time = 1.0\n",
      "poes = 0.00210499170414 0.000403972527467\n"
     ]
    }
   ],
   "source": [
    "P_1 = np.array([0.1, 0.02])\n",
    "T_1 = 50  # years\n",
    "rate = -np.log(1 - P_1)/T_1  # per year\n",
    "T_2 = 1.  # year\n",
    "P_2 = P_2 = 1 - np.exp(-rate*T_2)\n",
    "\n",
    "print('investigation_time = %s' % str(T_2))\n",
    "print('poes = %s' % ' '.join([str(P) for P in P_2]))"
   ]
  },
  {
   "cell_type": "code",
   "execution_count": 83,
   "metadata": {
    "collapsed": false
   },
   "outputs": [
    {
     "name": "stdout",
     "output_type": "stream",
     "text": [
      "intensity_measure_types_and_levels = {\"PGA\": [0.005, 0.01, 0.02, 0.05, 0.1, 0.2, 0.5, 1.0, 2.0], \"SA(0.2)\": [0.005, 0.01, 0.02, 0.05, 0.1, 0.2, 0.5, 1.0, 2.0], \"SA(1.0)\": [0.005, 0.01, 0.02, 0.05, 0.1, 0.2, 0.5, 1.0, 2.0]}\n"
     ]
    }
   ],
   "source": [
    "im_types = ['PGA', 'SA(0.2)', 'SA(1.0)']\n",
    "periods = tb.logspace(0.005, 4, 3)\n",
    "periods_string = ', '.join([str(T) for T in periods])\n",
    "\n",
    "print('intensity_measure_types_and_levels = {%s}' \n",
    "      % ', '.join(['\"%s\": [%s]' % (im_type, periods_string) \n",
    "                   for im_type in im_types]))"
   ]
  },
  {
   "cell_type": "code",
   "execution_count": null,
   "metadata": {
    "collapsed": true
   },
   "outputs": [],
   "source": []
  }
 ],
 "metadata": {
  "kernelspec": {
   "display_name": "Python 2",
   "language": "python",
   "name": "python2"
  },
  "language_info": {
   "codemirror_mode": {
    "name": "ipython",
    "version": 2
   },
   "file_extension": ".py",
   "mimetype": "text/x-python",
   "name": "python",
   "nbconvert_exporter": "python",
   "pygments_lexer": "ipython2",
   "version": "2.7.11"
  }
 },
 "nbformat": 4,
 "nbformat_minor": 0
}
